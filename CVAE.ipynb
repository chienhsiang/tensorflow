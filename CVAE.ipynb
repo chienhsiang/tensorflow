{
 "cells": [
  {
   "cell_type": "code",
   "execution_count": 2,
   "metadata": {},
   "outputs": [],
   "source": [
    "from __future__ import print_function, absolute_import, division\n",
    "\n",
    "import tensorflow as tf\n",
    "\n",
    "tfe = tf.contrib.eager\n",
    "tf.enable_eager_execution()\n",
    "\n",
    "import os\n",
    "import time\n",
    "import numpy as np\n",
    "import glob\n",
    "import matplotlib.pyplot as plt\n",
    "import PIL\n",
    "import imageio\n",
    "from IPython import display"
   ]
  },
  {
   "cell_type": "markdown",
   "metadata": {},
   "source": [
    "# Load MNIST data"
   ]
  },
  {
   "cell_type": "code",
   "execution_count": 8,
   "metadata": {},
   "outputs": [
    {
     "name": "stdout",
     "output_type": "stream",
     "text": [
      "(60000, 28, 28) (10000, 28, 28)\n"
     ]
    }
   ],
   "source": [
    "# 1. Load data\n",
    "(train_images, _), (test_images, _) = tf.keras.datasets.mnist.load_data()\n",
    "\n",
    "#print(train_images.shape, test_images.shape)\n",
    "\n",
    "# 2. Reshape into n-by-28-28-1\n",
    "train_images = train_images.reshape(train_images.shape[0], 28, 28, 1).astype('float32')\n",
    "test_images = test_images.reshape(test_images.shape[0], 28, 28, 1).astype('float32')\n",
    "\n",
    "#print(train_images.shape, test_images.shape)\n",
    "\n",
    "# 3. Normalize the intensity into [0, 1]\n",
    "train_images /= 255.\n",
    "test_images /=  255.\n",
    "\n",
    "# 4. Binarize\n",
    "train_images[train_images >= 0.5] = 1.\n",
    "train_images[train_images < 0.5] = 0.\n",
    "test_images[test_images >= 0.5] = 1.\n",
    "test_images[test_images < 0.5] = 0.\n"
   ]
  },
  {
   "cell_type": "code",
   "execution_count": 12,
   "metadata": {},
   "outputs": [],
   "source": [
    "TRAIN_BUFF = 60000\n",
    "BATCH_SIZE = 100\n",
    "TEST_BUFF = 10000"
   ]
  },
  {
   "cell_type": "markdown",
   "metadata": {},
   "source": [
    "# Create Dataset"
   ]
  },
  {
   "cell_type": "code",
   "execution_count": 13,
   "metadata": {},
   "outputs": [],
   "source": [
    "train_dataset = tf.data.Dataset.from_tensor_slices(train_images).shuffle(TRAIN_BUFF).batch(BATCH_SIZE)\n",
    "test_dataset = tf.data.Dataset.from_tensor_slices(test_images).shuffle(TEST_BUFF).batch(BATCH_SIZE)"
   ]
  },
  {
   "cell_type": "markdown",
   "metadata": {},
   "source": [
    "# Build a convolution VAE  model"
   ]
  },
  {
   "cell_type": "code",
   "execution_count": 35,
   "metadata": {},
   "outputs": [],
   "source": [
    "class CVAE(tf.keras.Model):\n",
    "    def __init__(self, latent_dim):\n",
    "        super(CVAE, self).__init__()\n",
    "        self.latent_dim = latent_dim\n",
    "        \n",
    "        # inference net\n",
    "        self.inference_net = tf.keras.Sequential([\n",
    "            tf.keras.layers.InputLayer(input_shape=(28, 28, 1)),\n",
    "            tf.keras.layers.Conv2D(32, kernel_size=(3, 3), strides=(2, 2), activation='relu'),\n",
    "            tf.keras.layers.Conv2D(64, kernel_size=(3, 3), strides=(2, 2), activation='relu'),\n",
    "            tf.keras.layers.Flatten(),\n",
    "            tf.keras.layers.Dense(2 * latent_dim)\n",
    "        ])\n",
    "        \n",
    "        # generative net\n",
    "        self.generative_net = tf.keras.Sequential([\n",
    "            tf.keras.layers.InputLayer(input_shape=(latent_dim,)),\n",
    "            tf.keras.layers.Dense(7*7*32, activation='relu'),\n",
    "            tf.keras.layers.Reshape(target_shape=(7, 7, 32)),\n",
    "            tf.keras.layers.Conv2DTranspose(64, kernel_size=(3, 3), strides=(2, 2), \n",
    "                                            padding='SAME', activation='relu'),\n",
    "            tf.keras.layers.Conv2DTranspose(32, kernel_size=(3, 3), strides=(2, 2),\n",
    "                                            padding='SAME', activation='relu'),\n",
    "            tf.keras.layers.Conv2DTranspose(1, kernel_size=(3, 3), strides=(1, 1), padding='SAME')\n",
    "        ])\n",
    "        \n",
    "        def sample(self, eps=None):\n",
    "            if eps == None:\n",
    "                eps = tf.random_normal(shape=(100, self.latent_dim))\n",
    "            return self.decode(eps, apply_sigmoid=True)\n",
    "        \n",
    "        def encode(self, x):\n",
    "            mean, logvar = tf.split(self.inference_net(x), num_or_size_splits=2, axis=1)\n",
    "            return mean, logvar\n",
    "        \n",
    "        def reparameterize(self, mean, logvar):\n",
    "            eps = tf.random_normal(shape=mean.shape)\n",
    "            return eps * tf.exp(logvar * 0.5) + mean\n",
    "        \n",
    "        def decode(self, z, apply_sigmoid=False):\n",
    "            logits = self.generative_net(z)\n",
    "            if apply_sigmoid:\n",
    "                return tf.sigmoid(logits)\n",
    "            return logits        "
   ]
  },
  {
   "cell_type": "markdown",
   "metadata": {},
   "source": [
    "# Define loss and optimizer"
   ]
  },
  {
   "cell_type": "code",
   "execution_count": null,
   "metadata": {},
   "outputs": [],
   "source": [
    "tf.losses.sigmoid_cross_entropy()"
   ]
  },
  {
   "cell_type": "code",
   "execution_count": 33,
   "metadata": {},
   "outputs": [
    {
     "name": "stdout",
     "output_type": "stream",
     "text": [
      "tf.Tensor(\n",
      "[[ 0.04974003  1.879085   -1.6373792  -0.8047549  -1.6680679  -1.7090809\n",
      "   0.1803183   1.4117349 ]\n",
      " [ 0.8699547  -0.879452    1.5379285   0.9367092  -1.2001451  -1.6544592\n",
      "  -1.884405   -0.3977359 ]\n",
      " [ 0.041895   -0.0760288  -0.08455824 -1.1129953  -1.2623453   0.7881292\n",
      "   1.0732952  -0.65369636]\n",
      " [-0.66194594 -1.2186763   1.9461879   0.8346287  -1.3878553   0.613098\n",
      "  -1.9747087  -2.2258372 ]\n",
      " [-0.5341543   1.1518692  -1.5466375   0.8781498   0.46751708  0.10178968\n",
      "   0.8567726  -0.5413133 ]], shape=(5, 8), dtype=float32)\n"
     ]
    },
    {
     "data": {
      "text/plain": [
       "[<tf.Tensor: id=391, shape=(5, 4), dtype=float32, numpy=\n",
       " array([[ 0.04974003,  1.879085  , -1.6373792 , -0.8047549 ],\n",
       "        [ 0.8699547 , -0.879452  ,  1.5379285 ,  0.9367092 ],\n",
       "        [ 0.041895  , -0.0760288 , -0.08455824, -1.1129953 ],\n",
       "        [-0.66194594, -1.2186763 ,  1.9461879 ,  0.8346287 ],\n",
       "        [-0.5341543 ,  1.1518692 , -1.5466375 ,  0.8781498 ]],\n",
       "       dtype=float32)>, <tf.Tensor: id=392, shape=(5, 4), dtype=float32, numpy=\n",
       " array([[-1.6680679 , -1.7090809 ,  0.1803183 ,  1.4117349 ],\n",
       "        [-1.2001451 , -1.6544592 , -1.884405  , -0.3977359 ],\n",
       "        [-1.2623453 ,  0.7881292 ,  1.0732952 , -0.65369636],\n",
       "        [-1.3878553 ,  0.613098  , -1.9747087 , -2.2258372 ],\n",
       "        [ 0.46751708,  0.10178968,  0.8567726 , -0.5413133 ]],\n",
       "       dtype=float32)>]"
      ]
     },
     "execution_count": 33,
     "metadata": {},
     "output_type": "execute_result"
    }
   ],
   "source": [
    "x = tf.random_normal((5,8))\n",
    "print(x)\n",
    "tf.split(x,num_or_size_splits=2, axis=1)"
   ]
  },
  {
   "cell_type": "code",
   "execution_count": null,
   "metadata": {},
   "outputs": [],
   "source": [
    "\n",
    "\n",
    "\n",
    "\n",
    "\n",
    "\n",
    "\n",
    "\n",
    "\n",
    "\n",
    "\n",
    "\n",
    "\n",
    "\n",
    "\n",
    "\n",
    "\n",
    "\n",
    "\n",
    "\n",
    "\n",
    "\n",
    "\n",
    "\n",
    "\n"
   ]
  }
 ],
 "metadata": {
  "kernelspec": {
   "display_name": "Python 3",
   "language": "python",
   "name": "python3"
  },
  "language_info": {
   "codemirror_mode": {
    "name": "ipython",
    "version": 3
   },
   "file_extension": ".py",
   "mimetype": "text/x-python",
   "name": "python",
   "nbconvert_exporter": "python",
   "pygments_lexer": "ipython3",
   "version": "3.6.8"
  }
 },
 "nbformat": 4,
 "nbformat_minor": 2
}
