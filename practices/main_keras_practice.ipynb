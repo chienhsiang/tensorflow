{
 "cells": [
  {
   "cell_type": "markdown",
   "metadata": {},
   "source": [
    "# First practice"
   ]
  },
  {
   "cell_type": "code",
   "execution_count": null,
   "metadata": {},
   "outputs": [],
   "source": [
    "import tensorflow as tf\n",
    "\n",
    "mnist = tf.keras.datasets.mnist\n",
    "\n",
    "(x_train, y_train), (x_test, y_test) = mnist.load_data()\n",
    "x_train, x_test = x_train/255.0, x_test/255.0\n",
    "x_train.shape\n",
    "\n",
    "model = tf.keras.models.Sequential([\n",
    "    tf.keras.layers.Flatten(input_shape=(28,28)),\n",
    "    tf.keras.layers.Dense(512, activation=tf.nn.relu),\n",
    "    tf.keras.layers.Dropout(0.2),\n",
    "    tf.keras.layers.Dense(10, activation=tf.nn.softmax)\n",
    "])\n",
    "\n",
    "model.summary()\n",
    "\n",
    "model.compile(optimizer='adam',\n",
    "             loss='sparse_categorical_crossentropy',\n",
    "             metrics=['accuracy'])\n",
    "\n",
    "model.fit(x_train, y_train, epochs=5)\n",
    "model.evaluate(x_test, y_test)\n",
    "model.metrics_names"
   ]
  },
  {
   "cell_type": "markdown",
   "metadata": {},
   "source": [
    "# Basic classification"
   ]
  },
  {
   "cell_type": "code",
   "execution_count": null,
   "metadata": {},
   "outputs": [],
   "source": [
    "import tensorflow as tf\n",
    "from tensorflow import keras\n",
    "\n",
    "import numpy as np\n",
    "import matplotlib.pyplot as plt\n",
    "\n",
    "print(tf.__version__)"
   ]
  },
  {
   "cell_type": "code",
   "execution_count": null,
   "metadata": {},
   "outputs": [],
   "source": [
    "# load fashion mnist \n",
    "fashion_mnist = keras.datasets.mnist # fashion_mnist.load_data() does not exist for r1.5\n",
    "(train_images, train_labels), (test_images, test_labels) = fashion_mnist.load_data()"
   ]
  },
  {
   "cell_type": "code",
   "execution_count": null,
   "metadata": {},
   "outputs": [],
   "source": [
    "uniq, count = np.unique(train_labels,return_counts=True)\n",
    "np.vstack((uniq,count)).T"
   ]
  },
  {
   "cell_type": "code",
   "execution_count": null,
   "metadata": {},
   "outputs": [],
   "source": [
    "plt.figure()\n",
    "plt.imshow(train_images[0])\n",
    "plt.colorbar()\n",
    "plt.set_cmap('gray')\n",
    "plt.grid(False)"
   ]
  },
  {
   "cell_type": "code",
   "execution_count": null,
   "metadata": {},
   "outputs": [],
   "source": [
    "train_images = train_images/255.0\n",
    "test_images = test_images/255.0"
   ]
  },
  {
   "cell_type": "code",
   "execution_count": null,
   "metadata": {},
   "outputs": [],
   "source": [
    "plt.figure(figsize=(10,10))\n",
    "for i in range(25):\n",
    "    plt.subplot(5,5,i+1)\n",
    "    plt.xticks([])\n",
    "    plt.yticks([])\n",
    "    plt.grid(False)\n",
    "    plt.imshow(train_images[i], cmap=plt.cm.binary)\n",
    "    plt.xlabel(train_labels[i])"
   ]
  },
  {
   "cell_type": "code",
   "execution_count": null,
   "metadata": {},
   "outputs": [],
   "source": [
    "model = keras.Sequential([\n",
    "    keras.layers.Flatten(input_shape=(28, 28)),\n",
    "    keras.layers.Dense(128, activation=tf.nn.relu),\n",
    "    keras.layers.Dense(10, activation=tf.nn.softmax)\n",
    "])\n",
    "\n",
    "model.compile(optimizer=tf.train.AdamOptimizer(),\n",
    "              loss='sparse_categorical_crossentropy',\n",
    "              metrics=['accuracy'])"
   ]
  },
  {
   "cell_type": "code",
   "execution_count": null,
   "metadata": {},
   "outputs": [],
   "source": [
    "model.fit(train_images, train_labels, epochs=5)"
   ]
  },
  {
   "cell_type": "code",
   "execution_count": null,
   "metadata": {},
   "outputs": [],
   "source": [
    "test_loss, test_acc = model.evaluate(test_images, test_labels)\n",
    "print('Test acciracy:', test_acc)"
   ]
  },
  {
   "cell_type": "code",
   "execution_count": null,
   "metadata": {},
   "outputs": [],
   "source": [
    "predictions = model.predict(test_images)\n",
    "predictions[0]"
   ]
  },
  {
   "cell_type": "code",
   "execution_count": null,
   "metadata": {},
   "outputs": [],
   "source": [
    "np.argmax(predictions[0])"
   ]
  },
  {
   "cell_type": "code",
   "execution_count": null,
   "metadata": {},
   "outputs": [],
   "source": [
    "def plot_image(i, predictions_array, true_label, img):\n",
    "    predictions_array, true_label, img = predictions_array[i], true_label[i], img[i]\n",
    "    plt.grid(False)\n",
    "    plt.xticks([])\n",
    "    plt.yticks([])\n",
    "    \n",
    "    plt.imshow(img, cmap=plt.cm.binary)\n",
    "    \n",
    "    predicted_label = np.argmax(predictions_array)\n",
    "    if predicted_label== true_label:\n",
    "        color = 'blue'\n",
    "    else:\n",
    "        color = 'red'\n",
    "        \n",
    "    plt.xlabel(\"{} {:2.0f}% ({})\".format(predicted_label,\n",
    "                                        100*np.max(predictions_array),\n",
    "                                        true_label),\n",
    "              color=color)\n",
    "    \n",
    "def plot_value_array(i, predictions_array, true_label):\n",
    "    predictions_array, true_label = predictions_array[i], true_label[i]\n",
    "    plt.grid(False)\n",
    "    plt.xticks([])\n",
    "    plt.yticks([])\n",
    "    \n",
    "    thisplot = plt.bar(range(10), predictions_array, color='#777777')\n",
    "    plt.ylim([0, 1])\n",
    "    predicted_label = np.argmax(predictions_array)\n",
    "    \n",
    "    thisplot[predicted_label].set_color('red')\n",
    "    thisplot[true_label].set_color('blue')"
   ]
  },
  {
   "cell_type": "code",
   "execution_count": null,
   "metadata": {},
   "outputs": [],
   "source": [
    "i = 5\n",
    "plt.figure()\n",
    "plt.subplot(1,2,1)\n",
    "plot_image(i, predictions, test_labels, test_images)\n",
    "plt.subplot(1,2,2)\n",
    "plot_value_array(i, predictions, test_labels)"
   ]
  },
  {
   "cell_type": "code",
   "execution_count": null,
   "metadata": {},
   "outputs": [],
   "source": [
    "num_rows = 5\n",
    "num_cols = 3\n",
    "num_images = num_rows*num_cols\n",
    "plt.figure(figsize=(2*2*num_cols, 2*num_rows))\n",
    "for i in range(num_images):\n",
    "    plt.subplot(num_rows, 2*num_cols, 2*i+1)\n",
    "    plot_image(i, predictions, test_labels, test_images)\n",
    "    plt.subplot(num_rows, 2*num_cols, 2*i+2)\n",
    "    plot_value_array(i, predictions, test_labels)"
   ]
  },
  {
   "cell_type": "markdown",
   "metadata": {},
   "source": [
    "# Text classification with movie reviews"
   ]
  },
  {
   "cell_type": "code",
   "execution_count": null,
   "metadata": {},
   "outputs": [],
   "source": [
    "import tensorflow as tf\n",
    "from tensorflow import keras\n",
    "\n",
    "import numpy as np\n",
    "\n",
    "# get IMDB data\n",
    "imdb = keras.datasets.imdb\n",
    "\n",
    "(train_data, train_labels), (test_data, test_labels) = imdb.load_data(num_words=10000)\n",
    "\n",
    "print(\"Training entries: {}, labels: {}\".format(len(train_data), len(train_labels)))\n",
    "\n",
    "print(train_data[0])"
   ]
  },
  {
   "cell_type": "code",
   "execution_count": null,
   "metadata": {},
   "outputs": [],
   "source": [
    "# convert word index to string\n",
    "word_index = imdb.get_word_index()\n",
    "\n",
    "word_index = {k:(v+3) for k,v in word_index.items()}\n",
    "word_index[\"<PAD>\"] = 0\n",
    "word_index[\"<START>\"] = 1\n",
    "word_index[\"<UNK>\"] = 2 # unknown\n",
    "word_index[\"<UNUSED>\"] = 3\n",
    "\n",
    "reverse_word_index = dict([(value, key) for (key, value) in word_index.items()])\n",
    "\n",
    "def decode_review(txt):\n",
    "    return ' '.join([reverse_word_index.get(i, '?') for i in txt])\n",
    "\n",
    "\n",
    "decode_review(train_data[5])"
   ]
  },
  {
   "cell_type": "code",
   "execution_count": null,
   "metadata": {},
   "outputs": [],
   "source": [
    "# padding to make all reviews the same length\n",
    "train_data = keras.preprocessing.sequence.pad_sequences(train_data,\n",
    "                                                       value=word_index[\"<PAD>\"],\n",
    "                                                       maxlen=256,\n",
    "                                                       padding='post')\n",
    "test_data = keras.preprocessing.sequence.pad_sequences(test_data,\n",
    "                                                       value=word_index[\"<PAD>\"],\n",
    "                                                       maxlen=256,\n",
    "                                                       padding='post')\n",
    "\n",
    "len(train_data[0]), len(test_data[0])\n",
    "\n",
    "print(train_data[0])"
   ]
  },
  {
   "cell_type": "code",
   "execution_count": null,
   "metadata": {},
   "outputs": [],
   "source": [
    "# build the model\n",
    "vocab_size = 10000\n",
    "model = keras.Sequential([\n",
    "    keras.layers.Embedding(vocab_size, 16),\n",
    "    keras.layers.GlobalAveragePooling1D(),\n",
    "    keras.layers.Dense(16, activation=tf.nn.relu),\n",
    "    keras.layers.Dense(1, activation=tf.nn.sigmoid)\n",
    "])\n",
    "model.summary()"
   ]
  },
  {
   "cell_type": "code",
   "execution_count": null,
   "metadata": {},
   "outputs": [],
   "source": [
    "model.compile(optimizer=tf.train.AdamOptimizer(),\n",
    "             loss='binary_crossentropy',\n",
    "             metrics=['accuracy'])"
   ]
  },
  {
   "cell_type": "code",
   "execution_count": null,
   "metadata": {},
   "outputs": [],
   "source": [
    "# create a validation set\n",
    "x_val = train_data[:10000]\n",
    "partial_x_train = train_data[1000:]\n",
    "\n",
    "y_val = train_labels[:10000]\n",
    "partial_y_train = train_labels[1000:]"
   ]
  },
  {
   "cell_type": "code",
   "execution_count": null,
   "metadata": {},
   "outputs": [],
   "source": [
    "history = model.fit(partial_x_train, partial_y_train,\n",
    "                   epochs=40,\n",
    "                   batch_size=512,\n",
    "                   validation_data=(x_val,y_val),\n",
    "                   verbose=1)"
   ]
  },
  {
   "cell_type": "code",
   "execution_count": null,
   "metadata": {},
   "outputs": [],
   "source": [
    "results = model.evaluate(test_data, test_labels)\n",
    "print(results)"
   ]
  },
  {
   "cell_type": "code",
   "execution_count": null,
   "metadata": {},
   "outputs": [],
   "source": [
    "history_dict = history.history\n",
    "history_dict.keys()"
   ]
  },
  {
   "cell_type": "code",
   "execution_count": null,
   "metadata": {},
   "outputs": [],
   "source": [
    "import matplotlib.pyplot as plt\n",
    "\n",
    "acc = history_dict['acc']\n",
    "val_acc = history_dict['val_acc']\n",
    "loss = history_dict['loss']\n",
    "val_loss = history_dict['val_loss']\n",
    "\n",
    "epochs = range(1, len(acc) + 1)\n",
    "\n",
    "plt.plot(epochs, loss, 'bo', label='Training loss')\n",
    "plt.plot(epochs, val_loss, 'b', label='Validation loss')\n",
    "plt.title('Training and validation loss')\n",
    "plt.xlabel('Epochs')\n",
    "plt.ylabel('Loss')\n",
    "plt.legend()\n",
    "\n",
    "plt.show()"
   ]
  },
  {
   "cell_type": "code",
   "execution_count": null,
   "metadata": {},
   "outputs": [],
   "source": [
    "plt.clf() # clear figure\n",
    "\n",
    "plt.plot(epochs, acc, 'bo', label='Training accuracy')\n",
    "plt.plot(epochs, val_acc, 'b', label='Validation accuracy')\n",
    "\n",
    "plt.title('Training and validation accuracy')\n",
    "plt.xlabel('Epochs')\n",
    "plt.ylabel('Accuracy')\n",
    "plt.legend()\n",
    "plt.show()"
   ]
  },
  {
   "cell_type": "markdown",
   "metadata": {},
   "source": [
    "# Regression"
   ]
  },
  {
   "cell_type": "code",
   "execution_count": 1,
   "metadata": {},
   "outputs": [
    {
     "name": "stdout",
     "output_type": "stream",
     "text": [
      "1.12.0\n"
     ]
    }
   ],
   "source": [
    "from __future__ import absolute_import, division, print_function\n",
    "\n",
    "import pathlib\n",
    "\n",
    "import pandas as pd\n",
    "import seaborn as sns\n",
    "\n",
    "import tensorflow as tf\n",
    "from tensorflow import keras\n",
    "\n",
    "from tensorflow.keras import layers # should test whether this work in 1.12, yes it works in 1.12\n",
    "# from tensorflow.python.keras import layers # workaround for 1.5\n",
    "\n",
    "print(tf.__version__)"
   ]
  },
  {
   "cell_type": "code",
   "execution_count": 2,
   "metadata": {},
   "outputs": [
    {
     "name": "stdout",
     "output_type": "stream",
     "text": [
      "Downloading data from https://archive.ics.uci.edu/ml/machine-learning-databases/auto-mpg/auto-mpg.data\n",
      "32768/30286 [================================] - 0s 1us/step\n"
     ]
    },
    {
     "data": {
      "text/plain": [
       "'/home/osiris/.keras/datasets/auto-mpg.data'"
      ]
     },
     "execution_count": 2,
     "metadata": {},
     "output_type": "execute_result"
    }
   ],
   "source": [
    "# get Auto MPG dataset\n",
    "dataset_path = keras.utils.get_file(\"auto-mpg.data\", \"https://archive.ics.uci.edu/ml/machine-learning-databases/auto-mpg/auto-mpg.data\")\n",
    "dataset_path"
   ]
  },
  {
   "cell_type": "code",
   "execution_count": 3,
   "metadata": {},
   "outputs": [
    {
     "data": {
      "text/html": [
       "<div>\n",
       "<style scoped>\n",
       "    .dataframe tbody tr th:only-of-type {\n",
       "        vertical-align: middle;\n",
       "    }\n",
       "\n",
       "    .dataframe tbody tr th {\n",
       "        vertical-align: top;\n",
       "    }\n",
       "\n",
       "    .dataframe thead th {\n",
       "        text-align: right;\n",
       "    }\n",
       "</style>\n",
       "<table border=\"1\" class=\"dataframe\">\n",
       "  <thead>\n",
       "    <tr style=\"text-align: right;\">\n",
       "      <th></th>\n",
       "      <th>MPG</th>\n",
       "      <th>Cylinders</th>\n",
       "      <th>Displacement</th>\n",
       "      <th>Horsepower</th>\n",
       "      <th>Weight</th>\n",
       "      <th>Acceleration</th>\n",
       "      <th>Model Year</th>\n",
       "      <th>Origin</th>\n",
       "    </tr>\n",
       "  </thead>\n",
       "  <tbody>\n",
       "    <tr>\n",
       "      <th>393</th>\n",
       "      <td>27.0</td>\n",
       "      <td>4</td>\n",
       "      <td>140.0</td>\n",
       "      <td>86.0</td>\n",
       "      <td>2790.0</td>\n",
       "      <td>15.6</td>\n",
       "      <td>82</td>\n",
       "      <td>1</td>\n",
       "    </tr>\n",
       "    <tr>\n",
       "      <th>394</th>\n",
       "      <td>44.0</td>\n",
       "      <td>4</td>\n",
       "      <td>97.0</td>\n",
       "      <td>52.0</td>\n",
       "      <td>2130.0</td>\n",
       "      <td>24.6</td>\n",
       "      <td>82</td>\n",
       "      <td>2</td>\n",
       "    </tr>\n",
       "    <tr>\n",
       "      <th>395</th>\n",
       "      <td>32.0</td>\n",
       "      <td>4</td>\n",
       "      <td>135.0</td>\n",
       "      <td>84.0</td>\n",
       "      <td>2295.0</td>\n",
       "      <td>11.6</td>\n",
       "      <td>82</td>\n",
       "      <td>1</td>\n",
       "    </tr>\n",
       "    <tr>\n",
       "      <th>396</th>\n",
       "      <td>28.0</td>\n",
       "      <td>4</td>\n",
       "      <td>120.0</td>\n",
       "      <td>79.0</td>\n",
       "      <td>2625.0</td>\n",
       "      <td>18.6</td>\n",
       "      <td>82</td>\n",
       "      <td>1</td>\n",
       "    </tr>\n",
       "    <tr>\n",
       "      <th>397</th>\n",
       "      <td>31.0</td>\n",
       "      <td>4</td>\n",
       "      <td>119.0</td>\n",
       "      <td>82.0</td>\n",
       "      <td>2720.0</td>\n",
       "      <td>19.4</td>\n",
       "      <td>82</td>\n",
       "      <td>1</td>\n",
       "    </tr>\n",
       "  </tbody>\n",
       "</table>\n",
       "</div>"
      ],
      "text/plain": [
       "      MPG  Cylinders  Displacement  Horsepower  Weight  Acceleration  \\\n",
       "393  27.0          4         140.0        86.0  2790.0          15.6   \n",
       "394  44.0          4          97.0        52.0  2130.0          24.6   \n",
       "395  32.0          4         135.0        84.0  2295.0          11.6   \n",
       "396  28.0          4         120.0        79.0  2625.0          18.6   \n",
       "397  31.0          4         119.0        82.0  2720.0          19.4   \n",
       "\n",
       "     Model Year  Origin  \n",
       "393          82       1  \n",
       "394          82       2  \n",
       "395          82       1  \n",
       "396          82       1  \n",
       "397          82       1  "
      ]
     },
     "execution_count": 3,
     "metadata": {},
     "output_type": "execute_result"
    }
   ],
   "source": [
    "# load into pandas\n",
    "column_names = ['MPG', 'Cylinders', 'Displacement', 'Horsepower',\n",
    "               'Weight', 'Acceleration', 'Model Year', 'Origin']\n",
    "raw_dataset = pd.read_csv(dataset_path, sep=\" \", names=column_names,\n",
    "                         na_values=\"?\", comment='\\t', skipinitialspace=True)\n",
    "dataset = raw_dataset.copy()\n",
    "dataset.tail()"
   ]
  },
  {
   "cell_type": "code",
   "execution_count": 4,
   "metadata": {},
   "outputs": [
    {
     "data": {
      "text/plain": [
       "MPG             0\n",
       "Cylinders       0\n",
       "Displacement    0\n",
       "Horsepower      6\n",
       "Weight          0\n",
       "Acceleration    0\n",
       "Model Year      0\n",
       "Origin          0\n",
       "dtype: int64"
      ]
     },
     "execution_count": 4,
     "metadata": {},
     "output_type": "execute_result"
    }
   ],
   "source": [
    "# clean the data\n",
    "dataset.isna().sum()"
   ]
  },
  {
   "cell_type": "code",
   "execution_count": 5,
   "metadata": {},
   "outputs": [],
   "source": [
    "dataset = dataset.dropna()"
   ]
  },
  {
   "cell_type": "code",
   "execution_count": 6,
   "metadata": {},
   "outputs": [
    {
     "data": {
      "text/html": [
       "<div>\n",
       "<style scoped>\n",
       "    .dataframe tbody tr th:only-of-type {\n",
       "        vertical-align: middle;\n",
       "    }\n",
       "\n",
       "    .dataframe tbody tr th {\n",
       "        vertical-align: top;\n",
       "    }\n",
       "\n",
       "    .dataframe thead th {\n",
       "        text-align: right;\n",
       "    }\n",
       "</style>\n",
       "<table border=\"1\" class=\"dataframe\">\n",
       "  <thead>\n",
       "    <tr style=\"text-align: right;\">\n",
       "      <th></th>\n",
       "      <th>MPG</th>\n",
       "      <th>Cylinders</th>\n",
       "      <th>Displacement</th>\n",
       "      <th>Horsepower</th>\n",
       "      <th>Weight</th>\n",
       "      <th>Acceleration</th>\n",
       "      <th>Model Year</th>\n",
       "      <th>USA</th>\n",
       "      <th>Europe</th>\n",
       "      <th>Japan</th>\n",
       "    </tr>\n",
       "  </thead>\n",
       "  <tbody>\n",
       "    <tr>\n",
       "      <th>393</th>\n",
       "      <td>27.0</td>\n",
       "      <td>4</td>\n",
       "      <td>140.0</td>\n",
       "      <td>86.0</td>\n",
       "      <td>2790.0</td>\n",
       "      <td>15.6</td>\n",
       "      <td>82</td>\n",
       "      <td>1.0</td>\n",
       "      <td>0.0</td>\n",
       "      <td>0.0</td>\n",
       "    </tr>\n",
       "    <tr>\n",
       "      <th>394</th>\n",
       "      <td>44.0</td>\n",
       "      <td>4</td>\n",
       "      <td>97.0</td>\n",
       "      <td>52.0</td>\n",
       "      <td>2130.0</td>\n",
       "      <td>24.6</td>\n",
       "      <td>82</td>\n",
       "      <td>0.0</td>\n",
       "      <td>1.0</td>\n",
       "      <td>0.0</td>\n",
       "    </tr>\n",
       "    <tr>\n",
       "      <th>395</th>\n",
       "      <td>32.0</td>\n",
       "      <td>4</td>\n",
       "      <td>135.0</td>\n",
       "      <td>84.0</td>\n",
       "      <td>2295.0</td>\n",
       "      <td>11.6</td>\n",
       "      <td>82</td>\n",
       "      <td>1.0</td>\n",
       "      <td>0.0</td>\n",
       "      <td>0.0</td>\n",
       "    </tr>\n",
       "    <tr>\n",
       "      <th>396</th>\n",
       "      <td>28.0</td>\n",
       "      <td>4</td>\n",
       "      <td>120.0</td>\n",
       "      <td>79.0</td>\n",
       "      <td>2625.0</td>\n",
       "      <td>18.6</td>\n",
       "      <td>82</td>\n",
       "      <td>1.0</td>\n",
       "      <td>0.0</td>\n",
       "      <td>0.0</td>\n",
       "    </tr>\n",
       "    <tr>\n",
       "      <th>397</th>\n",
       "      <td>31.0</td>\n",
       "      <td>4</td>\n",
       "      <td>119.0</td>\n",
       "      <td>82.0</td>\n",
       "      <td>2720.0</td>\n",
       "      <td>19.4</td>\n",
       "      <td>82</td>\n",
       "      <td>1.0</td>\n",
       "      <td>0.0</td>\n",
       "      <td>0.0</td>\n",
       "    </tr>\n",
       "  </tbody>\n",
       "</table>\n",
       "</div>"
      ],
      "text/plain": [
       "      MPG  Cylinders  Displacement  Horsepower  Weight  Acceleration  \\\n",
       "393  27.0          4         140.0        86.0  2790.0          15.6   \n",
       "394  44.0          4          97.0        52.0  2130.0          24.6   \n",
       "395  32.0          4         135.0        84.0  2295.0          11.6   \n",
       "396  28.0          4         120.0        79.0  2625.0          18.6   \n",
       "397  31.0          4         119.0        82.0  2720.0          19.4   \n",
       "\n",
       "     Model Year  USA  Europe  Japan  \n",
       "393          82  1.0     0.0    0.0  \n",
       "394          82  0.0     1.0    0.0  \n",
       "395          82  1.0     0.0    0.0  \n",
       "396          82  1.0     0.0    0.0  \n",
       "397          82  1.0     0.0    0.0  "
      ]
     },
     "execution_count": 6,
     "metadata": {},
     "output_type": "execute_result"
    }
   ],
   "source": [
    "# covert \"Origin\" to a one-hot since it is a category\n",
    "origin = dataset.pop('Origin')\n",
    "\n",
    "dataset['USA'] = (origin==1)*1.0\n",
    "dataset['Europe'] = (origin==2)*1.0\n",
    "dataset['Japan'] = (origin==3)*1.0\n",
    "\n",
    "dataset.tail()"
   ]
  },
  {
   "cell_type": "code",
   "execution_count": 7,
   "metadata": {},
   "outputs": [],
   "source": [
    "# split data into train and test\n",
    "train_dataset = dataset.sample(frac=0.8, random_state=0)\n",
    "test_dataset = dataset.drop(index=train_dataset.index)"
   ]
  },
  {
   "cell_type": "code",
   "execution_count": 8,
   "metadata": {},
   "outputs": [
    {
     "name": "stderr",
     "output_type": "stream",
     "text": [
      "/home/osiris/anaconda3/envs/py36/lib/python3.6/site-packages/scipy/stats/stats.py:1713: FutureWarning: Using a non-tuple sequence for multidimensional indexing is deprecated; use `arr[tuple(seq)]` instead of `arr[seq]`. In the future this will be interpreted as an array index, `arr[np.array(seq)]`, which will result either in an error or a different result.\n",
      "  return np.add.reduce(sorted[indexer] * weights, axis=axis) / sumval\n"
     ]
    },
    {
     "data": {
      "text/plain": [
       "<seaborn.axisgrid.PairGrid at 0x7f95560b1278>"
      ]
     },
     "execution_count": 8,
     "metadata": {},
     "output_type": "execute_result"
    },
    {
     "data": {
      "image/png": "[encoded data removed]",
      "text/plain": [
       "<Figure size 720x720 with 20 Axes>"
      ]
     },
     "metadata": {
      "needs_background": "light"
     },
     "output_type": "display_data"
    }
   ],
   "source": [
    "# inspec the data\n",
    "sns.pairplot(train_dataset[['MPG', 'Cylinders', 'Displacement', 'Weight']], diag_kind='kde')"
   ]
  },
  {
   "cell_type": "code",
   "execution_count": 9,
   "metadata": {},
   "outputs": [
    {
     "data": {
      "text/html": [
       "<div>\n",
       "<style scoped>\n",
       "    .dataframe tbody tr th:only-of-type {\n",
       "        vertical-align: middle;\n",
       "    }\n",
       "\n",
       "    .dataframe tbody tr th {\n",
       "        vertical-align: top;\n",
       "    }\n",
       "\n",
       "    .dataframe thead th {\n",
       "        text-align: right;\n",
       "    }\n",
       "</style>\n",
       "<table border=\"1\" class=\"dataframe\">\n",
       "  <thead>\n",
       "    <tr style=\"text-align: right;\">\n",
       "      <th></th>\n",
       "      <th>count</th>\n",
       "      <th>mean</th>\n",
       "      <th>std</th>\n",
       "      <th>min</th>\n",
       "      <th>25%</th>\n",
       "      <th>50%</th>\n",
       "      <th>75%</th>\n",
       "      <th>max</th>\n",
       "    </tr>\n",
       "  </thead>\n",
       "  <tbody>\n",
       "    <tr>\n",
       "      <th>Cylinders</th>\n",
       "      <td>314.0</td>\n",
       "      <td>5.477707</td>\n",
       "      <td>1.699788</td>\n",
       "      <td>3.0</td>\n",
       "      <td>4.00</td>\n",
       "      <td>4.0</td>\n",
       "      <td>8.00</td>\n",
       "      <td>8.0</td>\n",
       "    </tr>\n",
       "    <tr>\n",
       "      <th>Displacement</th>\n",
       "      <td>314.0</td>\n",
       "      <td>195.318471</td>\n",
       "      <td>104.331589</td>\n",
       "      <td>68.0</td>\n",
       "      <td>105.50</td>\n",
       "      <td>151.0</td>\n",
       "      <td>265.75</td>\n",
       "      <td>455.0</td>\n",
       "    </tr>\n",
       "    <tr>\n",
       "      <th>Horsepower</th>\n",
       "      <td>314.0</td>\n",
       "      <td>104.869427</td>\n",
       "      <td>38.096214</td>\n",
       "      <td>46.0</td>\n",
       "      <td>76.25</td>\n",
       "      <td>94.5</td>\n",
       "      <td>128.00</td>\n",
       "      <td>225.0</td>\n",
       "    </tr>\n",
       "    <tr>\n",
       "      <th>Weight</th>\n",
       "      <td>314.0</td>\n",
       "      <td>2990.251592</td>\n",
       "      <td>843.898596</td>\n",
       "      <td>1649.0</td>\n",
       "      <td>2256.50</td>\n",
       "      <td>2822.5</td>\n",
       "      <td>3608.00</td>\n",
       "      <td>5140.0</td>\n",
       "    </tr>\n",
       "    <tr>\n",
       "      <th>Acceleration</th>\n",
       "      <td>314.0</td>\n",
       "      <td>15.559236</td>\n",
       "      <td>2.789230</td>\n",
       "      <td>8.0</td>\n",
       "      <td>13.80</td>\n",
       "      <td>15.5</td>\n",
       "      <td>17.20</td>\n",
       "      <td>24.8</td>\n",
       "    </tr>\n",
       "    <tr>\n",
       "      <th>Model Year</th>\n",
       "      <td>314.0</td>\n",
       "      <td>75.898089</td>\n",
       "      <td>3.675642</td>\n",
       "      <td>70.0</td>\n",
       "      <td>73.00</td>\n",
       "      <td>76.0</td>\n",
       "      <td>79.00</td>\n",
       "      <td>82.0</td>\n",
       "    </tr>\n",
       "    <tr>\n",
       "      <th>USA</th>\n",
       "      <td>314.0</td>\n",
       "      <td>0.624204</td>\n",
       "      <td>0.485101</td>\n",
       "      <td>0.0</td>\n",
       "      <td>0.00</td>\n",
       "      <td>1.0</td>\n",
       "      <td>1.00</td>\n",
       "      <td>1.0</td>\n",
       "    </tr>\n",
       "    <tr>\n",
       "      <th>Europe</th>\n",
       "      <td>314.0</td>\n",
       "      <td>0.178344</td>\n",
       "      <td>0.383413</td>\n",
       "      <td>0.0</td>\n",
       "      <td>0.00</td>\n",
       "      <td>0.0</td>\n",
       "      <td>0.00</td>\n",
       "      <td>1.0</td>\n",
       "    </tr>\n",
       "    <tr>\n",
       "      <th>Japan</th>\n",
       "      <td>314.0</td>\n",
       "      <td>0.197452</td>\n",
       "      <td>0.398712</td>\n",
       "      <td>0.0</td>\n",
       "      <td>0.00</td>\n",
       "      <td>0.0</td>\n",
       "      <td>0.00</td>\n",
       "      <td>1.0</td>\n",
       "    </tr>\n",
       "  </tbody>\n",
       "</table>\n",
       "</div>"
      ],
      "text/plain": [
       "              count         mean         std     min      25%     50%  \\\n",
       "Cylinders     314.0     5.477707    1.699788     3.0     4.00     4.0   \n",
       "Displacement  314.0   195.318471  104.331589    68.0   105.50   151.0   \n",
       "Horsepower    314.0   104.869427   38.096214    46.0    76.25    94.5   \n",
       "Weight        314.0  2990.251592  843.898596  1649.0  2256.50  2822.5   \n",
       "Acceleration  314.0    15.559236    2.789230     8.0    13.80    15.5   \n",
       "Model Year    314.0    75.898089    3.675642    70.0    73.00    76.0   \n",
       "USA           314.0     0.624204    0.485101     0.0     0.00     1.0   \n",
       "Europe        314.0     0.178344    0.383413     0.0     0.00     0.0   \n",
       "Japan         314.0     0.197452    0.398712     0.0     0.00     0.0   \n",
       "\n",
       "                  75%     max  \n",
       "Cylinders        8.00     8.0  \n",
       "Displacement   265.75   455.0  \n",
       "Horsepower     128.00   225.0  \n",
       "Weight        3608.00  5140.0  \n",
       "Acceleration    17.20    24.8  \n",
       "Model Year      79.00    82.0  \n",
       "USA              1.00     1.0  \n",
       "Europe           0.00     1.0  \n",
       "Japan            0.00     1.0  "
      ]
     },
     "execution_count": 9,
     "metadata": {},
     "output_type": "execute_result"
    }
   ],
   "source": [
    "train_stats = train_dataset.describe()\n",
    "train_stats.pop(\"MPG\")\n",
    "train_stats = train_stats.transpose()\n",
    "train_stats"
   ]
  },
  {
   "cell_type": "code",
   "execution_count": 10,
   "metadata": {},
   "outputs": [],
   "source": [
    "# split features from labels\n",
    "train_labels = train_dataset.pop('MPG')\n",
    "test_labels = test_dataset.pop('MPG')"
   ]
  },
  {
   "cell_type": "code",
   "execution_count": 11,
   "metadata": {},
   "outputs": [],
   "source": [
    "# normalize the data\n",
    "def norm(x):\n",
    "    return (x - train_stats['mean']) / train_stats['std']\n",
    "\n",
    "normed_train_data = norm(train_dataset)\n",
    "normed_test_data = norm(test_dataset)"
   ]
  },
  {
   "cell_type": "code",
   "execution_count": 12,
   "metadata": {},
   "outputs": [],
   "source": [
    "# Build a model\n",
    "def build_model():\n",
    "    model = keras.Sequential([\n",
    "        layers.Dense(64, activation=tf.nn.relu, input_shape=[len(train_dataset.keys())]),\n",
    "        layers.Dense(64, activation=tf.nn.relu),\n",
    "        layers.Dense(1)\n",
    "    ])\n",
    "    \n",
    "    optimizer = tf.keras.optimizers.RMSprop(0.001)\n",
    "    \n",
    "    model.compile(optimizer=optimizer,\n",
    "                 loss='mse',\n",
    "                 metrics=['mae','mse'])\n",
    "    return model"
   ]
  },
  {
   "cell_type": "code",
   "execution_count": 14,
   "metadata": {},
   "outputs": [
    {
     "name": "stdout",
     "output_type": "stream",
     "text": [
      "_________________________________________________________________\n",
      "Layer (type)                 Output Shape              Param #   \n",
      "=================================================================\n",
      "dense (Dense)                (None, 64)                640       \n",
      "_________________________________________________________________\n",
      "dense_1 (Dense)              (None, 64)                4160      \n",
      "_________________________________________________________________\n",
      "dense_2 (Dense)              (None, 1)                 65        \n",
      "=================================================================\n",
      "Total params: 4,865\n",
      "Trainable params: 4,865\n",
      "Non-trainable params: 0\n",
      "_________________________________________________________________\n"
     ]
    }
   ],
   "source": [
    "model = build_model()\n",
    "model.summary()"
   ]
  },
  {
   "cell_type": "code",
   "execution_count": 16,
   "metadata": {},
   "outputs": [
    {
     "data": {
      "text/plain": [
       "array([[-0.08125846],\n",
       "       [-0.24107555],\n",
       "       [-0.6906897 ],\n",
       "       [-0.3854979 ],\n",
       "       [-0.785884  ],\n",
       "       [-0.19692272],\n",
       "       [-0.8161127 ],\n",
       "       [-0.53219897],\n",
       "       [-0.12408123],\n",
       "       [-0.7289312 ]], dtype=float32)"
      ]
     },
     "execution_count": 16,
     "metadata": {},
     "output_type": "execute_result"
    }
   ],
   "source": [
    "# try out the model\n",
    "example_batch = normed_train_data[:10]\n",
    "example_result = model.predict(example_batch) # check whether .values is needed in 1.12, it's not needed in 1.12\n",
    "example_result"
   ]
  },
  {
   "cell_type": "code",
   "execution_count": 17,
   "metadata": {},
   "outputs": [
    {
     "name": "stdout",
     "output_type": "stream",
     "text": [
      "\n",
      "....................................................................................................\n",
      "....................................................................................................\n",
      "....................................................................................................\n",
      "....................................................................................................\n",
      "....................................................................................................\n",
      "....................................................................................................\n",
      "....................................................................................................\n",
      "....................................................................................................\n",
      "....................................................................................................\n",
      "...................................................................................................."
     ]
    }
   ],
   "source": [
    "# Train the model\n",
    "class PrintDot(keras.callbacks.Callback):\n",
    "    def on_epoch_end(self, epoch, logs):\n",
    "        if epoch % 100 == 0: print('')\n",
    "        print('.', end='')\n",
    "            \n",
    "EPOCHS = 1000\n",
    "\n",
    "history = model.fit(normed_train_data.values, train_labels, epochs=EPOCHS, \n",
    "                   validation_split=0.2, verbose=0,\n",
    "                   callbacks=[PrintDot()])"
   ]
  },
  {
   "cell_type": "code",
   "execution_count": 18,
   "metadata": {},
   "outputs": [
    {
     "data": {
      "text/html": [
       "<div>\n",
       "<style scoped>\n",
       "    .dataframe tbody tr th:only-of-type {\n",
       "        vertical-align: middle;\n",
       "    }\n",
       "\n",
       "    .dataframe tbody tr th {\n",
       "        vertical-align: top;\n",
       "    }\n",
       "\n",
       "    .dataframe thead th {\n",
       "        text-align: right;\n",
       "    }\n",
       "</style>\n",
       "<table border=\"1\" class=\"dataframe\">\n",
       "  <thead>\n",
       "    <tr style=\"text-align: right;\">\n",
       "      <th></th>\n",
       "      <th>val_loss</th>\n",
       "      <th>val_mean_absolute_error</th>\n",
       "      <th>val_mean_squared_error</th>\n",
       "      <th>loss</th>\n",
       "      <th>mean_absolute_error</th>\n",
       "      <th>mean_squared_error</th>\n",
       "      <th>epoch</th>\n",
       "    </tr>\n",
       "  </thead>\n",
       "  <tbody>\n",
       "    <tr>\n",
       "      <th>995</th>\n",
       "      <td>9.441727</td>\n",
       "      <td>2.359432</td>\n",
       "      <td>9.441727</td>\n",
       "      <td>2.652160</td>\n",
       "      <td>1.005413</td>\n",
       "      <td>2.652160</td>\n",
       "      <td>995</td>\n",
       "    </tr>\n",
       "    <tr>\n",
       "      <th>996</th>\n",
       "      <td>9.543748</td>\n",
       "      <td>2.362226</td>\n",
       "      <td>9.543748</td>\n",
       "      <td>2.497300</td>\n",
       "      <td>0.963679</td>\n",
       "      <td>2.497300</td>\n",
       "      <td>996</td>\n",
       "    </tr>\n",
       "    <tr>\n",
       "      <th>997</th>\n",
       "      <td>9.091303</td>\n",
       "      <td>2.319411</td>\n",
       "      <td>9.091303</td>\n",
       "      <td>2.719138</td>\n",
       "      <td>1.028769</td>\n",
       "      <td>2.719138</td>\n",
       "      <td>997</td>\n",
       "    </tr>\n",
       "    <tr>\n",
       "      <th>998</th>\n",
       "      <td>9.200399</td>\n",
       "      <td>2.322203</td>\n",
       "      <td>9.200399</td>\n",
       "      <td>2.466597</td>\n",
       "      <td>0.942106</td>\n",
       "      <td>2.466597</td>\n",
       "      <td>998</td>\n",
       "    </tr>\n",
       "    <tr>\n",
       "      <th>999</th>\n",
       "      <td>8.845747</td>\n",
       "      <td>2.298466</td>\n",
       "      <td>8.845747</td>\n",
       "      <td>2.526058</td>\n",
       "      <td>0.982731</td>\n",
       "      <td>2.526058</td>\n",
       "      <td>999</td>\n",
       "    </tr>\n",
       "  </tbody>\n",
       "</table>\n",
       "</div>"
      ],
      "text/plain": [
       "     val_loss  val_mean_absolute_error  val_mean_squared_error      loss  \\\n",
       "995  9.441727                 2.359432                9.441727  2.652160   \n",
       "996  9.543748                 2.362226                9.543748  2.497300   \n",
       "997  9.091303                 2.319411                9.091303  2.719138   \n",
       "998  9.200399                 2.322203                9.200399  2.466597   \n",
       "999  8.845747                 2.298466                8.845747  2.526058   \n",
       "\n",
       "     mean_absolute_error  mean_squared_error  epoch  \n",
       "995             1.005413            2.652160    995  \n",
       "996             0.963679            2.497300    996  \n",
       "997             1.028769            2.719138    997  \n",
       "998             0.942106            2.466597    998  \n",
       "999             0.982731            2.526058    999  "
      ]
     },
     "execution_count": 18,
     "metadata": {},
     "output_type": "execute_result"
    }
   ],
   "source": [
    "hist = pd.DataFrame(history.history)\n",
    "hist['epoch'] = history.epoch\n",
    "hist.tail()"
   ]
  },
  {
   "cell_type": "code",
   "execution_count": 19,
   "metadata": {},
   "outputs": [
    {
     "data": {
      "image/png": "[encoded data removed]",
      "text/plain": [
       "<Figure size 432x288 with 1 Axes>"
      ]
     },
     "metadata": {
      "needs_background": "light"
     },
     "output_type": "display_data"
    },
    {
     "data": {
      "image/png": "[encoded data removed]",
      "text/plain": [
       "<Figure size 432x288 with 1 Axes>"
      ]
     },
     "metadata": {
      "needs_background": "light"
     },
     "output_type": "display_data"
    }
   ],
   "source": [
    "def plot_history(history):\n",
    "    hist = pd.DataFrame(history.history)\n",
    "    hist['epoch'] = history.epoch\n",
    "    \n",
    "    ax = hist.plot(x='epoch',y=['mean_absolute_error','val_mean_absolute_error'],\n",
    "                  ylim=[0,5])\n",
    "    # ax.set_ylim([0,7])\n",
    "    ax.set_xlabel('Epoch')\n",
    "    ax.set_ylabel('Mean Abs Error [MPG]')\n",
    "    ax.legend(['Training Error','Validation Error'])\n",
    "\n",
    "    ax = hist.plot(x='epoch',y=['mean_squared_error','val_mean_squared_error'],\n",
    "                  ylim=[0,20])\n",
    "    ax.set_xlabel('Epoch')\n",
    "    ax.set_ylabel('Mean Square Error [$MPG^2$]')\n",
    "    ax.legend(['Training Error','Validation Error'])\n",
    "    \n",
    "plot_history(history)"
   ]
  },
  {
   "cell_type": "code",
   "execution_count": 20,
   "metadata": {},
   "outputs": [
    {
     "name": "stdout",
     "output_type": "stream",
     "text": [
      "\n",
      "................................................................."
     ]
    },
    {
     "data": {
      "image/png": "[encoded data removed]",
      "text/plain": [
       "<Figure size 432x288 with 1 Axes>"
      ]
     },
     "metadata": {
      "needs_background": "light"
     },
     "output_type": "display_data"
    },
    {
     "data": {
      "image/png": "[encoded data removed]",
      "text/plain": [
       "<Figure size 432x288 with 1 Axes>"
      ]
     },
     "metadata": {
      "needs_background": "light"
     },
     "output_type": "display_data"
    }
   ],
   "source": [
    "model = build_model()\n",
    "\n",
    "early_stop = keras.callbacks.EarlyStopping(monitor='val_loss', patience=10)\n",
    "\n",
    "history = model.fit(normed_train_data.values, train_labels,\n",
    "                    epochs=EPOCHS, validation_split=0.2, verbose=0,\n",
    "                    callbacks=[early_stop, PrintDot()])\n",
    "plot_history(history)"
   ]
  },
  {
   "cell_type": "code",
   "execution_count": 21,
   "metadata": {},
   "outputs": [
    {
     "name": "stdout",
     "output_type": "stream",
     "text": [
      "Testing set Mean Abs Error: 1.84 MPG\n"
     ]
    }
   ],
   "source": [
    "loss, mae, mse = model.evaluate(normed_test_data.values, test_labels, verbose=0)\n",
    "\n",
    "print(\"Testing set Mean Abs Error: {:0.2f} MPG\".format(mae))"
   ]
  },
  {
   "cell_type": "code",
   "execution_count": 22,
   "metadata": {},
   "outputs": [
    {
     "data": {
      "image/png": "[encoded data removed]",
      "text/plain": [
       "<Figure size 432x288 with 1 Axes>"
      ]
     },
     "metadata": {
      "needs_background": "light"
     },
     "output_type": "display_data"
    }
   ],
   "source": [
    "test_predictions = model.predict(normed_test_data).flatten()\n",
    "# test_predictions.flatten()\n",
    "\n",
    "import matplotlib.pyplot as plt\n",
    "\n",
    "plt.scatter(test_labels, test_predictions)\n",
    "plt.xlabel('True Values [MPG]')\n",
    "plt.ylabel('Prediction')\n",
    "\n",
    "plt.axis('equal')\n",
    "plt.axis('square')\n",
    "plt.xlim([0, plt.xlim()[1]])\n",
    "plt.ylim([0, plt.ylim()[1]])\n",
    "_ = plt.plot([-100,100], [-100,100])"
   ]
  },
  {
   "cell_type": "code",
   "execution_count": 23,
   "metadata": {},
   "outputs": [
    {
     "data": {
      "image/png": "[encoded data removed]",
      "text/plain": [
       "<Figure size 432x288 with 1 Axes>"
      ]
     },
     "metadata": {
      "needs_background": "light"
     },
     "output_type": "display_data"
    }
   ],
   "source": [
    "error = test_predictions - test_labels\n",
    "plt.hist(error, bins=25)\n",
    "plt.xlabel('Prediction Error [MPG]')\n",
    "_ = plt.ylabel('Count')"
   ]
  },
  {
   "cell_type": "markdown",
   "metadata": {},
   "source": [
    "# Overfitting and underfitting"
   ]
  },
  {
   "cell_type": "code",
   "execution_count": 1,
   "metadata": {},
   "outputs": [
    {
     "name": "stdout",
     "output_type": "stream",
     "text": [
      "1.12.0\n"
     ]
    }
   ],
   "source": [
    "import tensorflow as tf\n",
    "from tensorflow import keras\n",
    "\n",
    "import numpy as np\n",
    "import matplotlib.pyplot as plt\n",
    "\n",
    "print(tf.__version__)"
   ]
  },
  {
   "cell_type": "code",
   "execution_count": 2,
   "metadata": {},
   "outputs": [],
   "source": [
    "NUM_WORDS = 10000\n",
    "\n",
    "(train_data, train_labels), (test_data, test_labels) = keras.datasets.imdb.load_data(num_words=NUM_WORDS)\n",
    "\n",
    "def multi_hot_sequences(sequences, dimension):\n",
    "    results = np.zeros((len(sequences), NUM_WORDS))\n",
    "    \n",
    "    for i, word_idx in enumerate(sequences):\n",
    "        results[i, word_idx] = 1.0\n",
    "        \n",
    "    return results\n",
    "\n",
    "train_data = multi_hot_sequences(train_data, dimension=NUM_WORDS)\n",
    "test_data = multi_hot_sequences(test_data, dimension=NUM_WORDS)\n"
   ]
  },
  {
   "cell_type": "code",
   "execution_count": 9,
   "metadata": {
    "scrolled": true
   },
   "outputs": [
    {
     "data": {
      "text/plain": [
       "[<matplotlib.lines.Line2D at 0x7f5276d4be10>]"
      ]
     },
     "execution_count": 9,
     "metadata": {},
     "output_type": "execute_result"
    },
    {
     "data": {
      "image/png": "[encoded data removed]",
      "text/plain": [
       "<Figure size 432x288 with 1 Axes>"
      ]
     },
     "metadata": {
      "needs_background": "light"
     },
     "output_type": "display_data"
    }
   ],
   "source": [
    "plt.plot(train_data[0])"
   ]
  },
  {
   "cell_type": "code",
   "execution_count": 3,
   "metadata": {},
   "outputs": [],
   "source": [
    "# Demonstrate overfitting\n",
    "baseline_model = keras.Sequential([\n",
    "    keras.layers.Dense(16, activation=tf.nn.relu, input_shape=(NUM_WORDS,)),\n",
    "    keras.layers.Dense(16, activation=tf.nn.relu),\n",
    "    keras.layers.Dense(1, activation=tf.nn.sigmoid)\n",
    "])"
   ]
  },
  {
   "cell_type": "code",
   "execution_count": 4,
   "metadata": {},
   "outputs": [
    {
     "name": "stdout",
     "output_type": "stream",
     "text": [
      "_________________________________________________________________\n",
      "Layer (type)                 Output Shape              Param #   \n",
      "=================================================================\n",
      "dense (Dense)                (None, 16)                160016    \n",
      "_________________________________________________________________\n",
      "dense_1 (Dense)              (None, 16)                272       \n",
      "_________________________________________________________________\n",
      "dense_2 (Dense)              (None, 1)                 17        \n",
      "=================================================================\n",
      "Total params: 160,305\n",
      "Trainable params: 160,305\n",
      "Non-trainable params: 0\n",
      "_________________________________________________________________\n"
     ]
    }
   ],
   "source": [
    "baseline_model.compile(optimizer='adam',\n",
    "                       loss='binary_crossentropy',\n",
    "                       metrics=['accuracy','binary_crossentropy'])\n",
    "\n",
    "baseline_model.summary()\n",
    "                      "
   ]
  },
  {
   "cell_type": "code",
   "execution_count": 5,
   "metadata": {},
   "outputs": [
    {
     "name": "stdout",
     "output_type": "stream",
     "text": [
      "Train on 25000 samples, validate on 25000 samples\n",
      "Epoch 1/20\n",
      " - 4s - loss: 0.4893 - acc: 0.7909 - binary_crossentropy: 0.4893 - val_loss: 0.3259 - val_acc: 0.8800 - val_binary_crossentropy: 0.3259\n",
      "Epoch 2/20\n",
      " - 3s - loss: 0.2393 - acc: 0.9144 - binary_crossentropy: 0.2393 - val_loss: 0.2856 - val_acc: 0.8863 - val_binary_crossentropy: 0.2856\n",
      "Epoch 3/20\n",
      " - 3s - loss: 0.1742 - acc: 0.9395 - binary_crossentropy: 0.1742 - val_loss: 0.2936 - val_acc: 0.8838 - val_binary_crossentropy: 0.2936\n",
      "Epoch 4/20\n",
      " - 3s - loss: 0.1383 - acc: 0.9536 - binary_crossentropy: 0.1383 - val_loss: 0.3203 - val_acc: 0.8779 - val_binary_crossentropy: 0.3203\n",
      "Epoch 5/20\n",
      " - 3s - loss: 0.1146 - acc: 0.9634 - binary_crossentropy: 0.1146 - val_loss: 0.3487 - val_acc: 0.8720 - val_binary_crossentropy: 0.3487\n",
      "Epoch 6/20\n",
      " - 3s - loss: 0.0935 - acc: 0.9711 - binary_crossentropy: 0.0935 - val_loss: 0.3791 - val_acc: 0.8693 - val_binary_crossentropy: 0.3791\n",
      "Epoch 7/20\n",
      " - 3s - loss: 0.0761 - acc: 0.9788 - binary_crossentropy: 0.0761 - val_loss: 0.4246 - val_acc: 0.8607 - val_binary_crossentropy: 0.4246\n",
      "Epoch 8/20\n",
      " - 3s - loss: 0.0627 - acc: 0.9834 - binary_crossentropy: 0.0627 - val_loss: 0.4588 - val_acc: 0.8621 - val_binary_crossentropy: 0.4588\n",
      "Epoch 9/20\n",
      " - 3s - loss: 0.0508 - acc: 0.9886 - binary_crossentropy: 0.0508 - val_loss: 0.4978 - val_acc: 0.8606 - val_binary_crossentropy: 0.4978\n",
      "Epoch 10/20\n",
      " - 3s - loss: 0.0407 - acc: 0.9923 - binary_crossentropy: 0.0407 - val_loss: 0.5387 - val_acc: 0.8570 - val_binary_crossentropy: 0.5387\n",
      "Epoch 11/20\n",
      " - 3s - loss: 0.0335 - acc: 0.9944 - binary_crossentropy: 0.0335 - val_loss: 0.5813 - val_acc: 0.8573 - val_binary_crossentropy: 0.5813\n",
      "Epoch 12/20\n",
      " - 3s - loss: 0.0258 - acc: 0.9964 - binary_crossentropy: 0.0258 - val_loss: 0.6241 - val_acc: 0.8566 - val_binary_crossentropy: 0.6241\n",
      "Epoch 13/20\n",
      " - 3s - loss: 0.0200 - acc: 0.9974 - binary_crossentropy: 0.0200 - val_loss: 0.6584 - val_acc: 0.8543 - val_binary_crossentropy: 0.6584\n",
      "Epoch 14/20\n",
      " - 3s - loss: 0.0157 - acc: 0.9988 - binary_crossentropy: 0.0157 - val_loss: 0.6949 - val_acc: 0.8544 - val_binary_crossentropy: 0.6949\n",
      "Epoch 15/20\n",
      " - 3s - loss: 0.0121 - acc: 0.9993 - binary_crossentropy: 0.0121 - val_loss: 0.7304 - val_acc: 0.8530 - val_binary_crossentropy: 0.7304\n",
      "Epoch 16/20\n",
      " - 3s - loss: 0.0098 - acc: 0.9994 - binary_crossentropy: 0.0098 - val_loss: 0.7603 - val_acc: 0.8531 - val_binary_crossentropy: 0.7603\n",
      "Epoch 17/20\n",
      " - 3s - loss: 0.0078 - acc: 0.9995 - binary_crossentropy: 0.0078 - val_loss: 0.7874 - val_acc: 0.8521 - val_binary_crossentropy: 0.7874\n",
      "Epoch 18/20\n",
      " - 3s - loss: 0.0064 - acc: 0.9996 - binary_crossentropy: 0.0064 - val_loss: 0.8150 - val_acc: 0.8514 - val_binary_crossentropy: 0.8150\n",
      "Epoch 19/20\n",
      " - 3s - loss: 0.0053 - acc: 0.9998 - binary_crossentropy: 0.0053 - val_loss: 0.8419 - val_acc: 0.8518 - val_binary_crossentropy: 0.8419\n",
      "Epoch 20/20\n",
      " - 3s - loss: 0.0043 - acc: 0.9999 - binary_crossentropy: 0.0043 - val_loss: 0.8634 - val_acc: 0.8508 - val_binary_crossentropy: 0.8634\n"
     ]
    }
   ],
   "source": [
    "baseline_history = baseline_model.fit(train_data, train_labels,\n",
    "                                     epochs=20, batch_size=512, verbose=2,\n",
    "                                     validation_data=(test_data, test_labels))"
   ]
  },
  {
   "cell_type": "code",
   "execution_count": 17,
   "metadata": {},
   "outputs": [
    {
     "name": "stdout",
     "output_type": "stream",
     "text": [
      "_________________________________________________________________\n",
      "Layer (type)                 Output Shape              Param #   \n",
      "=================================================================\n",
      "dense_5 (Dense)              (None, 4)                 40004     \n",
      "_________________________________________________________________\n",
      "dense_6 (Dense)              (None, 4)                 20        \n",
      "_________________________________________________________________\n",
      "dense_7 (Dense)              (None, 1)                 5         \n",
      "=================================================================\n",
      "Total params: 40,029\n",
      "Trainable params: 40,029\n",
      "Non-trainable params: 0\n",
      "_________________________________________________________________\n"
     ]
    }
   ],
   "source": [
    "smaller_model = keras.Sequential([\n",
    "    keras.layers.Dense(4, activation=tf.nn.relu, input_shape=(NUM_WORDS,)),\n",
    "    keras.layers.Dense(4, activation=tf.nn.relu),\n",
    "    keras.layers.Dense(1, activation=tf.nn.sigmoid)\n",
    "])\n",
    "\n",
    "smaller_model.compile(optimizer='adam',\n",
    "                     loss='binary_crossentropy',\n",
    "                     metrics=['accuracy', 'binary_crossentropy'])\n",
    "smaller_model.summary()"
   ]
  },
  {
   "cell_type": "code",
   "execution_count": 18,
   "metadata": {},
   "outputs": [
    {
     "name": "stdout",
     "output_type": "stream",
     "text": [
      "Train on 25000 samples, validate on 25000 samples\n",
      "Epoch 1/20\n",
      " - 2s - loss: 0.6137 - acc: 0.6324 - binary_crossentropy: 0.6137 - val_loss: 0.5513 - val_acc: 0.7670 - val_binary_crossentropy: 0.5513\n",
      "Epoch 2/20\n",
      " - 2s - loss: 0.5020 - acc: 0.8273 - binary_crossentropy: 0.5020 - val_loss: 0.4951 - val_acc: 0.8474 - val_binary_crossentropy: 0.4951\n",
      "Epoch 3/20\n",
      " - 2s - loss: 0.4493 - acc: 0.8834 - binary_crossentropy: 0.4493 - val_loss: 0.4663 - val_acc: 0.8582 - val_binary_crossentropy: 0.4663\n",
      "Epoch 4/20\n",
      " - 2s - loss: 0.4130 - acc: 0.9109 - binary_crossentropy: 0.4130 - val_loss: 0.4485 - val_acc: 0.8662 - val_binary_crossentropy: 0.4485\n",
      "Epoch 5/20\n",
      " - 2s - loss: 0.3826 - acc: 0.9286 - binary_crossentropy: 0.3826 - val_loss: 0.4399 - val_acc: 0.8615 - val_binary_crossentropy: 0.4399\n",
      "Epoch 6/20\n",
      " - 2s - loss: 0.3527 - acc: 0.9431 - binary_crossentropy: 0.3527 - val_loss: 0.4235 - val_acc: 0.8706 - val_binary_crossentropy: 0.4235\n",
      "Epoch 7/20\n",
      " - 2s - loss: 0.3226 - acc: 0.9531 - binary_crossentropy: 0.3226 - val_loss: 0.4084 - val_acc: 0.8750 - val_binary_crossentropy: 0.4084\n",
      "Epoch 8/20\n",
      " - 2s - loss: 0.2928 - acc: 0.9598 - binary_crossentropy: 0.2928 - val_loss: 0.4044 - val_acc: 0.8721 - val_binary_crossentropy: 0.4044\n",
      "Epoch 9/20\n",
      " - 2s - loss: 0.2638 - acc: 0.9662 - binary_crossentropy: 0.2638 - val_loss: 0.3961 - val_acc: 0.8729 - val_binary_crossentropy: 0.3961\n",
      "Epoch 10/20\n",
      " - 2s - loss: 0.2367 - acc: 0.9706 - binary_crossentropy: 0.2367 - val_loss: 0.3926 - val_acc: 0.8710 - val_binary_crossentropy: 0.3926\n",
      "Epoch 11/20\n",
      " - 2s - loss: 0.2115 - acc: 0.9758 - binary_crossentropy: 0.2115 - val_loss: 0.3897 - val_acc: 0.8708 - val_binary_crossentropy: 0.3897\n",
      "Epoch 12/20\n",
      " - 2s - loss: 0.1887 - acc: 0.9788 - binary_crossentropy: 0.1887 - val_loss: 0.3873 - val_acc: 0.8706 - val_binary_crossentropy: 0.3873\n",
      "Epoch 13/20\n",
      " - 2s - loss: 0.1682 - acc: 0.9817 - binary_crossentropy: 0.1682 - val_loss: 0.3932 - val_acc: 0.8678 - val_binary_crossentropy: 0.3932\n",
      "Epoch 14/20\n",
      " - 2s - loss: 0.1496 - acc: 0.9840 - binary_crossentropy: 0.1496 - val_loss: 0.4084 - val_acc: 0.8670 - val_binary_crossentropy: 0.4084\n",
      "Epoch 15/20\n",
      " - 2s - loss: 0.1326 - acc: 0.9863 - binary_crossentropy: 0.1326 - val_loss: 0.4196 - val_acc: 0.8661 - val_binary_crossentropy: 0.4196\n",
      "Epoch 16/20\n",
      " - 2s - loss: 0.1178 - acc: 0.9878 - binary_crossentropy: 0.1178 - val_loss: 0.4357 - val_acc: 0.8643 - val_binary_crossentropy: 0.4357\n",
      "Epoch 17/20\n",
      " - 2s - loss: 0.1052 - acc: 0.9892 - binary_crossentropy: 0.1052 - val_loss: 0.4473 - val_acc: 0.8637 - val_binary_crossentropy: 0.4473\n",
      "Epoch 18/20\n",
      " - 2s - loss: 0.0942 - acc: 0.9900 - binary_crossentropy: 0.0942 - val_loss: 0.4816 - val_acc: 0.8626 - val_binary_crossentropy: 0.4816\n",
      "Epoch 19/20\n",
      " - 2s - loss: 0.0849 - acc: 0.9910 - binary_crossentropy: 0.0849 - val_loss: 0.5033 - val_acc: 0.8614 - val_binary_crossentropy: 0.5033\n",
      "Epoch 20/20\n",
      " - 2s - loss: 0.0774 - acc: 0.9913 - binary_crossentropy: 0.0774 - val_loss: 0.5283 - val_acc: 0.8612 - val_binary_crossentropy: 0.5283\n"
     ]
    }
   ],
   "source": [
    "smaller_history = smaller_model.fit(train_data, train_labels,\n",
    "                                   epochs=20, batch_size=512, verbose=2,\n",
    "                                   validation_data=(test_data, test_labels))"
   ]
  },
  {
   "cell_type": "code",
   "execution_count": 22,
   "metadata": {},
   "outputs": [
    {
     "name": "stdout",
     "output_type": "stream",
     "text": [
      "_________________________________________________________________\n",
      "Layer (type)                 Output Shape              Param #   \n",
      "=================================================================\n",
      "dense_13 (Dense)             (None, 512)               5120512   \n",
      "_________________________________________________________________\n",
      "dense_14 (Dense)             (None, 512)               262656    \n",
      "_________________________________________________________________\n",
      "dense_15 (Dense)             (None, 1)                 513       \n",
      "=================================================================\n",
      "Total params: 5,383,681\n",
      "Trainable params: 5,383,681\n",
      "Non-trainable params: 0\n",
      "_________________________________________________________________\n"
     ]
    }
   ],
   "source": [
    "bigger_model = keras.Sequential([\n",
    "    keras.layers.Dense(512, activation=tf.nn.relu, input_shape=(NUM_WORDS,)),\n",
    "    keras.layers.Dense(512, activation=tf.nn.relu),\n",
    "    keras.layers.Dense(1, activation=tf.nn.sigmoid)\n",
    "])\n",
    "\n",
    "bigger_model.compile(optimizer='adam',\n",
    "                    loss='binary_crossentropy',\n",
    "                    metrics=['accuracy', 'binary_crossentropy'])\n",
    "\n",
    "bigger_model.summary()"
   ]
  },
  {
   "cell_type": "code",
   "execution_count": 23,
   "metadata": {},
   "outputs": [
    {
     "name": "stdout",
     "output_type": "stream",
     "text": [
      "Train on 25000 samples, validate on 25000 samples\n",
      "Epoch 1/20\n",
      " - 17s - loss: 0.3463 - acc: 0.8545 - binary_crossentropy: 0.3463 - val_loss: 0.3040 - val_acc: 0.8762 - val_binary_crossentropy: 0.3040\n",
      "Epoch 2/20\n",
      " - 17s - loss: 0.1346 - acc: 0.9510 - binary_crossentropy: 0.1346 - val_loss: 0.3582 - val_acc: 0.8633 - val_binary_crossentropy: 0.3582\n",
      "Epoch 3/20\n",
      " - 18s - loss: 0.0405 - acc: 0.9889 - binary_crossentropy: 0.0405 - val_loss: 0.4389 - val_acc: 0.8694 - val_binary_crossentropy: 0.4389\n",
      "Epoch 4/20\n",
      " - 17s - loss: 0.0059 - acc: 0.9994 - binary_crossentropy: 0.0059 - val_loss: 0.6082 - val_acc: 0.8669 - val_binary_crossentropy: 0.6082\n",
      "Epoch 5/20\n",
      " - 17s - loss: 7.2290e-04 - acc: 1.0000 - binary_crossentropy: 7.2290e-04 - val_loss: 0.6765 - val_acc: 0.8719 - val_binary_crossentropy: 0.6765\n",
      "Epoch 6/20\n",
      " - 17s - loss: 2.0306e-04 - acc: 1.0000 - binary_crossentropy: 2.0306e-04 - val_loss: 0.7157 - val_acc: 0.8723 - val_binary_crossentropy: 0.7157\n",
      "Epoch 7/20\n",
      " - 17s - loss: 1.2460e-04 - acc: 1.0000 - binary_crossentropy: 1.2460e-04 - val_loss: 0.7407 - val_acc: 0.8723 - val_binary_crossentropy: 0.7407\n",
      "Epoch 8/20\n",
      " - 17s - loss: 8.9294e-05 - acc: 1.0000 - binary_crossentropy: 8.9294e-05 - val_loss: 0.7602 - val_acc: 0.8723 - val_binary_crossentropy: 0.7602\n",
      "Epoch 9/20\n",
      " - 17s - loss: 6.7924e-05 - acc: 1.0000 - binary_crossentropy: 6.7924e-05 - val_loss: 0.7777 - val_acc: 0.8719 - val_binary_crossentropy: 0.7777\n",
      "Epoch 10/20\n",
      " - 17s - loss: 5.3237e-05 - acc: 1.0000 - binary_crossentropy: 5.3237e-05 - val_loss: 0.7922 - val_acc: 0.8720 - val_binary_crossentropy: 0.7922\n",
      "Epoch 11/20\n",
      " - 17s - loss: 4.2605e-05 - acc: 1.0000 - binary_crossentropy: 4.2605e-05 - val_loss: 0.8064 - val_acc: 0.8720 - val_binary_crossentropy: 0.8064\n",
      "Epoch 12/20\n",
      " - 17s - loss: 3.4535e-05 - acc: 1.0000 - binary_crossentropy: 3.4535e-05 - val_loss: 0.8190 - val_acc: 0.8721 - val_binary_crossentropy: 0.8190\n",
      "Epoch 13/20\n",
      " - 18s - loss: 2.8336e-05 - acc: 1.0000 - binary_crossentropy: 2.8336e-05 - val_loss: 0.8312 - val_acc: 0.8724 - val_binary_crossentropy: 0.8312\n",
      "Epoch 14/20\n",
      " - 17s - loss: 2.3505e-05 - acc: 1.0000 - binary_crossentropy: 2.3505e-05 - val_loss: 0.8431 - val_acc: 0.8722 - val_binary_crossentropy: 0.8431\n",
      "Epoch 15/20\n",
      " - 18s - loss: 1.9638e-05 - acc: 1.0000 - binary_crossentropy: 1.9638e-05 - val_loss: 0.8541 - val_acc: 0.8724 - val_binary_crossentropy: 0.8541\n",
      "Epoch 16/20\n",
      " - 18s - loss: 1.6563e-05 - acc: 1.0000 - binary_crossentropy: 1.6563e-05 - val_loss: 0.8640 - val_acc: 0.8724 - val_binary_crossentropy: 0.8640\n",
      "Epoch 17/20\n",
      " - 17s - loss: 1.4076e-05 - acc: 1.0000 - binary_crossentropy: 1.4076e-05 - val_loss: 0.8748 - val_acc: 0.8722 - val_binary_crossentropy: 0.8748\n",
      "Epoch 18/20\n",
      " - 17s - loss: 1.2064e-05 - acc: 1.0000 - binary_crossentropy: 1.2064e-05 - val_loss: 0.8834 - val_acc: 0.8723 - val_binary_crossentropy: 0.8834\n",
      "Epoch 19/20\n",
      " - 17s - loss: 1.0386e-05 - acc: 1.0000 - binary_crossentropy: 1.0386e-05 - val_loss: 0.8923 - val_acc: 0.8723 - val_binary_crossentropy: 0.8923\n",
      "Epoch 20/20\n",
      " - 17s - loss: 9.0298e-06 - acc: 1.0000 - binary_crossentropy: 9.0298e-06 - val_loss: 0.9011 - val_acc: 0.8721 - val_binary_crossentropy: 0.9011\n"
     ]
    }
   ],
   "source": [
    "bigger_history = bigger_model.fit(train_data, train_labels,\n",
    "                                 epochs=20, batch_size=512, verbose=2,\n",
    "                                 validation_data=(test_data, test_labels))"
   ]
  },
  {
   "cell_type": "code",
   "execution_count": 25,
   "metadata": {
    "collapsed": true
   },
   "outputs": [
    {
     "data": {
      "text/plain": [
       "{'val_loss': [0.38658821042060854,\n",
       "  0.2890294417667389,\n",
       "  0.288183205947876,\n",
       "  0.31239734330177304,\n",
       "  0.3397390282344818,\n",
       "  0.37177972630500794,\n",
       "  0.42948228490829465,\n",
       "  0.4478609118938446,\n",
       "  0.4933909885978699,\n",
       "  0.5468079772853851,\n",
       "  0.581447890586853,\n",
       "  0.6253001755714417,\n",
       "  0.6667261422729492,\n",
       "  0.7019928365898133,\n",
       "  0.7415129371833801,\n",
       "  0.7669892889213562,\n",
       "  0.8000615661811828,\n",
       "  0.8297010569763184,\n",
       "  0.8452391398620606,\n",
       "  0.8743413351249695],\n",
       " 'val_acc': [0.8685599998474121,\n",
       "  0.8874800004196167,\n",
       "  0.8863200002288818,\n",
       "  0.8784000001335144,\n",
       "  0.8752000004768371,\n",
       "  0.8712000003814697,\n",
       "  0.8632399995231629,\n",
       "  0.8643599998092651,\n",
       "  0.8610799996185303,\n",
       "  0.8586000004386902,\n",
       "  0.8581199996185302,\n",
       "  0.8563999996185303,\n",
       "  0.8560399995231628,\n",
       "  0.8542399995231629,\n",
       "  0.8535200003433228,\n",
       "  0.8527199996185303,\n",
       "  0.8527999997138977,\n",
       "  0.8514399997138977,\n",
       "  0.8518799995231628,\n",
       "  0.8514399997138977],\n",
       " 'val_binary_crossentropy': [0.38658821042060854,\n",
       "  0.2890294417667389,\n",
       "  0.288183205947876,\n",
       "  0.31239734330177304,\n",
       "  0.3397390282344818,\n",
       "  0.37177972630500794,\n",
       "  0.42948228490829465,\n",
       "  0.4478609118938446,\n",
       "  0.4933909885978699,\n",
       "  0.5468079772853851,\n",
       "  0.581447890586853,\n",
       "  0.6253001755714417,\n",
       "  0.6667261422729492,\n",
       "  0.7019928365898133,\n",
       "  0.7415129371833801,\n",
       "  0.7669892889213562,\n",
       "  0.8000615661811828,\n",
       "  0.8297010569763184,\n",
       "  0.8452391398620606,\n",
       "  0.8743413351249695],\n",
       " 'loss': [0.5386479047012329,\n",
       "  0.2776099274158478,\n",
       "  0.1916094574546814,\n",
       "  0.1499012461900711,\n",
       "  0.12234379167318345,\n",
       "  0.09940242901325226,\n",
       "  0.08117088587522507,\n",
       "  0.06645589661359787,\n",
       "  0.0537274191570282,\n",
       "  0.042923544290065764,\n",
       "  0.03482267997145653,\n",
       "  0.026765091027021407,\n",
       "  0.02087134632766247,\n",
       "  0.016526891520023346,\n",
       "  0.01305321243673563,\n",
       "  0.01061675175666809,\n",
       "  0.008720053391754627,\n",
       "  0.007365112919211388,\n",
       "  0.006234380180388689,\n",
       "  0.005414317442774773],\n",
       " 'acc': [0.7391199999046326,\n",
       "  0.909359999885559,\n",
       "  0.9347999998855591,\n",
       "  0.9488800001335144,\n",
       "  0.9605600004959106,\n",
       "  0.9695199997711181,\n",
       "  0.9769999997711182,\n",
       "  0.9822800001525879,\n",
       "  0.9870000002479553,\n",
       "  0.9916000003433227,\n",
       "  0.9936400003433228,\n",
       "  0.9964399999046326,\n",
       "  0.9972799997138977,\n",
       "  0.9985599999046326,\n",
       "  0.99908,\n",
       "  0.9992799999046326,\n",
       "  0.99952,\n",
       "  0.9995599999046326,\n",
       "  0.9996,\n",
       "  0.9996],\n",
       " 'binary_crossentropy': [0.5386479047012329,\n",
       "  0.2776099274158478,\n",
       "  0.1916094574546814,\n",
       "  0.1499012461900711,\n",
       "  0.12234379167318345,\n",
       "  0.09940242901325226,\n",
       "  0.08117088587522507,\n",
       "  0.06645589661359787,\n",
       "  0.0537274191570282,\n",
       "  0.042923544290065764,\n",
       "  0.03482267997145653,\n",
       "  0.026765091027021407,\n",
       "  0.02087134632766247,\n",
       "  0.016526891520023346,\n",
       "  0.01305321243673563,\n",
       "  0.01061675175666809,\n",
       "  0.008720053391754627,\n",
       "  0.007365112919211388,\n",
       "  0.006234380180388689,\n",
       "  0.005414317442774773]}"
      ]
     },
     "execution_count": 25,
     "metadata": {},
     "output_type": "execute_result"
    }
   ],
   "source": [
    "baseline_history.history"
   ]
  },
  {
   "cell_type": "code",
   "execution_count": 6,
   "metadata": {},
   "outputs": [],
   "source": [
    "# Plot history\n",
    "def plot_history(histories, key='binary_crossentropy'):\n",
    "    plt.figure(figsize=(16,10))\n",
    "    \n",
    "    for name, history in histories:\n",
    "        # plot validation as --\n",
    "        val = plt.plot(history.epoch, history.history['val_'+key], '--',\n",
    "                      label=name.title()+' Val')\n",
    "        \n",
    "        # plot training\n",
    "        plt.plot(history.epoch, history.history[key], color=val[0].get_color(),\n",
    "                label=name.title()+' Train')\n",
    "        \n",
    "    plt.xlabel('Epochs')\n",
    "    plt.ylabel(key.replace('_',' ').title())\n",
    "    plt.legend()\n",
    "    \n",
    "    plt.xlim([0, max(history.epoch)])"
   ]
  },
  {
   "cell_type": "code",
   "execution_count": 38,
   "metadata": {},
   "outputs": [
    {
     "data": {
      "image/png": "[encoded data removed]",
      "text/plain": [
       "<Figure size 1152x720 with 1 Axes>"
      ]
     },
     "metadata": {
      "needs_background": "light"
     },
     "output_type": "display_data"
    }
   ],
   "source": [
    " \n",
    "plot_history([('baseline', baseline_history),\n",
    "             ('smaller', smaller_history),\n",
    "             ('bigger', bigger_history)])"
   ]
  },
  {
   "cell_type": "code",
   "execution_count": 9,
   "metadata": {},
   "outputs": [
    {
     "name": "stdout",
     "output_type": "stream",
     "text": [
      "Train on 25000 samples, validate on 25000 samples\n",
      "Epoch 1/20\n",
      " - 3s - loss: 0.5274 - acc: 0.8080 - binary_crossentropy: 0.4842 - val_loss: 0.3852 - val_acc: 0.8756 - val_binary_crossentropy: 0.3400\n",
      "Epoch 2/20\n",
      " - 3s - loss: 0.3107 - acc: 0.9056 - binary_crossentropy: 0.2613 - val_loss: 0.3416 - val_acc: 0.8858 - val_binary_crossentropy: 0.2893\n",
      "Epoch 3/20\n",
      " - 3s - loss: 0.2613 - acc: 0.9259 - binary_crossentropy: 0.2065 - val_loss: 0.3408 - val_acc: 0.8850 - val_binary_crossentropy: 0.2845\n",
      "Epoch 4/20\n",
      " - 3s - loss: 0.2368 - acc: 0.9369 - binary_crossentropy: 0.1791 - val_loss: 0.3519 - val_acc: 0.8816 - val_binary_crossentropy: 0.2933\n",
      "Epoch 5/20\n",
      " - 3s - loss: 0.2223 - acc: 0.9444 - binary_crossentropy: 0.1625 - val_loss: 0.3610 - val_acc: 0.8801 - val_binary_crossentropy: 0.3006\n",
      "Epoch 6/20\n",
      " - 3s - loss: 0.2109 - acc: 0.9488 - binary_crossentropy: 0.1496 - val_loss: 0.3789 - val_acc: 0.8754 - val_binary_crossentropy: 0.3171\n",
      "Epoch 7/20\n",
      " - 3s - loss: 0.2019 - acc: 0.9534 - binary_crossentropy: 0.1394 - val_loss: 0.3874 - val_acc: 0.8735 - val_binary_crossentropy: 0.3247\n",
      "Epoch 8/20\n",
      " - 3s - loss: 0.1954 - acc: 0.9551 - binary_crossentropy: 0.1321 - val_loss: 0.4020 - val_acc: 0.8727 - val_binary_crossentropy: 0.3384\n",
      "Epoch 9/20\n",
      " - 3s - loss: 0.1886 - acc: 0.9582 - binary_crossentropy: 0.1244 - val_loss: 0.4099 - val_acc: 0.8702 - val_binary_crossentropy: 0.3453\n",
      "Epoch 10/20\n",
      " - 3s - loss: 0.1852 - acc: 0.9599 - binary_crossentropy: 0.1203 - val_loss: 0.4252 - val_acc: 0.8687 - val_binary_crossentropy: 0.3599\n",
      "Epoch 11/20\n",
      " - 4s - loss: 0.1802 - acc: 0.9628 - binary_crossentropy: 0.1143 - val_loss: 0.4424 - val_acc: 0.8668 - val_binary_crossentropy: 0.3763\n",
      "Epoch 12/20\n",
      " - 3s - loss: 0.1778 - acc: 0.9625 - binary_crossentropy: 0.1112 - val_loss: 0.4481 - val_acc: 0.8638 - val_binary_crossentropy: 0.3811\n",
      "Epoch 13/20\n",
      " - 3s - loss: 0.1731 - acc: 0.9656 - binary_crossentropy: 0.1058 - val_loss: 0.4608 - val_acc: 0.8624 - val_binary_crossentropy: 0.3933\n",
      "Epoch 14/20\n",
      " - 3s - loss: 0.1681 - acc: 0.9664 - binary_crossentropy: 0.1005 - val_loss: 0.4687 - val_acc: 0.8631 - val_binary_crossentropy: 0.4011\n",
      "Epoch 15/20\n",
      " - 3s - loss: 0.1681 - acc: 0.9671 - binary_crossentropy: 0.1001 - val_loss: 0.4844 - val_acc: 0.8613 - val_binary_crossentropy: 0.4159\n",
      "Epoch 16/20\n",
      " - 3s - loss: 0.1653 - acc: 0.9683 - binary_crossentropy: 0.0963 - val_loss: 0.4942 - val_acc: 0.8606 - val_binary_crossentropy: 0.4251\n",
      "Epoch 17/20\n",
      " - 3s - loss: 0.1627 - acc: 0.9680 - binary_crossentropy: 0.0936 - val_loss: 0.5052 - val_acc: 0.8584 - val_binary_crossentropy: 0.4357\n",
      "Epoch 18/20\n",
      " - 3s - loss: 0.1601 - acc: 0.9689 - binary_crossentropy: 0.0903 - val_loss: 0.5144 - val_acc: 0.8576 - val_binary_crossentropy: 0.4445\n",
      "Epoch 19/20\n",
      " - 3s - loss: 0.1565 - acc: 0.9720 - binary_crossentropy: 0.0865 - val_loss: 0.5302 - val_acc: 0.8530 - val_binary_crossentropy: 0.4603\n",
      "Epoch 20/20\n",
      " - 3s - loss: 0.1546 - acc: 0.9716 - binary_crossentropy: 0.0844 - val_loss: 0.5352 - val_acc: 0.8549 - val_binary_crossentropy: 0.4648\n"
     ]
    }
   ],
   "source": [
    "# L2 regularization\n",
    "l2_model = keras.Sequential([\n",
    "    keras.layers.Dense(16, activation=tf.nn.relu, \n",
    "                       kernel_regularizer=keras.regularizers.l2(0.001),\n",
    "                       input_shape=(NUM_WORDS,)),\n",
    "    keras.layers.Dense(16, activation=tf.nn.relu, \n",
    "                       kernel_regularizer=keras.regularizers.l2(0.001)),\n",
    "    keras.layers.Dense(1, activation=tf.nn.sigmoid)\n",
    "])\n",
    "\n",
    "l2_model.compile(optimizer='adam',\n",
    "                loss='binary_crossentropy',\n",
    "                metrics=['accuracy','binary_crossentropy'])\n",
    "\n",
    "l2_history = l2_model.fit(train_data, train_labels,\n",
    "                          epochs=20, batch_size=521, verbose=2,\n",
    "                          validation_data=(test_data, test_labels))\n",
    "\n",
    "\n"
   ]
  },
  {
   "cell_type": "code",
   "execution_count": 10,
   "metadata": {},
   "outputs": [
    {
     "data": {
      "image/png": "[encoded data removed]",
      "text/plain": [
       "<Figure size 1152x720 with 1 Axes>"
      ]
     },
     "metadata": {
      "needs_background": "light"
     },
     "output_type": "display_data"
    }
   ],
   "source": [
    "plot_history([('baseline', baseline_history),\n",
    "             ('l2_model', l2_history)])"
   ]
  },
  {
   "cell_type": "code",
   "execution_count": 16,
   "metadata": {},
   "outputs": [],
   "source": [
    "# Add dropout\n",
    "dpt_model = keras.Sequential([\n",
    "    keras.layers.Dense(16, activation=tf.nn.relu, input_shape=(NUM_WORDS,)),\n",
    "    keras.layers.Dropout(0.2),\n",
    "    keras.layers.Dense(16, activation=tf.nn.relu),\n",
    "    keras.layers.Dropout(0.2),\n",
    "    keras.layers.Dense(1, activation=tf.nn.sigmoid)\n",
    "])\n",
    "\n",
    "dpt_model.compile(optimizer='adam',\n",
    "                 loss='binary_crossentropy',\n",
    "                 metrics=['accuracy', 'binary_crossentropy'])"
   ]
  },
  {
   "cell_type": "code",
   "execution_count": 17,
   "metadata": {
    "collapsed": true
   },
   "outputs": [
    {
     "name": "stdout",
     "output_type": "stream",
     "text": [
      "Train on 25000 samples, validate on 25000 samples\n",
      "Epoch 1/20\n",
      " - 4s - loss: 0.5399 - acc: 0.7502 - binary_crossentropy: 0.5399 - val_loss: 0.3710 - val_acc: 0.8672 - val_binary_crossentropy: 0.3710\n",
      "Epoch 2/20\n",
      " - 3s - loss: 0.3164 - acc: 0.8831 - binary_crossentropy: 0.3164 - val_loss: 0.2889 - val_acc: 0.8861 - val_binary_crossentropy: 0.2889\n",
      "Epoch 3/20\n",
      " - 3s - loss: 0.2330 - acc: 0.9160 - binary_crossentropy: 0.2330 - val_loss: 0.2774 - val_acc: 0.8876 - val_binary_crossentropy: 0.2774\n",
      "Epoch 4/20\n",
      " - 3s - loss: 0.1858 - acc: 0.9364 - binary_crossentropy: 0.1858 - val_loss: 0.2906 - val_acc: 0.8825 - val_binary_crossentropy: 0.2906\n",
      "Epoch 5/20\n",
      " - 3s - loss: 0.1505 - acc: 0.9512 - binary_crossentropy: 0.1505 - val_loss: 0.3051 - val_acc: 0.8819 - val_binary_crossentropy: 0.3051\n",
      "Epoch 6/20\n",
      " - 3s - loss: 0.1219 - acc: 0.9604 - binary_crossentropy: 0.1219 - val_loss: 0.3323 - val_acc: 0.8776 - val_binary_crossentropy: 0.3323\n",
      "Epoch 7/20\n",
      " - 3s - loss: 0.0988 - acc: 0.9700 - binary_crossentropy: 0.0988 - val_loss: 0.3577 - val_acc: 0.8751 - val_binary_crossentropy: 0.3577\n",
      "Epoch 8/20\n",
      " - 3s - loss: 0.0811 - acc: 0.9754 - binary_crossentropy: 0.0811 - val_loss: 0.3940 - val_acc: 0.8742 - val_binary_crossentropy: 0.3940\n",
      "Epoch 9/20\n",
      " - 3s - loss: 0.0647 - acc: 0.9800 - binary_crossentropy: 0.0647 - val_loss: 0.4197 - val_acc: 0.8714 - val_binary_crossentropy: 0.4197\n",
      "Epoch 10/20\n",
      " - 3s - loss: 0.0538 - acc: 0.9851 - binary_crossentropy: 0.0538 - val_loss: 0.4483 - val_acc: 0.8692 - val_binary_crossentropy: 0.4483\n",
      "Epoch 11/20\n",
      " - 4s - loss: 0.0453 - acc: 0.9874 - binary_crossentropy: 0.0453 - val_loss: 0.4830 - val_acc: 0.8692 - val_binary_crossentropy: 0.4830\n",
      "Epoch 12/20\n",
      " - 3s - loss: 0.0366 - acc: 0.9903 - binary_crossentropy: 0.0366 - val_loss: 0.5280 - val_acc: 0.8708 - val_binary_crossentropy: 0.5280\n",
      "Epoch 13/20\n",
      " - 3s - loss: 0.0297 - acc: 0.9921 - binary_crossentropy: 0.0297 - val_loss: 0.5485 - val_acc: 0.8670 - val_binary_crossentropy: 0.5485\n",
      "Epoch 14/20\n",
      " - 3s - loss: 0.0267 - acc: 0.9930 - binary_crossentropy: 0.0267 - val_loss: 0.5814 - val_acc: 0.8666 - val_binary_crossentropy: 0.5814\n",
      "Epoch 15/20\n",
      " - 3s - loss: 0.0225 - acc: 0.9942 - binary_crossentropy: 0.0225 - val_loss: 0.6237 - val_acc: 0.8653 - val_binary_crossentropy: 0.6237\n",
      "Epoch 16/20\n",
      " - 3s - loss: 0.0211 - acc: 0.9938 - binary_crossentropy: 0.0211 - val_loss: 0.6199 - val_acc: 0.8656 - val_binary_crossentropy: 0.6199\n",
      "Epoch 17/20\n",
      " - 3s - loss: 0.0178 - acc: 0.9957 - binary_crossentropy: 0.0178 - val_loss: 0.6788 - val_acc: 0.8654 - val_binary_crossentropy: 0.6788\n",
      "Epoch 18/20\n",
      " - 3s - loss: 0.0163 - acc: 0.9960 - binary_crossentropy: 0.0163 - val_loss: 0.6826 - val_acc: 0.8646 - val_binary_crossentropy: 0.6826\n",
      "Epoch 19/20\n",
      " - 3s - loss: 0.0142 - acc: 0.9965 - binary_crossentropy: 0.0142 - val_loss: 0.7223 - val_acc: 0.8650 - val_binary_crossentropy: 0.7223\n",
      "Epoch 20/20\n",
      " - 3s - loss: 0.0130 - acc: 0.9967 - binary_crossentropy: 0.0130 - val_loss: 0.7325 - val_acc: 0.8641 - val_binary_crossentropy: 0.7325\n"
     ]
    }
   ],
   "source": [
    "dpt_history = dpt_model.fit(train_data, train_labels,\n",
    "                           epochs=20, batch_size=512, verbose=2,\n",
    "                           validation_data=(test_data, test_labels))"
   ]
  },
  {
   "cell_type": "code",
   "execution_count": 18,
   "metadata": {},
   "outputs": [
    {
     "data": {
      "image/png": "[encoded data removed]",
      "text/plain": [
       "<Figure size 1152x720 with 1 Axes>"
      ]
     },
     "metadata": {
      "needs_background": "light"
     },
     "output_type": "display_data"
    }
   ],
   "source": [
    "plot_history([('baseline', baseline_history),\n",
    "             ('L2', l2_history)])"
   ]
  },
  {
   "cell_type": "markdown",
   "metadata": {},
   "source": [
    "# Save and restore models"
   ]
  },
  {
   "cell_type": "code",
   "execution_count": 1,
   "metadata": {},
   "outputs": [
    {
     "data": {
      "text/plain": [
       "'1.5.0'"
      ]
     },
     "execution_count": 1,
     "metadata": {},
     "output_type": "execute_result"
    }
   ],
   "source": [
    "from __future__ import absolute_import, division, print_function\n",
    "\n",
    "import os\n",
    "\n",
    "import tensorflow as tf\n",
    "from tensorflow import keras\n",
    "\n",
    "tf.__version__"
   ]
  },
  {
   "cell_type": "code",
   "execution_count": 2,
   "metadata": {},
   "outputs": [],
   "source": [
    "(train_images, train_labels), (test_images, test_labels) = keras.datasets.mnist.load_data()\n",
    "\n",
    "train_labels = train_labels[:1000]\n",
    "test_labels = test_labels[:1000]\n",
    "\n",
    "train_images = train_images[:1000].reshape((-1,28*28)) / 255.0\n",
    "test_images = test_images[:1000].reshape((-1,28*28)) / 255.0"
   ]
  },
  {
   "cell_type": "code",
   "execution_count": 3,
   "metadata": {},
   "outputs": [
    {
     "name": "stdout",
     "output_type": "stream",
     "text": [
      "WARNING:tensorflow:From /home/chsu/anaconda3/envs/py36/lib/python3.6/site-packages/tensorflow/python/keras/_impl/keras/backend.py:1557: calling reduce_mean (from tensorflow.python.ops.math_ops) with keep_dims is deprecated and will be removed in a future version.\n",
      "Instructions for updating:\n",
      "keep_dims is deprecated, use keepdims instead\n",
      "WARNING:tensorflow:From /home/chsu/anaconda3/envs/py36/lib/python3.6/site-packages/tensorflow/python/keras/_impl/keras/backend.py:1422: calling reduce_max (from tensorflow.python.ops.math_ops) with keep_dims is deprecated and will be removed in a future version.\n",
      "Instructions for updating:\n",
      "keep_dims is deprecated, use keepdims instead\n",
      "_________________________________________________________________\n",
      "Layer (type)                 Output Shape              Param #   \n",
      "=================================================================\n",
      "dense_1 (Dense)              (None, 512)               401920    \n",
      "_________________________________________________________________\n",
      "dropout_1 (Dropout)          (None, 512)               0         \n",
      "_________________________________________________________________\n",
      "dense_2 (Dense)              (None, 10)                5130      \n",
      "=================================================================\n",
      "Total params: 407,050\n",
      "Trainable params: 407,050\n",
      "Non-trainable params: 0\n",
      "_________________________________________________________________\n"
     ]
    }
   ],
   "source": [
    "def create_model():\n",
    "    model = keras.Sequential([\n",
    "        keras.layers.Dense(512, activation='relu', input_shape=(784,)),\n",
    "        keras.layers.Dropout(0.2),\n",
    "        keras.layers.Dense(10, activation='softmax')\n",
    "    ])\n",
    "    \n",
    "    model.compile(optimizer='adam',\n",
    "                  loss='sparse_categorical_crossentropy',\n",
    "                  metrics=['accuracy'])\n",
    "    return model\n",
    "\n",
    "model = create_model()\n",
    "model.summary()"
   ]
  },
  {
   "cell_type": "code",
   "execution_count": 48,
   "metadata": {},
   "outputs": [
    {
     "name": "stdout",
     "output_type": "stream",
     "text": [
      "Train on 1000 samples, validate on 1000 samples\n",
      "Epoch 1/10\n",
      " 832/1000 [=======================>......] 832/1000 [=======================>......] - ETA: 0s - loss: 1.2565 - acc: 0.6430Epoch 00001: saving model to training_1/cp.ckpt\n",
      "1000/1000 [==============================]1000/1000 [==============================] - 1s 790us/step - loss: 1.1545 - acc: 0.6680 - val_loss: 0.7207 - val_acc: 0.7850\n",
      "\n",
      "Epoch 2/10\n",
      " 992/1000 [============================>.] 992/1000 [============================>.] - ETA: 0s - loss: 0.4347 - acc: 0.8821Epoch 00002: saving model to training_1/cp.ckpt\n",
      "1000/1000 [==============================]1000/1000 [==============================] - 0s 377us/step - loss: 0.4335 - acc: 0.8820 - val_loss: 0.5502 - val_acc: 0.8270\n",
      "\n",
      "Epoch 3/10\n",
      " 992/1000 [============================>.] 992/1000 [============================>.] - ETA: 0s - loss: 0.2709 - acc: 0.9315Epoch 00003: saving model to training_1/cp.ckpt\n",
      "1000/1000 [==============================]1000/1000 [==============================] - 0s 351us/step - loss: 0.2764 - acc: 0.9290 - val_loss: 0.4531 - val_acc: 0.8580\n",
      "\n",
      "Epoch 4/10\n",
      " 992/1000 [============================>.] 992/1000 [============================>.] - ETA: 0s - loss: 0.2055 - acc: 0.9506Epoch 00004: saving model to training_1/cp.ckpt\n",
      "1000/1000 [==============================]1000/1000 [==============================] - 0s 355us/step - loss: 0.2043 - acc: 0.9510 - val_loss: 0.4164 - val_acc: 0.8700\n",
      "\n",
      "Epoch 5/10\n",
      " 832/1000 [=======================>......] 832/1000 [=======================>......] - ETA: 0s - loss: 0.1549 - acc: 0.9639Epoch 00005: saving model to training_1/cp.ckpt\n",
      "1000/1000 [==============================]1000/1000 [==============================] - 0s 350us/step - loss: 0.1547 - acc: 0.9640 - val_loss: 0.4176 - val_acc: 0.8700\n",
      "\n",
      "Epoch 6/10\n",
      " 832/1000 [=======================>......] 832/1000 [=======================>......] - ETA: 0s - loss: 0.1085 - acc: 0.9820Epoch 00006: saving model to training_1/cp.ckpt\n",
      "1000/1000 [==============================]1000/1000 [==============================] - 0s 358us/step - loss: 0.1077 - acc: 0.9840 - val_loss: 0.3974 - val_acc: 0.8700\n",
      "\n",
      "Epoch 7/10\n",
      " 992/1000 [============================>.] 992/1000 [============================>.] - ETA: 0s - loss: 0.0839 - acc: 0.9879Epoch 00007: saving model to training_1/cp.ckpt\n",
      "1000/1000 [==============================]1000/1000 [==============================] - 0s 357us/step - loss: 0.0834 - acc: 0.9880 - val_loss: 0.3921 - val_acc: 0.8650\n",
      "\n",
      "Epoch 8/10\n",
      " 800/1000 [=======================>......] 800/1000 [=======================>......] - ETA: 0s - loss: 0.0670 - acc: 0.9925Epoch 00008: saving model to training_1/cp.ckpt\n",
      "1000/1000 [==============================]1000/1000 [==============================] - 0s 348us/step - loss: 0.0657 - acc: 0.9930 - val_loss: 0.3968 - val_acc: 0.8700\n",
      "\n",
      "Epoch 9/10\n",
      " 992/1000 [============================>.] 992/1000 [============================>.] - ETA: 0s - loss: 0.0493 - acc: 0.9970Epoch 00009: saving model to training_1/cp.ckpt\n",
      "1000/1000 [==============================]1000/1000 [==============================] - 0s 359us/step - loss: 0.0499 - acc: 0.9970 - val_loss: 0.4136 - val_acc: 0.8640\n",
      "\n",
      "Epoch 10/10\n",
      " 992/1000 [============================>.] 992/1000 [============================>.] - ETA: 0s - loss: 0.0413 - acc: 0.9980Epoch 00010: saving model to training_1/cp.ckpt\n",
      "1000/1000 [==============================]1000/1000 [==============================] - 0s 359us/step - loss: 0.0411 - acc: 0.9980 - val_loss: 0.4028 - val_acc: 0.8660\n",
      "\n"
     ]
    },
    {
     "data": {
      "text/plain": [
       "<tensorflow.python.keras._impl.keras.callbacks.History at 0x7f3d6d2b0a58>"
      ]
     },
     "execution_count": 48,
     "metadata": {},
     "output_type": "execute_result"
    }
   ],
   "source": [
    "checkpoint_path = \"training_1/cp.ckpt\"\n",
    "checkpoint_dir = os.path.dirname(checkpoint_path)\n",
    "\n",
    "cp_callback = keras.callbacks.ModelCheckpoint(checkpoint_path, verbose=1, save_weights_only=True)\n",
    "\n",
    "model.fit(train_images, train_labels, epochs=10,\n",
    "         validation_data=(test_images, test_labels),\n",
    "         callbacks=[cp_callback])"
   ]
  },
  {
   "cell_type": "code",
   "execution_count": 6,
   "metadata": {},
   "outputs": [
    {
     "name": "stdout",
     "output_type": "stream",
     "text": [
      "cp.ckpt\r\n"
     ]
    }
   ],
   "source": [
    "!ls {checkpoint_dir}"
   ]
  },
  {
   "cell_type": "code",
   "execution_count": 7,
   "metadata": {},
   "outputs": [
    {
     "name": "stdout",
     "output_type": "stream",
     "text": [
      "1000/1000 [==============================]1000/1000 [==============================] - 0s 132us/step\n",
      "\n",
      "Untrained model, accuracy: 11.90%\n"
     ]
    }
   ],
   "source": [
    "model = create_model()\n",
    "\n",
    "loss, acc = model.evaluate(test_images, test_labels)\n",
    "print(\"Untrained model, accuracy: {:0.2f}%\".format(acc*100.0))"
   ]
  },
  {
   "cell_type": "code",
   "execution_count": 8,
   "metadata": {},
   "outputs": [
    {
     "name": "stdout",
     "output_type": "stream",
     "text": [
      "1000/1000 [==============================]1000/1000 [==============================] - 0s 51us/step\n",
      "\n",
      "Restored model, accuracy: 86.30%\n"
     ]
    }
   ],
   "source": [
    "model.load_weights(checkpoint_path)\n",
    "\n",
    "loss, acc = model.evaluate(test_images, test_labels)\n",
    "print(\"Restored model, accuracy: {:0.2f}%\".format(acc*100.0))"
   ]
  },
  {
   "cell_type": "code",
   "execution_count": 25,
   "metadata": {},
   "outputs": [
    {
     "name": "stdout",
     "output_type": "stream",
     "text": [
      "Epoch 00005: saving model to training_2/cp-0005.ckpt\n",
      "Epoch 00010: saving model to training_2/cp-0010.ckpt\n",
      "Epoch 00015: saving model to training_2/cp-0015.ckpt\n",
      "Epoch 00020: saving model to training_2/cp-0020.ckpt\n",
      "Epoch 00025: saving model to training_2/cp-0025.ckpt\n",
      "Epoch 00030: saving model to training_2/cp-0030.ckpt\n",
      "Epoch 00035: saving model to training_2/cp-0035.ckpt\n",
      "Epoch 00040: saving model to training_2/cp-0040.ckpt\n",
      "Epoch 00045: saving model to training_2/cp-0045.ckpt\n",
      "Epoch 00050: saving model to training_2/cp-0050.ckpt\n"
     ]
    },
    {
     "data": {
      "text/plain": [
       "<tensorflow.python.keras._impl.keras.callbacks.History at 0x7f3d8c758048>"
      ]
     },
     "execution_count": 25,
     "metadata": {},
     "output_type": "execute_result"
    }
   ],
   "source": [
    "checkpoint_path = \"training_2/cp-{epoch:04d}.ckpt\" # epoch is a reserved word\n",
    "checkpoint_dir = os.path.dirname(checkpoint_path)\n",
    "\n",
    "cp_callback = keras.callbacks.ModelCheckpoint(checkpoint_path, save_weights_only=True,\n",
    "                                             period=5, verbose=1)\n",
    "\n",
    "model = create_model()\n",
    "\n",
    "model.save_weights(checkpoint_path.format(epoch=0)) \n",
    "model.fit(train_images, train_labels, epochs=50, verbose=0,\n",
    "         validation_data=(test_images, test_labels),\n",
    "         callbacks=[cp_callback])"
   ]
  },
  {
   "cell_type": "code",
   "execution_count": 26,
   "metadata": {},
   "outputs": [
    {
     "name": "stdout",
     "output_type": "stream",
     "text": [
      "cp-0000.ckpt  cp-0015.ckpt  cp-0030.ckpt  cp-0045.ckpt\r\n",
      "cp-0005.ckpt  cp-0020.ckpt  cp-0035.ckpt  cp-0050.ckpt\r\n",
      "cp-0010.ckpt  cp-0025.ckpt  cp-0040.ckpt\r\n"
     ]
    }
   ],
   "source": [
    "!ls {checkpoint_dir}"
   ]
  },
  {
   "cell_type": "code",
   "execution_count": 30,
   "metadata": {},
   "outputs": [
    {
     "name": "stdout",
     "output_type": "stream",
     "text": [
      "None\n"
     ]
    }
   ],
   "source": [
    "latest = tf.train.latest_checkpoint(checkpoint_dir) # need to test in 1.12\n",
    "print(latest)\n",
    "latest = checkpoint_path.format(epoch=50)"
   ]
  },
  {
   "cell_type": "code",
   "execution_count": 37,
   "metadata": {},
   "outputs": [
    {
     "name": "stdout",
     "output_type": "stream",
     "text": [
      "1000/1000 [==============================]1000/1000 [==============================] - 0s 151us/step\n",
      "\n",
      "Restored model, accuracy: 88.10%\n"
     ]
    }
   ],
   "source": [
    "model = create_model()\n",
    "model.load_weights(latest)\n",
    "loss, acc = model.evaluate(test_images, test_labels)\n",
    "print(\"Restored model, accuracy: {:0.2f}%\".format(100*acc))"
   ]
  },
  {
   "cell_type": "code",
   "execution_count": 38,
   "metadata": {},
   "outputs": [
    {
     "name": "stdout",
     "output_type": "stream",
     "text": [
      "1000/1000 [==============================]1000/1000 [==============================] - 0s 149us/step\n",
      "\n",
      "Restored model, accuracy: 88.10%\n"
     ]
    }
   ],
   "source": [
    "# Manually save weights\n",
    "model.save_weights(\"./checkpoints/my_checkpoint\")\n",
    "\n",
    "model = create_model()\n",
    "model.load_weights(\"./checkpoints/my_checkpoint\")\n",
    "loss, acc = model.evaluate(test_images, test_labels)\n",
    "print(\"Restored model, accuracy: {:0.2f}%\".format(100*acc))"
   ]
  },
  {
   "cell_type": "code",
   "execution_count": 49,
   "metadata": {},
   "outputs": [],
   "source": [
    "# Save the whole model as an HDF5\n",
    "model = create_model()\n",
    "\n",
    "model.fit(train_images, train_labels, epochs=5)\n",
    "model.save('my_model.h5')"
   ]
  },
  {
   "cell_type": "code",
   "execution_count": 5,
   "metadata": {},
   "outputs": [
    {
     "name": "stdout",
     "output_type": "stream",
     "text": [
      "_________________________________________________________________\n",
      "Layer (type)                 Output Shape              Param #   \n",
      "=================================================================\n",
      "dense_1 (Dense)              (None, 512)               401920    \n",
      "_________________________________________________________________\n",
      "dropout_1 (Dropout)          (None, 512)               0         \n",
      "_________________________________________________________________\n",
      "dense_2 (Dense)              (None, 10)                5130      \n",
      "=================================================================\n",
      "Total params: 407,050\n",
      "Trainable params: 407,050\n",
      "Non-trainable params: 0\n",
      "_________________________________________________________________\n"
     ]
    }
   ],
   "source": [
    "new_model = keras.models.load_model('my_model.h5')\n",
    "new_model.summary()"
   ]
  },
  {
   "cell_type": "code",
   "execution_count": 6,
   "metadata": {},
   "outputs": [
    {
     "name": "stdout",
     "output_type": "stream",
     "text": [
      "1000/1000 [==============================]1000/1000 [==============================] - 0s 88us/step\n",
      "\n",
      "Restored model, accuracy: 87.00%\n"
     ]
    }
   ],
   "source": [
    "loss, acc = new_model.evaluate(test_images, test_labels)\n",
    "print(\"Restored model, accuracy: {:0.2f}%\".format(100*acc))"
   ]
  }
 ],
 "metadata": {
  "kernelspec": {
   "display_name": "Python 3",
   "language": "python",
   "name": "python3"
  },
  "language_info": {
   "codemirror_mode": {
    "name": "ipython",
    "version": 3
   },
   "file_extension": ".py",
   "mimetype": "text/x-python",
   "name": "python",
   "nbconvert_exporter": "python",
   "pygments_lexer": "ipython3",
   "version": "3.6.8"
  }
 },
 "nbformat": 4,
 "nbformat_minor": 2
}
