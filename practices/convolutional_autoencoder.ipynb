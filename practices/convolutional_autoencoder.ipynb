{
 "cells": [
  {
   "cell_type": "code",
   "execution_count": 1,
   "metadata": {},
   "outputs": [],
   "source": [
    "import tensorflow as tf\n",
    "from tensorflow.keras import layers, losses, models\n",
    "\n",
    "import numpy as np\n",
    "import matplotlib.pyplot as plt\n"
   ]
  },
  {
   "cell_type": "markdown",
   "metadata": {},
   "source": [
    "# Get MNIST data"
   ]
  },
  {
   "cell_type": "code",
   "execution_count": 2,
   "metadata": {},
   "outputs": [
    {
     "name": "stdout",
     "output_type": "stream",
     "text": [
      "Number of training data: 60000\n",
      "Number of test data: 10000\n",
      "\n",
      "x shape: (60000, 28, 28, 1)\n",
      "y shape: (60000,)\n",
      "\n",
      "x range: [0.0, 1.0]\n",
      "x type: float64\n",
      "Unique labels: [0 1 2 3 4 5 6 7 8 9]\n"
     ]
    }
   ],
   "source": [
    "(x_train, y_train), (x_test, y_test) = tf.keras.datasets.mnist.load_data()\n",
    "x_train = np.expand_dims(x_train / 255., axis=-1)\n",
    "x_test = np.expand_dims(x_test / 255., axis=-1)\n",
    "\n",
    "print(\"Number of training data: {}\".format(len(x_train)))\n",
    "print(\"Number of test data: {}\".format(len(x_test)))\n",
    "print()\n",
    "print(\"x shape: {}\".format(x_train.shape))\n",
    "print(\"y shape: {}\".format(y_train.shape))\n",
    "print()\n",
    "print(\"x range: {}\".format([x_train.min(), x_train.max()]))\n",
    "print(\"x type: {}\".format(x_train.dtype))\n",
    "print(\"Unique labels: {}\".format(np.unique(y_train)))"
   ]
  },
  {
   "cell_type": "markdown",
   "metadata": {},
   "source": [
    "# Build a convolutional autoencoder"
   ]
  },
  {
   "cell_type": "code",
   "execution_count": 3,
   "metadata": {},
   "outputs": [],
   "source": [
    "class CAE(models.Model):\n",
    "    \n",
    "    def __init__(self, input_shape, num_filters_list, latent_dim):\n",
    "        super(CAE, self).__init__()\n",
    "        self.latent_dim = latent_dim\n",
    "        \n",
    "        self.encode_net = tf.keras.Sequential(\n",
    "            [layers.InputLayer(input_shape=input_shape)] + \\\n",
    "            [self.encoder(n) for n in num_filters_list] + \\\n",
    "            [layers.Flatten(),\n",
    "             layers.Dense(latent_dim)]\n",
    "        )\n",
    "        \n",
    "        r = tf.cast(input_shape[0] / 2**len(num_filters_list), tf.int32)\n",
    "        c = tf.cast(input_shape[1] / 2**len(num_filters_list), tf.int32)\n",
    "        decode_num_filters_list = [n for n in reversed(num_filters_list[:-1])] + [input_shape[-1]]\n",
    "        \n",
    "        self.decode_net = tf.keras.Sequential(\n",
    "            [layers.Dense(r * c * num_filters_list[-1]),\n",
    "             layers.Reshape(target_shape=(r, c, num_filters_list[-1]))] + \\\n",
    "            [self.decoder(n) for n in decode_num_filters_list]\n",
    "        )\n",
    "        \n",
    "    def encoder(self, num_filters):\n",
    "        return tf.keras.Sequential([\n",
    "            layers.Conv2D(num_filters, (3, 3), padding='same', activation='relu'),\n",
    "            layers.MaxPool2D(pool_size=(2, 2), strides=(2, 2))\n",
    "        ])\n",
    "    \n",
    "    def decoder(self, num_filters):\n",
    "        return layers.Conv2DTranspose(num_filters, kernel_size=(2, 2), strides=(2, 2), activation='relu')\n",
    "    \n",
    "    \n",
    "    def call(self, inputs):\n",
    "        z = self.encode_net(inputs)\n",
    "        return self.decode_net(z)\n",
    "    \n",
    "    def encode(self, x):\n",
    "        return self.encode_net(x)\n",
    "    \n",
    "    def decode(self, z):\n",
    "        return self.decode_net(z) "
   ]
  },
  {
   "cell_type": "markdown",
   "metadata": {},
   "source": [
    "# Train the model"
   ]
  },
  {
   "cell_type": "code",
   "execution_count": 4,
   "metadata": {},
   "outputs": [],
   "source": [
    "model = CAE(input_shape=(28, 28, 1), num_filters_list=[32, 64], latent_dim=30)\n",
    "model.compile(optimizer='adam', loss=losses.mean_squared_error)"
   ]
  },
  {
   "cell_type": "code",
   "execution_count": 5,
   "metadata": {},
   "outputs": [
    {
     "name": "stdout",
     "output_type": "stream",
     "text": [
      "Train on 48000 samples, validate on 12000 samples\n",
      "Epoch 1/20\n",
      "48000/48000 [==============================] - 16s 326us/sample - loss: 0.0157 - val_loss: 0.0084\n",
      "Epoch 2/20\n",
      "48000/48000 [==============================] - 14s 294us/sample - loss: 0.0073 - val_loss: 0.0069\n",
      "Epoch 3/20\n",
      "48000/48000 [==============================] - 14s 297us/sample - loss: 0.0065 - val_loss: 0.0063\n",
      "Epoch 4/20\n",
      "48000/48000 [==============================] - 14s 297us/sample - loss: 0.0061 - val_loss: 0.0061\n",
      "Epoch 5/20\n",
      "48000/48000 [==============================] - 14s 295us/sample - loss: 0.0058 - val_loss: 0.0058\n",
      "Epoch 6/20\n",
      "48000/48000 [==============================] - 14s 295us/sample - loss: 0.0056 - val_loss: 0.0057\n",
      "Epoch 7/20\n",
      "48000/48000 [==============================] - 14s 300us/sample - loss: 0.0055 - val_loss: 0.0057\n",
      "Epoch 8/20\n",
      "48000/48000 [==============================] - 14s 301us/sample - loss: 0.0054 - val_loss: 0.0055\n",
      "Epoch 9/20\n",
      "48000/48000 [==============================] - 14s 299us/sample - loss: 0.0053 - val_loss: 0.0055\n",
      "Epoch 10/20\n",
      "48000/48000 [==============================] - 14s 300us/sample - loss: 0.0052 - val_loss: 0.0054\n",
      "Epoch 11/20\n",
      "48000/48000 [==============================] - 14s 296us/sample - loss: 0.0051 - val_loss: 0.0054\n",
      "Epoch 12/20\n",
      "48000/48000 [==============================] - 14s 295us/sample - loss: 0.0051 - val_loss: 0.0053\n",
      "Epoch 13/20\n",
      "48000/48000 [==============================] - 15s 304us/sample - loss: 0.0050 - val_loss: 0.0053\n",
      "Epoch 14/20\n",
      "48000/48000 [==============================] - 14s 296us/sample - loss: 0.0050 - val_loss: 0.0052\n",
      "Epoch 15/20\n",
      "48000/48000 [==============================] - 19s 393us/sample - loss: 0.0049 - val_loss: 0.0052\n",
      "Epoch 16/20\n",
      "48000/48000 [==============================] - 14s 291us/sample - loss: 0.0049 - val_loss: 0.0052\n",
      "Epoch 17/20\n",
      "48000/48000 [==============================] - 14s 289us/sample - loss: 0.0049 - val_loss: 0.0051\n",
      "Epoch 18/20\n",
      "48000/48000 [==============================] - 12s 259us/sample - loss: 0.0048 - val_loss: 0.0051\n",
      "Epoch 19/20\n",
      "48000/48000 [==============================] - 12s 254us/sample - loss: 0.0048 - val_loss: 0.0051\n",
      "Epoch 20/20\n",
      "48000/48000 [==============================] - 12s 245us/sample - loss: 0.0048 - val_loss: 0.0051\n"
     ]
    }
   ],
   "source": [
    "cp = tf.keras.callbacks.ModelCheckpoint('tmp/weights-{epoch:04d}.ckpt', verbose=1,\n",
    "                                        save_best_only=True, save_weights_only=True)\n",
    "history = model.fit(x_train, x_train, batch_size=32, epochs=20, validation_split=0.2, callbacks=[cp])"
   ]
  },
  {
   "cell_type": "code",
   "execution_count": null,
   "metadata": {},
   "outputs": [],
   "source": [
    "%matplotlib notebook\n",
    "x_pred = model(X2[:5])\n",
    "for i in range(len(x_pred)):   \n",
    "    \n",
    "    plt.subplot(5,2,2*i+1)\n",
    "    plt.imshow(X2[i,...,0], cmap='gray')\n",
    "    \n",
    "    plt.subplot(5,2,2*i+2)\n",
    "    plt.imshow(x_pred[i,...,0], cmap='gray')"
   ]
  },
  {
   "cell_type": "code",
   "execution_count": null,
   "metadata": {},
   "outputs": [],
   "source": [
    "\n",
    "\n",
    "\n",
    "\n",
    "\n",
    "\n",
    "\n",
    "\n",
    "\n",
    "\n",
    "\n",
    "\n",
    "\n",
    "\n",
    "\n",
    "\n",
    "\n",
    "\n",
    "\n",
    "\n",
    "\n",
    "\n",
    "\n",
    "\n",
    "\n",
    "\n",
    "\n",
    "\n"
   ]
  }
 ],
 "metadata": {
  "kernelspec": {
   "display_name": "Python 3",
   "language": "python",
   "name": "python3"
  },
  "language_info": {
   "codemirror_mode": {
    "name": "ipython",
    "version": 3
   },
   "file_extension": ".py",
   "mimetype": "text/x-python",
   "name": "python",
   "nbconvert_exporter": "python",
   "pygments_lexer": "ipython3",
   "version": "3.6.8"
  }
 },
 "nbformat": 4,
 "nbformat_minor": 2
}
