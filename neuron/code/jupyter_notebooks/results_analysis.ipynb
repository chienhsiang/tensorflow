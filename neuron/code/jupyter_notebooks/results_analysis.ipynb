{
 "cells": [
  {
   "cell_type": "code",
   "execution_count": null,
   "metadata": {},
   "outputs": [],
   "source": [
    "import sys, os, re\n",
    "sys.path.append(r\"/awlab/users/chsu/WorkSpace/tensorflow/neuron/code\")\n",
    "# sys.path.append(r\"D:\\USERS\\Han-Hsuan\\neuron\\code\")\n",
    "\n",
    "import pandas as pd\n",
    "import matplotlib.pyplot as plt\n",
    "\n",
    "import analyze_predictions"
   ]
  },
  {
   "cell_type": "markdown",
   "metadata": {},
   "source": [
    "# Set parameters"
   ]
  },
  {
   "cell_type": "code",
   "execution_count": null,
   "metadata": {},
   "outputs": [],
   "source": [
    "prob_threshold = 0.5\n",
    "dil_type = 2 # 1: 4-connectivity, 2: 8-connectivity\n",
    "min_area = 5 # minimal object area\n",
    "\n",
    "dataset = 'adults_larvae'\n",
    "model_names = ['AL_uw']\n",
    "tags = ['']\n",
    "output_csv = None # csv file name to save (e.g. 'results.csv'), set to None if not saving\n",
    "\n",
    "# set parameters\n",
    "analyze_predictions.PROB_THRESHOLD = prob_threshold\n",
    "analyze_predictions.DIL_TYPE = dil_type\n",
    "analyze_predictions.MIN_AREA = min_area"
   ]
  },
  {
   "cell_type": "markdown",
   "metadata": {},
   "source": [
    "# Get data frame"
   ]
  },
  {
   "cell_type": "code",
   "execution_count": null,
   "metadata": {},
   "outputs": [],
   "source": [
    "df = analyze_predictions.main(dataset, model_names, tags=tags, output_csv=output_csv)"
   ]
  },
  {
   "cell_type": "markdown",
   "metadata": {},
   "source": [
    "# Add metadata from file name"
   ]
  },
  {
   "cell_type": "code",
   "execution_count": 4,
   "metadata": {},
   "outputs": [
    {
     "data": {
      "text/html": [
       "<div>\n",
       "<style scoped>\n",
       "    .dataframe tbody tr th:only-of-type {\n",
       "        vertical-align: middle;\n",
       "    }\n",
       "\n",
       "    .dataframe tbody tr th {\n",
       "        vertical-align: top;\n",
       "    }\n",
       "\n",
       "    .dataframe thead th {\n",
       "        text-align: right;\n",
       "    }\n",
       "</style>\n",
       "<table border=\"1\" class=\"dataframe\">\n",
       "  <thead>\n",
       "    <tr style=\"text-align: right;\">\n",
       "      <th></th>\n",
       "      <th>file_name</th>\n",
       "      <th>mean_intensity</th>\n",
       "      <th>area_true</th>\n",
       "      <th>n_endpoints_true</th>\n",
       "      <th>dice_loss</th>\n",
       "      <th>area_pred</th>\n",
       "      <th>n_endpoints_pred</th>\n",
       "      <th>type</th>\n",
       "    </tr>\n",
       "  </thead>\n",
       "  <tbody>\n",
       "    <tr>\n",
       "      <th>0</th>\n",
       "      <td>10_CEO_Larvae.png</td>\n",
       "      <td>73.703910</td>\n",
       "      <td>23649.0</td>\n",
       "      <td>750</td>\n",
       "      <td>0.116045</td>\n",
       "      <td>23785</td>\n",
       "      <td>561</td>\n",
       "      <td>Larvae</td>\n",
       "    </tr>\n",
       "    <tr>\n",
       "      <th>1</th>\n",
       "      <td>11_CEO_Larvae.png</td>\n",
       "      <td>45.267754</td>\n",
       "      <td>23418.0</td>\n",
       "      <td>637</td>\n",
       "      <td>0.104780</td>\n",
       "      <td>24623</td>\n",
       "      <td>548</td>\n",
       "      <td>Larvae</td>\n",
       "    </tr>\n",
       "    <tr>\n",
       "      <th>2</th>\n",
       "      <td>12_CEO_Larvae.png</td>\n",
       "      <td>48.461190</td>\n",
       "      <td>20729.0</td>\n",
       "      <td>637</td>\n",
       "      <td>0.107205</td>\n",
       "      <td>21357</td>\n",
       "      <td>534</td>\n",
       "      <td>Larvae</td>\n",
       "    </tr>\n",
       "    <tr>\n",
       "      <th>3</th>\n",
       "      <td>13_CEO_Larvae.png</td>\n",
       "      <td>59.633103</td>\n",
       "      <td>19674.0</td>\n",
       "      <td>667</td>\n",
       "      <td>0.114444</td>\n",
       "      <td>19222</td>\n",
       "      <td>495</td>\n",
       "      <td>Larvae</td>\n",
       "    </tr>\n",
       "    <tr>\n",
       "      <th>4</th>\n",
       "      <td>14_CEO_Larvae.png</td>\n",
       "      <td>39.457514</td>\n",
       "      <td>18835.0</td>\n",
       "      <td>618</td>\n",
       "      <td>0.111917</td>\n",
       "      <td>18924</td>\n",
       "      <td>498</td>\n",
       "      <td>Larvae</td>\n",
       "    </tr>\n",
       "  </tbody>\n",
       "</table>\n",
       "</div>"
      ],
      "text/plain": [
       "           file_name  mean_intensity  area_true  n_endpoints_true  dice_loss  \\\n",
       "0  10_CEO_Larvae.png       73.703910    23649.0               750   0.116045   \n",
       "1  11_CEO_Larvae.png       45.267754    23418.0               637   0.104780   \n",
       "2  12_CEO_Larvae.png       48.461190    20729.0               637   0.107205   \n",
       "3  13_CEO_Larvae.png       59.633103    19674.0               667   0.114444   \n",
       "4  14_CEO_Larvae.png       39.457514    18835.0               618   0.111917   \n",
       "\n",
       "   area_pred  n_endpoints_pred    type  \n",
       "0      23785               561  Larvae  \n",
       "1      24623               548  Larvae  \n",
       "2      21357               534  Larvae  \n",
       "3      19222               495  Larvae  \n",
       "4      18924               498  Larvae  "
      ]
     },
     "execution_count": 4,
     "metadata": {},
     "output_type": "execute_result"
    }
   ],
   "source": [
    "pattern = re.compile('(?P<type>(Adults|Larvae)).*\\.png$')\n",
    "# pattern = re.compile('_(?P<type>(m|c)).*\\.png$')\n",
    "metadata = [pattern.search(f).groupdict() for f in df['file_name']]\n",
    "\n",
    "df = pd.concat([df, pd.DataFrame(metadata)], axis=1)\n",
    "df.head()"
   ]
  },
  {
   "cell_type": "markdown",
   "metadata": {},
   "source": [
    "# Visualization"
   ]
  },
  {
   "cell_type": "code",
   "execution_count": null,
   "metadata": {
    "scrolled": false
   },
   "outputs": [],
   "source": [
    "%matplotlib notebook\n",
    "\n",
    "x_val = 'mean_intensity'\n",
    "y_val = 'dice_loss'\n",
    "clr_key = 'type'\n",
    "\n",
    "\n",
    "clr_grp = df[clr_key].astype('category').cat.categories\n",
    "clr_idx = df[clr_key].astype('category').cat.codes\n",
    "\n",
    "ax = df.plot.scatter(x=x_val, y=y_val, style='.', alpha=0.5,\n",
    "                     c=clr_idx, vmin=-0.5, vmax=len(clr_grp)-0.5,\n",
    "                     cmap=plt.cm.get_cmap(\"jet\", len(clr_grp)),\n",
    "                     figsize=(9,6))\n",
    "fig = ax.get_figure()\n",
    "line = ax.collections[0]\n",
    "\n",
    "annot = ax.annotate(\"\", xy=(0,0), xytext=(-20,10), textcoords=\"offset points\",\n",
    "                    bbox=dict(boxstyle=\"round\", fc=\"w\"), arrowprops=dict(arrowstyle=\"->\"), zorder=100)\n",
    "annot.set_visible(False)\n",
    "\n",
    "def update_annot(ind):\n",
    "    idx = ind[\"ind\"][0]\n",
    "    \n",
    "    # for scatter\n",
    "    pos = line.get_offsets()\n",
    "    annot.xy = pos[idx]\n",
    "    \n",
    "    file_name = df.loc[idx,'file_name']\n",
    "    area = df.loc[idx,'area_true']\n",
    "    x = df.loc[idx,x_val]\n",
    "    y = df.loc[idx,y_val]\n",
    "    text = \"{}\\nArea: {area:d}\\n{x_val:}: {x:.2f}\\n{y_val:}: {y:.2f}\".format(\n",
    "        file_name, area=int(area), x_val=x_val, x=x, y_val=y_val, y=y)\n",
    "\n",
    "    annot.set_text(text)\n",
    "    annot.get_bbox_patch().set_alpha(1)\n",
    "\n",
    "\n",
    "def hover(event):\n",
    "    vis = annot.get_visible()\n",
    "    if event.inaxes == ax:\n",
    "        cont, ind = line.contains(event)\n",
    "        if cont:\n",
    "            update_annot(ind)\n",
    "            annot.set_visible(True)\n",
    "            fig.canvas.draw_idle()\n",
    "        else:\n",
    "            if vis:\n",
    "                annot.set_visible(False)\n",
    "                fig.canvas.draw_idle()\n",
    "\n",
    "fig.canvas.mpl_connect(\"motion_notify_event\", hover)\n",
    "\n",
    "# set colorbar\n",
    "cb_ax = fig.axes[1]\n",
    "cb_ax.yaxis.set_ticks(range(len(clr_grp)))\n",
    "cb_ax.set_yticklabels(clr_grp)\n",
    "cb_ax.set_ylabel(clr_key, rotation=270, verticalalignment='baseline')\n",
    "cb_ax.zorder = -1\n",
    "\n",
    "# Overlay diagnal for comparing dice loss\n",
    "if 'dice_loss' in x_val and 'dice_loss' in y_val:\n",
    "    ax.plot([0, 1], [0, 1], 'k--', zorder=-1)\n",
    "\n",
    "plt.show()\n"
   ]
  },
  {
   "cell_type": "markdown",
   "metadata": {},
   "source": [
    "# Test ground"
   ]
  },
  {
   "cell_type": "code",
   "execution_count": null,
   "metadata": {},
   "outputs": [],
   "source": [
    "import os, cv2\n",
    "import numpy as np\n",
    "import matplotlib.pyplot as plt\n",
    "\n",
    "import skimage"
   ]
  },
  {
   "cell_type": "code",
   "execution_count": null,
   "metadata": {},
   "outputs": [],
   "source": [
    "skimage.__version__"
   ]
  },
  {
   "cell_type": "code",
   "execution_count": null,
   "metadata": {},
   "outputs": [],
   "source": [
    "exp_name = 'adults_larvae'\n",
    "root_path = r'/awlab/users/chsu/WorkSpace/tensorflow/neuron'\n",
    "\n",
    "data_root = os.path.join(root_path, 'data')\n",
    "result_root = os.path.join(root_path, 'results')\n",
    "img_dir = os.path.join(data_root, exp_name)\n",
    "\n",
    "fname = '1_CEO_Larvae.png'\n",
    "img_file = os.path.join(img_dir, 'images', fname)\n",
    "mask_file = os.path.join(img_dir, 'masks', fname)\n",
    "pred_file = os.path.join(result_root, 'A_uw',exp_name, 'predictions', fname)"
   ]
  },
  {
   "cell_type": "code",
   "execution_count": null,
   "metadata": {},
   "outputs": [],
   "source": [
    "I = cv2.imread(img_file)\n",
    "M = cv2.imread(mask_file)[...,0]\n",
    "M_pred = np.uint8(((cv2.imread(pred_file)[...,0] / 255.) > 0.5) * 255)"
   ]
  },
  {
   "cell_type": "code",
   "execution_count": null,
   "metadata": {},
   "outputs": [],
   "source": [
    "I2 = skimage.io.imread(mask_file)\n",
    "I = M"
   ]
  },
  {
   "cell_type": "code",
   "execution_count": null,
   "metadata": {},
   "outputs": [],
   "source": [
    "print((I.shape, I.dtype, np.unique(I)), (M.shape, M.dtype, np.unique(M)))"
   ]
  },
  {
   "cell_type": "code",
   "execution_count": null,
   "metadata": {},
   "outputs": [],
   "source": [
    "def gray2color(I, clr=(255, 0, 0)):\n",
    "    clr = np.array(clr).reshape((1,1,3)) / 255.\n",
    "    I = I/ 255.\n",
    "    \n",
    "    if I.ndim==2:\n",
    "        I = np.expand_dims(I, axis=2)\n",
    "    return np.uint8(I * clr * 255)"
   ]
  },
  {
   "cell_type": "code",
   "execution_count": null,
   "metadata": {},
   "outputs": [],
   "source": [
    "M = gray2color(M, clr=(0,255,0))\n",
    "M_predc = gray2color(M_pred, clr=(255,0,0))"
   ]
  },
  {
   "cell_type": "code",
   "execution_count": null,
   "metadata": {},
   "outputs": [],
   "source": [
    "# plt.figure(figsize=(16,14))\n",
    "plt.subplot(1,3,1)\n",
    "plt.imshow(I)\n",
    "\n",
    "plt.subplot(1,3,2)\n",
    "plt.imshow(Mc)\n",
    "\n",
    "plt.subplot(1,3,3)\n",
    "plt.imshow(M_predc)"
   ]
  },
  {
   "cell_type": "code",
   "execution_count": null,
   "metadata": {},
   "outputs": [],
   "source": [
    "skimage.morphology.remove_small_objects()"
   ]
  },
  {
   "cell_type": "code",
   "execution_count": null,
   "metadata": {},
   "outputs": [],
   "source": [
    "M = M > 0\n",
    "M2 = skimage.morphology.binary_dilation(M, selem=skimage.morphology.square(3))\n",
    "\n",
    "Mc = gray2color(M*255, clr=(0,255,0))\n",
    "M2c = gray2color(M2*255, clr=(255,0,0))"
   ]
  },
  {
   "cell_type": "code",
   "execution_count": null,
   "metadata": {},
   "outputs": [],
   "source": [
    "%matplotlib notebook\n",
    "\n",
    "# I2 = cv2.addWeighted(cv2.addWeighted(I, 0.4, Mc, 1, 0), 1, M_predc, 1, 0)\n",
    "I2 = cv2.addWeighted(M2c, 1, Mc, 1, 0)\n",
    "print(I2.shape, I2.dtype)\n",
    "plt.imshow(I2)"
   ]
  },
  {
   "cell_type": "code",
   "execution_count": null,
   "metadata": {},
   "outputs": [],
   "source": [
    "area_rng = (df['area'] > 200000) & (df['area'] < 300000)\n",
    "dl_rng = df['dice_loss'] > 0.35\n",
    "to_check = area_rng & dl_rng\n",
    "\n",
    "df_check = df[to_check].copy().reset_index(drop=True)\n",
    "df_check.head()"
   ]
  },
  {
   "cell_type": "code",
   "execution_count": null,
   "metadata": {},
   "outputs": [],
   "source": [
    "def show_overlay(f):\n",
    "    img = cv2.imread(f)\n",
    "    img = cv2.cvtColor(img, cv2.COLOR_BGR2RGB)\n",
    "\n",
    "    plt.figure(figsize=(12,16))\n",
    "    plt.imshow(img)\n",
    "    plt.title(os.path.basename(f))"
   ]
  },
  {
   "cell_type": "code",
   "execution_count": null,
   "metadata": {},
   "outputs": [],
   "source": [
    "%matplotlib notebook\n",
    "show_overlay(df_check.loc[0,'file'])"
   ]
  },
  {
   "cell_type": "code",
   "execution_count": null,
   "metadata": {},
   "outputs": [],
   "source": [
    "df.hist('dice_loss')"
   ]
  },
  {
   "cell_type": "code",
   "execution_count": null,
   "metadata": {},
   "outputs": [],
   "source": [
    "%matplotlib inline\n",
    "f = df.loc[0, 'file']\n",
    "img = cv2.imread(f)\n",
    "img = cv2.cvtColor(img, cv2.COLOR_BGR2RGB)\n",
    "\n",
    "plt.figure(figsize=(12,16))\n",
    "plt.imshow(img)\n",
    "plt.title(os.path.basename(f))"
   ]
  },
  {
   "cell_type": "code",
   "execution_count": null,
   "metadata": {},
   "outputs": [],
   "source": [
    "img = np.random.rand(1000,1000)*255.\n",
    "print(img.shape)\n",
    "cv2.imwrite('test.png', np.uint8(img))"
   ]
  },
  {
   "cell_type": "code",
   "execution_count": null,
   "metadata": {},
   "outputs": [],
   "source": [
    "\n",
    "\n",
    "\n",
    "\n",
    "\n",
    "\n",
    "\n",
    "\n",
    "\n",
    "\n",
    "\n",
    "\n",
    "\n",
    "\n",
    "\n",
    "\n",
    "\n",
    "\n",
    "\n",
    "\n",
    "\n",
    "\n",
    "\n",
    "\n",
    "\n",
    "\n",
    "\n",
    "\n",
    "\n",
    "\n",
    "\n",
    "\n",
    "\n",
    "\n",
    "\n",
    "\n",
    "\n",
    "\n",
    "\n",
    "\n",
    "\n",
    "\n",
    "\n",
    "\n",
    "\n",
    "\n"
   ]
  }
 ],
 "metadata": {
  "kernelspec": {
   "display_name": "Python 3",
   "language": "python",
   "name": "python3"
  },
  "language_info": {
   "codemirror_mode": {
    "name": "ipython",
    "version": 3
   },
   "file_extension": ".py",
   "mimetype": "text/x-python",
   "name": "python",
   "nbconvert_exporter": "python",
   "pygments_lexer": "ipython3",
   "version": "3.6.8"
  }
 },
 "nbformat": 4,
 "nbformat_minor": 2
}
