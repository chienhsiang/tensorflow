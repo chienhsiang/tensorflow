{
 "cells": [
  {
   "cell_type": "code",
   "execution_count": 40,
   "metadata": {},
   "outputs": [],
   "source": [
    "import tensorflow as tf\n",
    "from tensorflow.keras import layers, losses\n",
    "\n",
    "import numpy as np\n",
    "import cv2"
   ]
  },
  {
   "cell_type": "code",
   "execution_count": 42,
   "metadata": {},
   "outputs": [
    {
     "data": {
      "text/plain": [
       "255"
      ]
     },
     "execution_count": 42,
     "metadata": {},
     "output_type": "execute_result"
    }
   ],
   "source": [
    "img = cv2.imread(r'/awlab/users/chsu/WorkSpace/tensorflow/segmentation/data/p2017017086_ki67_merge/images/CH_171219_Vh31_Goldilocks_plate_2017017086_ki67_G9_0000.png')\n",
    "img.max()"
   ]
  },
  {
   "cell_type": "code",
   "execution_count": 56,
   "metadata": {},
   "outputs": [
    {
     "name": "stdout",
     "output_type": "stream",
     "text": [
      "tf.Tensor(\n",
      "[[[[0.5844983  0.21547134 0.20003042]\n",
      "   [0.32524666 0.44815135 0.22660203]\n",
      "   [0.41977277 0.3969772  0.18325005]]\n",
      "\n",
      "  [[0.3008043  0.10755826 0.5916375 ]\n",
      "   [0.1713046  0.14538315 0.6833123 ]\n",
      "   [0.4155173  0.04341767 0.541065  ]]\n",
      "\n",
      "  [[0.05367538 0.84446204 0.10186251]\n",
      "   [0.3022408  0.5178963  0.17986292]\n",
      "   [0.3306585  0.61141866 0.05792283]]]], shape=(1, 3, 3, 3), dtype=float32)\n",
      "tf.Tensor(\n",
      "[[[[0. 1. 0.]\n",
      "   [1. 0. 0.]\n",
      "   [0. 0. 1.]]\n",
      "\n",
      "  [[0. 0. 1.]\n",
      "   [0. 0. 1.]\n",
      "   [0. 0. 1.]]\n",
      "\n",
      "  [[0. 1. 0.]\n",
      "   [0. 1. 0.]\n",
      "   [0. 0. 1.]]]], shape=(1, 3, 3, 3), dtype=float32)\n"
     ]
    }
   ],
   "source": [
    "conv_1x1 = layers.Conv2D(3, (1, 1), activation='softmax')\n",
    "\n",
    "x = tf.random.normal([1, 3, 3, 10])\n",
    "y_pred = conv_1x1(x)\n",
    "y_true = tf.random.uniform([1, 3, 3], 0, 3, dtype=tf.int32)\n",
    "y_true = tf.one_hot(y_true, 3)\n",
    "\n",
    "print(y_pred)\n",
    "print(y_true)"
   ]
  },
  {
   "cell_type": "code",
   "execution_count": 57,
   "metadata": {},
   "outputs": [
    {
     "name": "stdout",
     "output_type": "stream",
     "text": [
      "tf.Tensor(\n",
      "[[[1.5349274  1.1231716  1.6969037 ]\n",
      "  [0.52486116 0.3808033  0.6142158 ]\n",
      "  [0.16905536 0.65798026 2.8486438 ]]], shape=(1, 3, 3), dtype=float32)\n"
     ]
    }
   ],
   "source": [
    "# loss = losses.sparse_categorical_crossentropy(y_true, y_pred)\n",
    "loss = losses.categorical_crossentropy(y_true, y_pred)\n",
    "print(loss)"
   ]
  },
  {
   "cell_type": "code",
   "execution_count": 59,
   "metadata": {},
   "outputs": [
    {
     "name": "stdout",
     "output_type": "stream",
     "text": [
      "[[[1.5349274  1.1231714  1.6969037 ]\n",
      "  [0.52486116 0.3808033  0.6142159 ]\n",
      "  [0.16905549 0.65798026 2.8486438 ]]]\n"
     ]
    }
   ],
   "source": [
    "L = np.zeros_like(loss)\n",
    "\n",
    "for i in range(L.shape[1]):\n",
    "    for j in range(L.shape[2]):\n",
    "#         c = tf.squeeze(y_true[0,i,j])\n",
    "        c = y_true[0,i,j,:].numpy() == 1.\n",
    "#         print(c)\n",
    "        L[0,i,j] = -tf.math.log(y_pred.numpy()[0,i,j,c])\n",
    "print(L)"
   ]
  },
  {
   "cell_type": "code",
   "execution_count": 60,
   "metadata": {},
   "outputs": [
    {
     "data": {
      "text/plain": [
       "array([[[1.1231714 , 1.6969037 ],\n",
       "        [0.3808033 , 0.6142159 ],\n",
       "        [0.65798026, 2.8486438 ]]], dtype=float32)"
      ]
     },
     "execution_count": 60,
     "metadata": {},
     "output_type": "execute_result"
    }
   ],
   "source": [
    "L[:,:,1:]"
   ]
  }
 ],
 "metadata": {
  "kernelspec": {
   "display_name": "Python 3",
   "language": "python",
   "name": "python3"
  },
  "language_info": {
   "codemirror_mode": {
    "name": "ipython",
    "version": 3
   },
   "file_extension": ".py",
   "mimetype": "text/x-python",
   "name": "python",
   "nbconvert_exporter": "python",
   "pygments_lexer": "ipython3",
   "version": "3.6.8"
  }
 },
 "nbformat": 4,
 "nbformat_minor": 2
}
