{
 "cells": [
  {
   "cell_type": "code",
   "execution_count": null,
   "metadata": {},
   "outputs": [],
   "source": [
    "import tensorflow as tf\n",
    "from tensorflow.keras import layers, losses\n",
    "\n",
    "import numpy as np\n",
    "import cv2\n",
    "\n",
    "os.environ['CUDA_VISIBLE_DEVICES'] = '2'\n"
   ]
  },
  {
   "cell_type": "code",
   "execution_count": null,
   "metadata": {},
   "outputs": [],
   "source": [
    "img = cv2.imread(r'/awlab/users/chsu/WorkSpace/tensorflow/segmentation/data/p2017017086_ki67_merge/images/CH_171219_Vh31_Goldilocks_plate_2017017086_ki67_G9_0000.png')\n",
    "img.max()"
   ]
  },
  {
   "cell_type": "code",
   "execution_count": null,
   "metadata": {},
   "outputs": [],
   "source": [
    "conv_1x1 = layers.Conv2D(3, (1, 1), activation='softmax')\n",
    "\n",
    "x = tf.random.normal([1, 3, 3, 10])\n",
    "y_pred = conv_1x1(x)\n",
    "y_true = tf.random.uniform([1, 3, 3], 0, 3, dtype=tf.int32)\n",
    "y_true = tf.one_hot(y_true, 3)\n",
    "\n",
    "print(y_pred)\n",
    "print(y_true)"
   ]
  },
  {
   "cell_type": "code",
   "execution_count": null,
   "metadata": {},
   "outputs": [],
   "source": [
    "# loss = losses.sparse_categorical_crossentropy(y_true, y_pred)\n",
    "loss = losses.categorical_crossentropy(y_true, y_pred)\n",
    "print(loss)"
   ]
  },
  {
   "cell_type": "code",
   "execution_count": null,
   "metadata": {},
   "outputs": [],
   "source": [
    "L = np.zeros_like(loss)\n",
    "\n",
    "for i in range(L.shape[1]):\n",
    "    for j in range(L.shape[2]):\n",
    "#         c = tf.squeeze(y_true[0,i,j])\n",
    "        c = y_true[0,i,j,:].numpy() == 1.\n",
    "#         print(c)\n",
    "        L[0,i,j] = -tf.math.log(y_pred.numpy()[0,i,j,c])\n",
    "print(L)"
   ]
  },
  {
   "cell_type": "code",
   "execution_count": null,
   "metadata": {},
   "outputs": [],
   "source": [
    "L[:,:,1:]"
   ]
  }
 ],
 "metadata": {
  "kernelspec": {
   "display_name": "Python 3",
   "language": "python",
   "name": "python3"
  },
  "language_info": {
   "codemirror_mode": {
    "name": "ipython",
    "version": 3
   },
   "file_extension": ".py",
   "mimetype": "text/x-python",
   "name": "python",
   "nbconvert_exporter": "python",
   "pygments_lexer": "ipython3",
   "version": "3.6.8"
  }
 },
 "nbformat": 4,
 "nbformat_minor": 2
}
