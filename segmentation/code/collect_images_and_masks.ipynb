{
 "cells": [
  {
   "cell_type": "code",
   "execution_count": 1,
   "metadata": {},
   "outputs": [],
   "source": [
    "import os\n",
    "import glob\n",
    "import shutil\n",
    "import re\n",
    "import scipy.io\n",
    "import matplotlib.pyplot as plt\n",
    "import numpy as np\n",
    "import cv2"
   ]
  },
  {
   "cell_type": "code",
   "execution_count": 2,
   "metadata": {},
   "outputs": [],
   "source": [
    "src_folder = r'/awlab/projects/2015_08_Senescence/plates/CH_171219_Vh31_Goldilocks_plate_2017017086_ki67'\n",
    "img_des_folder = r'/awlab/users/chsu/WorkSpace/tensorflow/segmentation/data/plate_2017017086_ki67/images'\n",
    "mask_des_folder = r'/awlab/users/chsu/WorkSpace/tensorflow/segmentation/data/plate_2017017086_ki67/masks'\n",
    "\n",
    "file_prefix = 'CH_171219_Vh31_Goldilocks_plate_2017017086_ki67'"
   ]
  },
  {
   "cell_type": "markdown",
   "metadata": {},
   "source": [
    "# Collect all images"
   ]
  },
  {
   "cell_type": "code",
   "execution_count": 3,
   "metadata": {},
   "outputs": [],
   "source": [
    "def get_file_list(root_path, pattern='*.png'):\n",
    "    # Method 1: os.walk\n",
    "#     img_list = []\n",
    "#     for root, dirs, files in os.walk(plate_path_root):\n",
    "#         for f in files:\n",
    "#             if '.png' in f:\n",
    "#                 img_list.append(os.path.join(root,f))\n",
    "\n",
    "    # Method 2: glob\n",
    "    img_list = [f for f in glob.glob(os.path.join(root_path,'**',pattern), recursive=True)]\n",
    "    \n",
    "    return sorted(img_list)"
   ]
  },
  {
   "cell_type": "code",
   "execution_count": 4,
   "metadata": {},
   "outputs": [],
   "source": [
    "img_list = get_file_list(src_folder, pattern='*-[23].png')"
   ]
  },
  {
   "cell_type": "markdown",
   "metadata": {},
   "source": [
    "### Copy to destination folder"
   ]
  },
  {
   "cell_type": "code",
   "execution_count": null,
   "metadata": {},
   "outputs": [],
   "source": [
    "if not os.path.isdir(img_des_folder):\n",
    "    os.mkdir(img_des_folder)\n",
    "\n",
    "N = len(img_list)\n",
    "for i, f in enumerate(img_list):\n",
    "    print('{}/{}'.format(i+1, N), end='\\r')\n",
    "    new_path = os.path.join(img_des_folder, os.path.basename(f))\n",
    "    shutil.copyfile(f, new_path)"
   ]
  },
  {
   "cell_type": "markdown",
   "metadata": {},
   "source": [
    "# Get mask from .mat files"
   ]
  },
  {
   "cell_type": "code",
   "execution_count": 10,
   "metadata": {},
   "outputs": [
    {
     "name": "stdout",
     "output_type": "stream",
     "text": [
      "54\n"
     ]
    },
    {
     "data": {
      "text/plain": [
       "['/awlab/projects/2015_08_Senescence/plates/CH_171219_Vh31_Goldilocks_plate_2017017086_ki67/segmentation/segmentation-2-10.mat',\n",
       " '/awlab/projects/2015_08_Senescence/plates/CH_171219_Vh31_Goldilocks_plate_2017017086_ki67/segmentation/segmentation-2-2.mat',\n",
       " '/awlab/projects/2015_08_Senescence/plates/CH_171219_Vh31_Goldilocks_plate_2017017086_ki67/segmentation/segmentation-2-3.mat']"
      ]
     },
     "execution_count": 10,
     "metadata": {},
     "output_type": "execute_result"
    }
   ],
   "source": [
    "mat_files = get_file_list(src_folder, pattern='segmentation-*.mat')\n",
    "print(len(mat_files))\n",
    "mat_files[:3]"
   ]
  },
  {
   "cell_type": "code",
   "execution_count": 11,
   "metadata": {},
   "outputs": [],
   "source": [
    "def get_well_name(file_name, pattern='segmentation-(?P<row>\\d+)-(?P<col>\\d+)'):\n",
    "    m = re.match(pattern, os.path.basename(file_name))\n",
    "    r_idx = int(m.group('row'))\n",
    "    well = chr(r_idx+64) + m.group('col')\n",
    "#     well = chr(r_idx+64) + '{:02d}'.format(int(m.group('col')))\n",
    "\n",
    "    return well"
   ]
  },
  {
   "cell_type": "code",
   "execution_count": 7,
   "metadata": {},
   "outputs": [],
   "source": [
    "mat = scipy.io.loadmat(mat_files[0], struct_as_record=False, squeeze_me=True)\n",
    "seg = mat['segmentation']\n",
    "s = seg[0]\n",
    "\n",
    "nuc_mask = s.dnamask>0\n",
    "nuc_mask = np.uint8(nuc_mask*255.)\n",
    "cell_mask = np.uint8(s.cellmask*255.)"
   ]
  },
  {
   "cell_type": "code",
   "execution_count": 9,
   "metadata": {},
   "outputs": [
    {
     "data": {
      "text/plain": [
       "array([  0, 255], dtype=uint8)"
      ]
     },
     "execution_count": 9,
     "metadata": {},
     "output_type": "execute_result"
    }
   ],
   "source": [
    "np.unique(cell_mask)"
   ]
  },
  {
   "cell_type": "markdown",
   "metadata": {},
   "source": [
    "### Save masks to the destination folder"
   ]
  },
  {
   "cell_type": "code",
   "execution_count": 12,
   "metadata": {},
   "outputs": [
    {
     "name": "stdout",
     "output_type": "stream",
     "text": [
      "54/54\r"
     ]
    }
   ],
   "source": [
    "if not os.path.isdir(mask_des_folder):\n",
    "    os.mkdir(mask_des_folder)\n",
    "    \n",
    "for i, f in enumerate(mat_files):\n",
    "    print('{}/{}'.format(i+1, len(mat_files)), end='\\r')\n",
    "    \n",
    "    # 1. load the mat file\n",
    "    mat = scipy.io.loadmat(f, struct_as_record=False, squeeze_me=True)  \n",
    "    well = get_well_name(f) # get well name\n",
    "    \n",
    "    # 2. Get the segmentation struct\n",
    "    seg = mat['segmentation']\n",
    "\n",
    "    # 3. Loop through each frame\n",
    "    for j, s in enumerate(seg):\n",
    "        nuc_mask = s.dnamask>0\n",
    "        nuc_mask = np.uint8(nuc_mask*255.)\n",
    "        cell_mask = np.uint8(s.cellmask*255.)\n",
    "        \n",
    "        # 4. Form new file name\n",
    "        frame_str = '{:04d}'.format(j)\n",
    "        new_prefix = '_'.join([file_prefix, well, frame_str])\n",
    "        \n",
    "        fname_nuc = os.path.join(mask_des_folder, new_prefix + '_nucleus.png')\n",
    "        fname_cell = os.path.join(mask_des_folder, new_prefix + '_cell.png')\n",
    "        \n",
    "        # 5. Save to the mask folder\n",
    "        cv2.imwrite(fname_nuc, nuc_mask)\n",
    "        cv2.imwrite(fname_cell, cell_mask)"
   ]
  },
  {
   "cell_type": "code",
   "execution_count": null,
   "metadata": {},
   "outputs": [],
   "source": [
    "\n",
    "\n",
    "\n",
    "\n",
    "\n",
    "\n",
    "\n",
    "\n",
    "\n",
    "\n",
    "\n",
    "\n",
    "\n",
    "\n",
    "\n",
    "\n",
    "\n",
    "\n",
    "\n",
    "\n",
    "\n",
    "\n",
    "\n",
    "\n",
    "\n",
    "\n",
    "\n",
    "\n"
   ]
  }
 ],
 "metadata": {
  "kernelspec": {
   "display_name": "Python 3",
   "language": "python",
   "name": "python3"
  },
  "language_info": {
   "codemirror_mode": {
    "name": "ipython",
    "version": 3
   },
   "file_extension": ".py",
   "mimetype": "text/x-python",
   "name": "python",
   "nbconvert_exporter": "python",
   "pygments_lexer": "ipython3",
   "version": "3.6.8"
  }
 },
 "nbformat": 4,
 "nbformat_minor": 2
}
