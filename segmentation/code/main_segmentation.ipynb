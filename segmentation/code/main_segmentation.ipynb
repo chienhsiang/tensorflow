{
 "cells": [
  {
   "cell_type": "code",
   "execution_count": 1,
   "metadata": {},
   "outputs": [],
   "source": [
    "import os\n",
    "import glob\n",
    "import functools\n",
    "from sklearn.model_selection import train_test_split\n",
    "import numpy as np\n",
    "import pandas as pd\n",
    "import datetime\n",
    "\n",
    "import matplotlib.pyplot as plt\n",
    "import cv2\n",
    "\n",
    "import data_io\n",
    "import u_net"
   ]
  },
  {
   "cell_type": "code",
   "execution_count": 2,
   "metadata": {},
   "outputs": [
    {
     "data": {
      "text/plain": [
       "'2.0.0-alpha0'"
      ]
     },
     "execution_count": 2,
     "metadata": {},
     "output_type": "execute_result"
    }
   ],
   "source": [
    "import tensorflow as tf\n",
    "# from tensorflow.keras import models, layers, losses\n",
    "\n",
    "# tf.enable_eager_execution()\n",
    "tf.__version__"
   ]
  },
  {
   "cell_type": "markdown",
   "metadata": {},
   "source": [
    "# Set up"
   ]
  },
  {
   "cell_type": "code",
   "execution_count": 3,
   "metadata": {},
   "outputs": [],
   "source": [
    "common_root = r'/awlab/users/chsu/WorkSpace/tensorflow/segmentation/data/plate_2017017086_ki67'\n",
    "\n",
    "img_dir = os.path.join(common_root, 'images')\n",
    "mask_dir = os.path.join(common_root, 'masks')\n",
    "\n",
    "# max_intensity = 4095.\n",
    "batch_size = 5\n",
    "# epochs = 5"
   ]
  },
  {
   "cell_type": "code",
   "execution_count": 4,
   "metadata": {},
   "outputs": [
    {
     "name": "stdout",
     "output_type": "stream",
     "text": [
      "Number of training samples: 388\n",
      "Number of validation samples: 98\n"
     ]
    }
   ],
   "source": [
    "x_train_fnames = sorted(glob.glob(os.path.join(img_dir,'*-2.png'))) # nucleus images\n",
    "y_train_fnames = sorted(glob.glob(os.path.join(mask_dir,'*_nucleus.png'))) # nucleus masks     \n",
    "\n",
    "\n",
    "# Split into training and validation\n",
    "x_train_fnames, x_val_fnames, y_train_fnames, y_val_fnames = \\\n",
    "    train_test_split(x_train_fnames, y_train_fnames, test_size=0.2, random_state=43)\n",
    "\n",
    "num_train_data = len(x_train_fnames)\n",
    "num_val_data = len(x_val_fnames)\n",
    "\n",
    "print(\"Number of training samples: {}\".format(num_train_data))\n",
    "print(\"Number of validation samples: {}\".format(num_val_data))"
   ]
  },
  {
   "cell_type": "code",
   "execution_count": null,
   "metadata": {},
   "outputs": [],
   "source": [
    "idx = np.random.choice(num_train_data)\n",
    "print(os.path.basename(x_train_fnames[idx]))\n",
    "print(os.path.basename(y_train_fnames[idx]))"
   ]
  },
  {
   "cell_type": "markdown",
   "metadata": {},
   "source": [
    "# Test the input pipeline"
   ]
  },
  {
   "cell_type": "markdown",
   "metadata": {},
   "source": [
    "### Get image and mask from path names"
   ]
  },
  {
   "cell_type": "code",
   "execution_count": null,
   "metadata": {},
   "outputs": [],
   "source": [
    "idx = np.random.choice(num_train_data)\n",
    "img, mask = data_io._get_image_from_path(x_train_fnames[idx], y_train_fnames[idx])\n",
    "\n",
    "plt.figure(figsize=(12,16))\n",
    "plt.subplot(1,2,1)\n",
    "plt.imshow(img[:,:,0], cmap='gray')\n",
    "plt.subplot(1,2,2)\n",
    "plt.imshow(mask[:,:,0])"
   ]
  },
  {
   "cell_type": "code",
   "execution_count": null,
   "metadata": {},
   "outputs": [],
   "source": [
    "print(np.unique(mask))\n",
    "\n",
    "print(img.shape)\n",
    "print(img.dtype)\n",
    "print(mask.shape)\n",
    "print(img.numpy().max())"
   ]
  },
  {
   "cell_type": "markdown",
   "metadata": {},
   "source": [
    "### Test the input pipeline"
   ]
  },
  {
   "cell_type": "code",
   "execution_count": null,
   "metadata": {},
   "outputs": [],
   "source": [
    "tmp_ds = data_io.get_dataset(x_train_fnames, y_train_fnames)"
   ]
  },
  {
   "cell_type": "code",
   "execution_count": null,
   "metadata": {},
   "outputs": [],
   "source": [
    "plt.figure(figsize=(12,16))\n",
    "for i, (img, mask) in enumerate(tmp_ds.shuffle(num_train_data).take(3)):\n",
    "    plt.subplot(3,2,2*i+1)\n",
    "    plt.imshow(img[0,:,:,0])\n",
    "    plt.subplot(3,2,2*i+2)\n",
    "    plt.imshow(mask[0,:,:,0])\n",
    "plt.show()"
   ]
  },
  {
   "cell_type": "markdown",
   "metadata": {},
   "source": [
    "# Configure training and validation datasets"
   ]
  },
  {
   "cell_type": "code",
   "execution_count": 5,
   "metadata": {},
   "outputs": [],
   "source": [
    "# training data\n",
    "train_cfg = {\n",
    "    'resize': None, \n",
    "    'scale': 1/255.,\n",
    "    'crop_size': [512, 512],\n",
    "    'to_flip': True\n",
    "}\n",
    "tr_preproc_fn = functools.partial(data_io._augment, **train_cfg)\n",
    "\n",
    "# validation data\n",
    "val_cfg = {\n",
    "    'resize': None, \n",
    "    'scale': 1/255.,\n",
    "    'crop_size': [512, 512]\n",
    "}\n",
    "val_preproc_fn = functools.partial(data_io._augment, **val_cfg)\n",
    "\n",
    "\n",
    "train_ds = data_io.get_dataset(x_train_fnames, y_train_fnames, preproc_fn=tr_preproc_fn, \n",
    "                       shuffle=True, batch_size=batch_size)\n",
    "val_ds = data_io.get_dataset(x_val_fnames, y_val_fnames, preproc_fn=val_preproc_fn, \n",
    "                     shuffle=False, batch_size=batch_size)"
   ]
  },
  {
   "cell_type": "code",
   "execution_count": 6,
   "metadata": {},
   "outputs": [
    {
     "name": "stdout",
     "output_type": "stream",
     "text": [
      "(5, 512, 512, 1)\n"
     ]
    }
   ],
   "source": [
    "for (img, mask) in val_ds.take(1):\n",
    "    print(img.shape)"
   ]
  },
  {
   "cell_type": "markdown",
   "metadata": {},
   "source": [
    "# Customized loss"
   ]
  },
  {
   "cell_type": "code",
   "execution_count": 19,
   "metadata": {},
   "outputs": [
    {
     "data": {
      "text/plain": [
       "<matplotlib.image.AxesImage at 0x7fb25c2d1da0>"
      ]
     },
     "execution_count": 19,
     "metadata": {},
     "output_type": "execute_result"
    },
    {
     "data": {
      "image/png": "[encoded data removed]",
      "text/plain": [
       "<Figure size 864x1152 with 1 Axes>"
      ]
     },
     "metadata": {
      "needs_background": "light"
     },
     "output_type": "display_data"
    }
   ],
   "source": [
    "M = mask[2,:,:,0].numpy()\n",
    "plt.figure(figsize=(12,16))\n",
    "plt.imshow(M)"
   ]
  },
  {
   "cell_type": "code",
   "execution_count": 20,
   "metadata": {},
   "outputs": [
    {
     "data": {
      "text/plain": [
       "array([0., 1.], dtype=float32)"
      ]
     },
     "execution_count": 20,
     "metadata": {},
     "output_type": "execute_result"
    }
   ],
   "source": [
    "np.unique(M)"
   ]
  },
  {
   "cell_type": "code",
   "execution_count": 29,
   "metadata": {},
   "outputs": [
    {
     "data": {
      "text/plain": [
       "(512, 512)"
      ]
     },
     "execution_count": 29,
     "metadata": {},
     "output_type": "execute_result"
    }
   ],
   "source": [
    "np.sum"
   ]
  },
  {
   "cell_type": "code",
   "execution_count": 31,
   "metadata": {},
   "outputs": [
    {
     "name": "stdout",
     "output_type": "stream",
     "text": [
      "9.999999999978712 10.00000000000117\n"
     ]
    }
   ],
   "source": [
    "wc = np.ones(M.shape) * 10\n",
    "wc[M==0] = wc[M==0] / np.sum(M==0)\n",
    "wc[M==1] = wc[M==1] / np.sum(M==1)\n",
    "print(sum(wc[M==0]), sum(wc[M==1]))"
   ]
  },
  {
   "cell_type": "code",
   "execution_count": null,
   "metadata": {},
   "outputs": [],
   "source": [
    "def get_pixel_weights(mask):\n",
    "    w0 = 10\n",
    "    sigma = 5\n",
    "    \n",
    "    n_objs, lbl = cv2.connectedComponents(mask.astype(np.uint8))\n",
    "    \n",
    "    # compute distance to each object for every pixel\n",
    "    H, W = mask.shape\n",
    "    D = np.zeros([H, W, n_objs])\n",
    "    \n",
    "    for i in range(1, n_objs+1):\n",
    "        bw = np.uint8(lbl==i)\n",
    "        D[:,:,i-1] = cv2.distanceTransform(1-bw, cv2.DIST_L2, 3)\n",
    "        \n",
    "    D.sort(axis=-1)\n",
    "    \n",
    "    # compute weight\n",
    "    w0 * np.exp(-())\n",
    "    "
   ]
  },
  {
   "cell_type": "code",
   "execution_count": 73,
   "metadata": {},
   "outputs": [
    {
     "name": "stdout",
     "output_type": "stream",
     "text": [
      "512\n"
     ]
    }
   ],
   "source": [
    "H, W = M.shape\n",
    "print(H)"
   ]
  },
  {
   "cell_type": "code",
   "execution_count": 58,
   "metadata": {},
   "outputs": [
    {
     "data": {
      "text/plain": [
       "<matplotlib.image.AxesImage at 0x7fb24c2cbf98>"
      ]
     },
     "execution_count": 58,
     "metadata": {},
     "output_type": "execute_result"
    },
    {
     "data": {
      "image/png": "[encoded data removed]",
      "text/plain": [
       "<Figure size 432x288 with 2 Axes>"
      ]
     },
     "metadata": {
      "needs_background": "light"
     },
     "output_type": "display_data"
    }
   ],
   "source": [
    "D = np.zeros([M.shape[0], M.shape[1], n_objs])\n",
    "\n",
    "for i in range(1, n_objs+1):\n",
    "    bw = np.uint8(lbl==i)\n",
    "    D[:,:,i-1] = cv2.distanceTransform(1-bw, cv2.DIST_L2, 3)\n",
    "\n",
    "plt.subplot(1,2,1)\n",
    "plt.imshow(np.uint8(lbl==6))\n",
    "plt.subplot(1,2,2)\n",
    "plt.imshow(D[:,:,5]==0)"
   ]
  },
  {
   "cell_type": "code",
   "execution_count": 89,
   "metadata": {},
   "outputs": [
    {
     "data": {
      "text/plain": [
       "array([[1.65298888e-01, 7.46585808e-04, 7.46585808e-04],\n",
       "       [7.46585808e-04, 5.54515994e-05, 7.46585808e-04],\n",
       "       [8.18730753e-01, 4.07622040e-02, 6.73794700e-03]])"
      ]
     },
     "execution_count": 89,
     "metadata": {},
     "output_type": "execute_result"
    }
   ],
   "source": [
    "np.exp(-(np.sum(a[:,:,-2:], axis=-1)**2) / 5)"
   ]
  },
  {
   "cell_type": "code",
   "execution_count": 91,
   "metadata": {},
   "outputs": [
    {
     "name": "stdout",
     "output_type": "stream",
     "text": [
      "[[[1 2]\n",
      "  [3 4]\n",
      "  [3 4]]\n",
      "\n",
      " [[3 3]\n",
      "  [4 4]\n",
      "  [3 4]]\n",
      "\n",
      " [[1 4]\n",
      "  [2 2]\n",
      "  [4 4]]]\n",
      "[[3 7 7]\n",
      " [6 8 7]\n",
      " [5 4 8]]\n"
     ]
    }
   ],
   "source": [
    "c = b[:,:,-2:]\n",
    "print(c)\n",
    "print(np.sum(c, axis=-1))"
   ]
  },
  {
   "cell_type": "code",
   "execution_count": 71,
   "metadata": {},
   "outputs": [
    {
     "name": "stdout",
     "output_type": "stream",
     "text": [
      "[[[0 2 1]\n",
      "  [3 4 2]\n",
      "  [3 4 2]]\n",
      "\n",
      " [[0 3 3]\n",
      "  [4 3 4]\n",
      "  [3 2 4]]\n",
      "\n",
      " [[4 1 0]\n",
      "  [1 2 2]\n",
      "  [4 4 1]]]\n",
      "[[[0 1 2]\n",
      "  [2 3 4]\n",
      "  [2 3 4]]\n",
      "\n",
      " [[0 3 3]\n",
      "  [3 4 4]\n",
      "  [2 3 4]]\n",
      "\n",
      " [[0 1 4]\n",
      "  [1 2 2]\n",
      "  [1 4 4]]]\n",
      "[3 4 2]\n",
      "[2 3 4]\n"
     ]
    }
   ],
   "source": [
    "a = np.random.randint(5, size=(3,3,3))\n",
    "print(a)\n",
    "# b = a.copy()\n",
    "# b.sort(axis=-1)\n",
    "\n",
    "b = np.sort(a, axis=-1)\n",
    "print(b)\n",
    "print(a[0,1,:])\n",
    "print(b[0,1,:])"
   ]
  },
  {
   "cell_type": "code",
   "execution_count": 59,
   "metadata": {},
   "outputs": [
    {
     "name": "stdout",
     "output_type": "stream",
     "text": [
      "(512, 512) (512, 512)\n"
     ]
    },
    {
     "ename": "AssertionError",
     "evalue": "",
     "output_type": "error",
     "traceback": [
      "\u001b[0;31m---------------------------------------------------------------------------\u001b[0m",
      "\u001b[0;31mAssertionError\u001b[0m                            Traceback (most recent call last)",
      "\u001b[0;32m<ipython-input-59-95ded413ce74>\u001b[0m in \u001b[0;36m<module>\u001b[0;34m\u001b[0m\n\u001b[0;32m----> 1\u001b[0;31m \u001b[0mu_net\u001b[0m\u001b[0;34m.\u001b[0m\u001b[0mbce_dice_loss\u001b[0m\u001b[0;34m(\u001b[0m\u001b[0mM\u001b[0m\u001b[0;34m,\u001b[0m\u001b[0mM\u001b[0m\u001b[0;34m)\u001b[0m\u001b[0;34m\u001b[0m\u001b[0;34m\u001b[0m\u001b[0m\n\u001b[0m",
      "\u001b[0;32m/awlab/users/chsu/WorkSpace/tensorflow/segmentation/code/u_net.py\u001b[0m in \u001b[0;36mbce_dice_loss\u001b[0;34m(y_true, y_pred)\u001b[0m\n\u001b[1;32m    128\u001b[0m \u001b[0;32mdef\u001b[0m \u001b[0mbce_dice_loss\u001b[0m\u001b[0;34m(\u001b[0m\u001b[0my_true\u001b[0m\u001b[0;34m,\u001b[0m \u001b[0my_pred\u001b[0m\u001b[0;34m)\u001b[0m\u001b[0;34m:\u001b[0m\u001b[0;34m\u001b[0m\u001b[0;34m\u001b[0m\u001b[0m\n\u001b[1;32m    129\u001b[0m     \u001b[0mprint\u001b[0m\u001b[0;34m(\u001b[0m\u001b[0my_true\u001b[0m\u001b[0;34m.\u001b[0m\u001b[0mshape\u001b[0m\u001b[0;34m,\u001b[0m \u001b[0my_pred\u001b[0m\u001b[0;34m.\u001b[0m\u001b[0mshape\u001b[0m\u001b[0;34m)\u001b[0m\u001b[0;34m\u001b[0m\u001b[0;34m\u001b[0m\u001b[0m\n\u001b[0;32m--> 130\u001b[0;31m     \u001b[0;32massert\u001b[0m \u001b[0my_true\u001b[0m\u001b[0;34m.\u001b[0m\u001b[0mshape\u001b[0m\u001b[0;34m[\u001b[0m\u001b[0;36m0\u001b[0m\u001b[0;34m]\u001b[0m \u001b[0;34m==\u001b[0m \u001b[0;36m2\u001b[0m\u001b[0;34m\u001b[0m\u001b[0;34m\u001b[0m\u001b[0m\n\u001b[0m\u001b[1;32m    131\u001b[0m \u001b[0;34m\u001b[0m\u001b[0m\n\u001b[1;32m    132\u001b[0m     \u001b[0mloss\u001b[0m \u001b[0;34m=\u001b[0m \u001b[0mlosses\u001b[0m\u001b[0;34m.\u001b[0m\u001b[0mbinary_crossentropy\u001b[0m\u001b[0;34m(\u001b[0m\u001b[0my_true\u001b[0m\u001b[0;34m,\u001b[0m \u001b[0my_pred\u001b[0m\u001b[0;34m)\u001b[0m \u001b[0;34m+\u001b[0m \u001b[0mdice_loss\u001b[0m\u001b[0;34m(\u001b[0m\u001b[0my_true\u001b[0m\u001b[0;34m,\u001b[0m \u001b[0my_pred\u001b[0m\u001b[0;34m)\u001b[0m\u001b[0;34m\u001b[0m\u001b[0;34m\u001b[0m\u001b[0m\n",
      "\u001b[0;31mAssertionError\u001b[0m: "
     ]
    }
   ],
   "source": [
    "u_net.bce_dice_loss(M,M)"
   ]
  },
  {
   "cell_type": "markdown",
   "metadata": {},
   "source": [
    "# Build the model"
   ]
  },
  {
   "cell_type": "code",
   "execution_count": null,
   "metadata": {},
   "outputs": [],
   "source": [
    "num_filters_list = [32, 64, 128, 256]\n",
    "model = u_net.Unet(num_filters_list)\n",
    "model.compile(optimizer='adam', loss=u_net.bce_dice_loss, metrics=[u_net.dice_loss])\n",
    "\n",
    "# plt.figure(figsize=(12,16))\n",
    "# for i, (img, mask) in enumerate(train_ds.take(1)):\n",
    "#     y_pred = model(img)\n",
    "    \n",
    "#     plt.subplot(1,3,1)\n",
    "#     plt.imshow(img[0,:,:,0])\n",
    "#     plt.subplot(1,3,2)\n",
    "#     plt.imshow(mask[0,:,:,0])\n",
    "#     plt.subplot(1,3,3)\n",
    "#     plt.imshow(y_pred[0,:,:,0])\n",
    "# plt.show()"
   ]
  },
  {
   "cell_type": "markdown",
   "metadata": {},
   "source": [
    "## Train the model"
   ]
  },
  {
   "cell_type": "code",
   "execution_count": null,
   "metadata": {},
   "outputs": [],
   "source": [
    "timestamp = '{}'.format(datetime.datetime.now()).split('.')[0].replace(':','_').replace(' ','_')\n",
    "root_path = r'/awlab/users/chsu/WorkSpace/tensorflow/segmentation'\n",
    "\n",
    "# model weights\n",
    "weights_path = os.path.join(root_path, 'models', timestamp, 'weights-{epoch:04d}.ckpt')\n",
    "weights_dir = os.path.dirname(weights_path)\n",
    "if not os.path.isdir(weights_dir):\n",
    "    os.makedirs(weights_dir, exist_ok=True)\n",
    "cp = tf.keras.callbacks.ModelCheckpoint(filepath=weights_path, monitor='val_dice_loss', \n",
    "                                        save_best_only=True, save_weights_only=True, verbose=1)\n",
    "# tensorboard\n",
    "log_dir = os.path.join(root_path, 'logs', timestamp)\n",
    "if not os.path.isdir(log_dir):\n",
    "    os.makedirs(log_dir, exist_ok=True)\n",
    "tb = tf.keras.callbacks.TensorBoard(log_dir=log_dir)"
   ]
  },
  {
   "cell_type": "code",
   "execution_count": null,
   "metadata": {},
   "outputs": [],
   "source": [
    "history = model.fit(train_ds, epochs=5, \n",
    "                    steps_per_epoch=int(np.ceil(num_train_data / batch_size)),\n",
    "                    validation_data=val_ds,\n",
    "                    validation_steps=int(np.ceil(num_val_data / batch_size)),\n",
    "                    callbacks=[cp, tb])"
   ]
  },
  {
   "cell_type": "markdown",
   "metadata": {},
   "source": [
    "### Plot training process"
   ]
  },
  {
   "cell_type": "code",
   "execution_count": null,
   "metadata": {},
   "outputs": [],
   "source": [
    "tr_process = pd.DataFrame.from_dict(history.history)\n",
    "tr_process['epoch'] = np.array(range(1, tr_process.shape[0]+1))\n",
    "\n",
    "tr_process.plot(x='epoch', y=['loss', 'val_loss'])\n",
    "tr_process.plot(x='epoch', y=['dice_loss', 'val_dice_loss'])"
   ]
  },
  {
   "cell_type": "markdown",
   "metadata": {},
   "source": [
    "### Or load the trained weights"
   ]
  },
  {
   "cell_type": "code",
   "execution_count": null,
   "metadata": {},
   "outputs": [],
   "source": [
    "model_dir = r'/awlab/users/chsu/WorkSpace/tensorflow/segmentation/models/2019-04-05_14_15_41'\n",
    "latest = tf.train.latest_checkpoint(model_dir)\n",
    "print(latest)\n",
    "model.load_weights(latest)"
   ]
  },
  {
   "cell_type": "markdown",
   "metadata": {},
   "source": [
    "# Visualize performance"
   ]
  },
  {
   "cell_type": "code",
   "execution_count": null,
   "metadata": {},
   "outputs": [],
   "source": [
    "def overlay_mask(img, mask, mask_pred):\n",
    "    \"\"\"green: true, red: predicted\"\"\"\n",
    "    I = np.uint8(img.numpy()*255.)\n",
    "    I = cv2.cvtColor(I,cv2.COLOR_GRAY2RGB)\n",
    "    \n",
    "    M = np.uint8(mask.numpy()*255.)\n",
    "    M_pred = np.uint8((mask_pred.numpy()>0.5) * 255.)\n",
    "    \n",
    "    im, contours, _ = cv2.findContours(M.copy(), cv2.RETR_EXTERNAL, cv2.CHAIN_APPROX_NONE)\n",
    "    im_pred, contours_pred, _ = cv2.findContours(M_pred.copy(), \n",
    "                                                cv2.RETR_EXTERNAL, cv2.CHAIN_APPROX_NONE)\n",
    "    \n",
    "    I1 = cv2.drawContours(I.copy(), contours, -1, (0,255,0), 1)\n",
    "    I2 = cv2.drawContours(I.copy(), contours_pred, -1, (255,0,0), 1)\n",
    "    I[:,:,1] = I1[:,:,1]\n",
    "    I[:,:,0] = I2[:,:,0]\n",
    "    \n",
    "    return I"
   ]
  },
  {
   "cell_type": "code",
   "execution_count": null,
   "metadata": {},
   "outputs": [],
   "source": [
    "idx_to_plot = np.random.choice(num_val_data, 3)\n",
    "result_folder = r'/awlab/users/chsu/WorkSpace/tensorflow/segmentation/results'\n",
    "\n",
    "if not os.path.isdir(result_folder):\n",
    "    os.makedirs(result_folder)\n",
    "\n",
    "# plt.figure(figsize=(12,16))\n",
    "\n",
    "for i, (img, mask) in enumerate(val_ds):\n",
    "    if i in idx_to_plot:\n",
    "        y_pred = model(img)        \n",
    "        for j in range(4):\n",
    "            I = overlay_mask(img[j,:,:,0], mask[j,:,:,0], y_pred[j,:,:,0])\n",
    "            fname = os.path.join(result_folder, '{}_{}.png'.format(i,j))\n",
    "            cv2.imwrite(fname, cv2.cvtColor(I, cv2.COLOR_RGB2BGR))\n",
    "            \n",
    "#             plt.subplot(2,2,j+1)\n",
    "#             plt.imshow(I)\n",
    "            \n",
    "    if i > max(idx_to_plot):\n",
    "        break"
   ]
  },
  {
   "cell_type": "code",
   "execution_count": null,
   "metadata": {},
   "outputs": [],
   "source": [
    "\n",
    "\n",
    "\n",
    "\n",
    "\n",
    "\n",
    "\n",
    "\n",
    "\n",
    "\n",
    "\n",
    "\n",
    "\n",
    "\n",
    "\n",
    "\n",
    "\n",
    "\n",
    "\n",
    "\n",
    "\n",
    "\n",
    "\n",
    "\n",
    "\n",
    "\n",
    "\n",
    "\n"
   ]
  }
 ],
 "metadata": {
  "kernelspec": {
   "display_name": "Python 3",
   "language": "python",
   "name": "python3"
  },
  "language_info": {
   "codemirror_mode": {
    "name": "ipython",
    "version": 3
   },
   "file_extension": ".py",
   "mimetype": "text/x-python",
   "name": "python",
   "nbconvert_exporter": "python",
   "pygments_lexer": "ipython3",
   "version": "3.6.8"
  }
 },
 "nbformat": 4,
 "nbformat_minor": 2
}
