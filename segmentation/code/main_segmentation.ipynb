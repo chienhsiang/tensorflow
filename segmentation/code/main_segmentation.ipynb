{
 "cells": [
  {
   "cell_type": "code",
   "execution_count": 1,
   "metadata": {},
   "outputs": [],
   "source": [
    "import os\n",
    "import glob\n",
    "import re\n",
    "import functools\n",
    "from sklearn.model_selection import train_test_split\n",
    "import numpy as np\n",
    "import pandas as pd\n",
    "import datetime\n",
    "\n",
    "import matplotlib.pyplot as plt\n",
    "import cv2\n",
    "\n",
    "import data_io\n",
    "import u_net"
   ]
  },
  {
   "cell_type": "code",
   "execution_count": 2,
   "metadata": {},
   "outputs": [
    {
     "data": {
      "text/plain": [
       "'2.0.0-alpha0'"
      ]
     },
     "execution_count": 2,
     "metadata": {},
     "output_type": "execute_result"
    }
   ],
   "source": [
    "import tensorflow as tf\n",
    "from tensorflow.keras import models, layers, losses\n",
    "\n",
    "os.environ['CUDA_VISIBLE_DEVICES'] = '1'\n",
    "\n",
    "tf.__version__"
   ]
  },
  {
   "cell_type": "markdown",
   "metadata": {},
   "source": [
    "# Set up"
   ]
  },
  {
   "cell_type": "code",
   "execution_count": 3,
   "metadata": {},
   "outputs": [],
   "source": [
    "task = 'both_seg'\n",
    "\n",
    "if task == 'both_seg':\n",
    "    common_root = r'/awlab/users/chsu/WorkSpace/tensorflow/segmentation/data/p2017017086_ki67_merge'\n",
    "    MAX_LEVEL = 255.\n",
    "    n_channels = 3\n",
    "else:\n",
    "    common_root = r'/awlab/users/chsu/WorkSpace/tensorflow/segmentation/data/plate_2017017086_ki67'\n",
    "    MAX_LEVEL = 4095.\n",
    "    n_channels = 1\n",
    "\n",
    "img_dir = os.path.join(common_root, 'images')\n",
    "mask_dir = os.path.join(common_root, 'masks')\n",
    "\n",
    "batch_size = 5"
   ]
  },
  {
   "cell_type": "code",
   "execution_count": 4,
   "metadata": {},
   "outputs": [
    {
     "name": "stdout",
     "output_type": "stream",
     "text": [
      "Number of training samples: 345\n",
      "Number of validation samples: 87\n"
     ]
    }
   ],
   "source": [
    "if task == 'nuc_seg':\n",
    "    x_train_fnames = sorted(glob.glob(os.path.join(img_dir,'*-2.png'))) # nucleus images\n",
    "    y_train_fnames = sorted(glob.glob(os.path.join(mask_dir,'*_nucleus.png'))) # nucleus masks     \n",
    "\n",
    "elif task == 'cell_seg':\n",
    "    x_train_fnames = sorted(glob.glob(os.path.join(img_dir,'*-3.png'))) # cell images\n",
    "    y_train_fnames = sorted(glob.glob(os.path.join(mask_dir,'*_cell.png'))) # cell masks\n",
    "    \n",
    "elif task == 'both_seg':\n",
    "    x_train_fnames = sorted(glob.glob(os.path.join(img_dir,'*.png'))) # merged images\n",
    "    y_train_fnames = sorted(glob.glob(os.path.join(mask_dir,'*.png'))) # merged masks, green: nucleus, red: cell\n",
    "    \n",
    "else:\n",
    "    raise ValueError('Unknown task.')\n",
    "\n",
    "# Remove column 2\n",
    "pattern = re.compile('_[A-Z]2_')\n",
    "x_train_fnames = [f for f in x_train_fnames if not pattern.search(f)]\n",
    "y_train_fnames = [f for f in y_train_fnames if not pattern.search(f)]\n",
    "\n",
    "# idx = np.random.choice(len(x_train_fnames))\n",
    "# print(x_train_fnames[idx])\n",
    "# print(y_train_fnames[idx])\n",
    "\n",
    "# Split into training and validation\n",
    "x_train_fnames, x_val_fnames, y_train_fnames, y_val_fnames = \\\n",
    "    train_test_split(x_train_fnames, y_train_fnames, test_size=0.2, random_state=43)\n",
    "\n",
    "num_train_data = len(x_train_fnames)\n",
    "num_val_data = len(x_val_fnames)\n",
    "\n",
    "print(\"Number of training samples: {}\".format(num_train_data))\n",
    "print(\"Number of validation samples: {}\".format(num_val_data))"
   ]
  },
  {
   "cell_type": "code",
   "execution_count": null,
   "metadata": {},
   "outputs": [],
   "source": [
    "idx = np.random.choice(num_val_data)\n",
    "print(os.path.basename(x_val_fnames[idx]))\n",
    "print(os.path.basename(y_val_fnames[idx]))"
   ]
  },
  {
   "cell_type": "markdown",
   "metadata": {},
   "source": [
    "# Test the input pipeline"
   ]
  },
  {
   "cell_type": "markdown",
   "metadata": {},
   "source": [
    "### Get image and mask from path names"
   ]
  },
  {
   "cell_type": "code",
   "execution_count": null,
   "metadata": {},
   "outputs": [],
   "source": [
    "idx = np.random.choice(num_train_data)\n",
    "img, mask = data_io._get_image_from_path(x_train_fnames[idx], y_train_fnames[idx], \n",
    "                                         max_level=MAX_LEVEL, channels=n_channels)\n",
    "\n",
    "print('Image shape: {}'.format(img.shape))\n",
    "print('Mask shape : {}'.format(mask.shape))\n",
    "\n",
    "\n",
    "if n_channels == 1: # single channel\n",
    "    plt.figure(figsize=(12,16))\n",
    "    plt.subplot(1,2,1)\n",
    "    plt.imshow(img[:,:,0], cmap='gray')\n",
    "    plt.subplot(1,2,2)\n",
    "    plt.imshow(mask[:,:,0])\n",
    "    \n",
    "elif n_channels == 3: # color\n",
    "    plt.figure(figsize=(12,16))\n",
    "    plt.subplot(1,2,1)\n",
    "    plt.imshow(img, cmap='gray')\n",
    "    plt.subplot(1,2,2)\n",
    "    plt.imshow(mask)"
   ]
  },
  {
   "cell_type": "code",
   "execution_count": null,
   "metadata": {},
   "outputs": [],
   "source": [
    "print(np.unique(mask))\n",
    "\n",
    "print(img.shape)\n",
    "print(img.dtype)\n",
    "print(mask.shape)\n",
    "print(img.numpy().max())"
   ]
  },
  {
   "cell_type": "markdown",
   "metadata": {},
   "source": [
    "### Test the input pipeline"
   ]
  },
  {
   "cell_type": "code",
   "execution_count": null,
   "metadata": {},
   "outputs": [],
   "source": [
    "import importlib\n",
    "importlib.reload(data_io)\n",
    "importlib.reload(u_net)"
   ]
  },
  {
   "cell_type": "code",
   "execution_count": null,
   "metadata": {},
   "outputs": [],
   "source": [
    "read_img_fn = functools.partial(data_io._get_image_from_path, max_level=MAX_LEVEL, channels=n_channels)\n",
    "tmp_ds = data_io.get_dataset(x_train_fnames, y_train_fnames, read_img_fn=read_img_fn)\n",
    "\n",
    "plt.figure(figsize=(12,16))\n",
    "for i, (img, mask) in enumerate(tmp_ds.shuffle(num_train_data).take(3)):\n",
    "    print(img.numpy().max())\n",
    "    print(mask.numpy().max())\n",
    "    plt.subplot(3,2,2*i+1)\n",
    "    plt.imshow(img[0,:,:,:]/255.)\n",
    "    plt.subplot(3,2,2*i+2)\n",
    "    plt.imshow(mask[0,:,:,:]/255.)\n",
    "plt.show()"
   ]
  },
  {
   "cell_type": "markdown",
   "metadata": {},
   "source": [
    "# Configure training and validation datasets"
   ]
  },
  {
   "cell_type": "code",
   "execution_count": 5,
   "metadata": {},
   "outputs": [],
   "source": [
    "read_img_fn = functools.partial(data_io._get_image_from_path, max_level=MAX_LEVEL, channels=n_channels)\n",
    "\n",
    "# training data\n",
    "train_cfg = {\n",
    "    'resize': None, \n",
    "    'scale': 1/255.,\n",
    "    'crop_size': [512, 512],\n",
    "    'to_flip': True\n",
    "}\n",
    "tr_preproc_fn = functools.partial(data_io._augment, **train_cfg)\n",
    "\n",
    "# validation data\n",
    "val_cfg = {\n",
    "    'resize': None, \n",
    "    'scale': 1/255.,\n",
    "    'crop_size': [512, 512]\n",
    "}\n",
    "val_preproc_fn = functools.partial(data_io._augment, **val_cfg)\n",
    "\n",
    "train_ds = data_io.get_dataset(x_train_fnames, y_train_fnames, read_img_fn=read_img_fn,\n",
    "                               preproc_fn=tr_preproc_fn, shuffle=True, batch_size=batch_size)\n",
    "val_ds = data_io.get_dataset(x_val_fnames, y_val_fnames, read_img_fn=read_img_fn, \n",
    "                             preproc_fn=val_preproc_fn, shuffle=False, batch_size=batch_size)"
   ]
  },
  {
   "cell_type": "code",
   "execution_count": null,
   "metadata": {},
   "outputs": [],
   "source": [
    "plt.figure(figsize=(12,16))\n",
    "for i, (img, mask) in enumerate(val_ds.take(3)):\n",
    "\n",
    "    plt.subplot(3,3,3*i+1)\n",
    "    plt.imshow(img[0,:,:,0])\n",
    "    \n",
    "    plt.subplot(3,3,3*i+2)\n",
    "    plt.imshow(mask[0,:,:,0])\n",
    "    \n",
    "#     plt.subplot(3,3,3*i+3)\n",
    "#     plt.imshow(mask[0,:,:,1])"
   ]
  },
  {
   "cell_type": "markdown",
   "metadata": {},
   "source": [
    "# Customized loss"
   ]
  },
  {
   "cell_type": "code",
   "execution_count": null,
   "metadata": {},
   "outputs": [],
   "source": [
    "import importlib\n",
    "importlib.reload(u_net)\n",
    "importlib.reload(data_io)"
   ]
  },
  {
   "cell_type": "code",
   "execution_count": null,
   "metadata": {},
   "outputs": [],
   "source": [
    "for img, mask in val_ds.shuffle(num_val_data).take(1):\n",
    "    idx = 0\n",
    "    \n",
    "    w_cfg = {\n",
    "        'nuc_ch': 1,\n",
    "        'cell_ch': 0,\n",
    "        'w0': 10,\n",
    "        'sigma': 5\n",
    "    }\n",
    "    \n",
    "    y_pred = model(img)\n",
    "    \n",
    "    loss, cb, nuc_dw, cell_dw = u_net.weighted_cce_loss(mask, y_pred, **w_cfg)\n",
    "    print(tf.reduce_max(cb, axis=(1,2)))\n",
    "    \n",
    "    print(loss.shape)\n",
    "    print(cb.shape)\n",
    "    print(nuc_dw.shape)\n",
    "    print(cell_dw.shape)\n",
    "    \n",
    "    L = loss[idx].numpy()\n",
    "    CB = cb[idx].numpy()\n",
    "    b = np.zeros_like(mask[idx,...,0])\n",
    "    NW = nuc_dw[idx].numpy()\n",
    "    CW = cell_dw[idx].numpy()\n",
    "    \n",
    "#     CB = CB / CB.max()\n",
    "#     NW = NW / np.median(NW)\n",
    "#     CW = CW / np.median(CW)\n",
    "    \n",
    "    plt.figure(figsize=(16,16))\n",
    "    plt.subplot(2,2,1)\n",
    "    plt.imshow(np.dstack([NW/NW.max(), mask[idx,...,w_cfg['nuc_ch']], b]))\n",
    "    \n",
    "    plt.subplot(2,2,2)\n",
    "    plt.imshow(np.dstack([CW/CW.max(), mask[idx,...,w_cfg['cell_ch']], b]))\n",
    "    \n",
    "    plt.subplot(2,2,3)\n",
    "    plt.imshow(np.dstack([L, mask[idx,...,w_cfg['cell_ch']], b]))\n",
    "    \n",
    "    print([CB.min(), CB.mean(), CB.max()])\n",
    "    print([NW.min(), NW.mean(), NW.max()])\n",
    "    print([CW.min(), CW.mean(), CW.max()])\n",
    "    print([L.min(), L.mean(), L.max()])\n",
    "    \n",
    "#     plt.subplot(2,2,3)\n",
    "#     plt.hist(NW, bins='auto')\n",
    "    \n",
    "#     plt.subplot(2,2,4)\n",
    "#     plt.hist(CW, bins='auto')\n",
    "    "
   ]
  },
  {
   "cell_type": "code",
   "execution_count": null,
   "metadata": {},
   "outputs": [],
   "source": [
    "for (img, mask) in val_ds.shuffle(30).take(1):\n",
    "    print(mask.dtype)\n",
    "#     L = u_net.weighted_loss(mask, mask)\n",
    "    M = mask[0,:,:,0]\n",
    "    wc = u_net.balancing_weight_tf(M)\n",
    "    dw = u_net.distance_weight(M.numpy(), w0=10, sigma=5.0)\n",
    "    \n",
    "    \n",
    "    plt.figure(figsize=(12,16))\n",
    "    b = np.zeros_like(M)\n",
    "    plt.imshow(np.dstack([dw, M, b]))\n",
    "#     plt.imshow(dw)\n",
    "    \n",
    "#     plt.subplot(1,3,1)\n",
    "#     plt.imshow(img[0,:,:,0])\n",
    "\n",
    "#     plt.subplot(1,3,2)\n",
    "#     plt.imshow(M)\n",
    "\n",
    "#     plt.subplot(1,3,3)\n",
    "#     plt.imshow(dw)\n",
    "    \n",
    "#     print(L.shape)\n",
    "    print((wc.numpy().min(), wc.numpy().max()))\n",
    "    print((dw.min(), dw.max()))\n",
    "    \n",
    "#     plt.figure(figsize=(12,16))\n",
    "    \n",
    "#     for i, w in enumerate(L):\n",
    "#         if i>2:\n",
    "#             break\n",
    "            \n",
    "#         plt.subplot(3,3,3*i+1)\n",
    "#         plt.imshow(img[i,:,:,0])\n",
    "\n",
    "#         plt.subplot(3,3,3*i+2)\n",
    "#         plt.imshow(mask[i,:,:,0])\n",
    "\n",
    "#         plt.subplot(3,3,3*i+3)\n",
    "#         plt.imshow(w)\n",
    "#         print((w.numpy().min(), w.numpy().max()))\n",
    "        \n"
   ]
  },
  {
   "cell_type": "markdown",
   "metadata": {},
   "source": [
    "# Build the model"
   ]
  },
  {
   "cell_type": "code",
   "execution_count": 6,
   "metadata": {},
   "outputs": [],
   "source": [
    "num_filters_list = [32, 64, 128, 256, 512]\n",
    "n_classes = 3\n",
    "\n",
    "w0 = 10.\n",
    "sigma = 5.\n",
    "\n",
    "w_cfg = {\n",
    "    'nuc_ch': 1,\n",
    "    'cell_ch': 0,\n",
    "    'w0': 10,\n",
    "    'sigma': 5\n",
    "}\n",
    "\n",
    "model = u_net.Unet(num_filters_list, n_classes=n_classes, dynamic=True)\n",
    "\n",
    "# loss_fn = functools.partial(u_net.weighted_loss, w0=w0, sigma=sigma)\n",
    "loss_fn = functools.partial(u_net.weighted_cce_loss, **w_cfg)\n",
    "\n",
    "model.compile(optimizer='adam', loss=loss_fn)\n",
    "# model.compile(optimizer='adam', loss=losses.categorical_crossentropy, metrics=[u_net.dice_loss])\n",
    "\n",
    "# plt.figure(figsize=(12,16))\n",
    "# for i, (img, mask) in enumerate(train_ds.take(1)):\n",
    "#     y_pred = model(img)\n",
    "    \n",
    "#     plt.subplot(1,3,1)\n",
    "#     plt.imshow(img[0,:,:,0])\n",
    "#     plt.subplot(1,3,2)\n",
    "#     plt.imshow(mask[0,:,:,0])\n",
    "#     plt.subplot(1,3,3)\n",
    "#     plt.imshow(y_pred[0,:,:,0])\n",
    "# plt.show()"
   ]
  },
  {
   "cell_type": "code",
   "execution_count": null,
   "metadata": {},
   "outputs": [],
   "source": [
    "y = model(tf.random.uniform([1, 512, 512, 3]))\n",
    "print(y.shape)"
   ]
  },
  {
   "cell_type": "markdown",
   "metadata": {},
   "source": [
    "## Train the model"
   ]
  },
  {
   "cell_type": "code",
   "execution_count": 7,
   "metadata": {},
   "outputs": [],
   "source": [
    "root_path = r'/awlab/users/chsu/WorkSpace/tensorflow/segmentation'\n",
    "model_tag = 'both_weighted_cce_'\n",
    "\n",
    "timestamp = '{}'.format(datetime.datetime.now()).split('.')[0].replace(':','_').replace(' ','_')\n",
    "foler_name = model_tag + timestamp\n",
    "\n",
    "# model weights\n",
    "weights_path = os.path.join(root_path, 'models', foler_name, 'weights-{epoch:04d}.ckpt')\n",
    "weights_dir = os.path.dirname(weights_path)\n",
    "if not os.path.isdir(weights_dir):\n",
    "    os.makedirs(weights_dir, exist_ok=True)\n",
    "cp = tf.keras.callbacks.ModelCheckpoint(filepath=weights_path, monitor='val_loss', \n",
    "                                        save_best_only=True, save_weights_only=True, verbose=1)\n",
    "# tensorboard\n",
    "log_dir = os.path.join(root_path, 'logs', foler_name)\n",
    "if not os.path.isdir(log_dir):\n",
    "    os.makedirs(log_dir, exist_ok=True)\n",
    "tb = tf.keras.callbacks.TensorBoard(log_dir=log_dir)"
   ]
  },
  {
   "cell_type": "code",
   "execution_count": 8,
   "metadata": {},
   "outputs": [
    {
     "name": "stderr",
     "output_type": "stream",
     "text": [
      "WARNING: Logging before flag parsing goes to stderr.\n",
      "W0419 11:34:21.394045 140353961400064 callbacks.py:1218] TensorBoard Callback will ignore `write_graph=True`when `Model.run_eagerly=True`.`\n"
     ]
    },
    {
     "name": "stdout",
     "output_type": "stream",
     "text": [
      "Epoch 1/50\n",
      "68/69 [============================>.] - ETA: 7s - loss: 0.1209 \n",
      "Epoch 00001: val_loss improved from inf to 0.33341, saving model to /awlab/users/chsu/WorkSpace/tensorflow/segmentation/models/both_weighted_cce_2019-04-19_11_34_19/weights-0001.ckpt\n",
      "69/69 [==============================] - 634s 9s/step - loss: 0.1203 - val_loss: 0.3334\n",
      "Epoch 2/50\n",
      "68/69 [============================>.] - ETA: 7s - loss: 0.0601 \n",
      "Epoch 00002: val_loss did not improve from 0.33341\n",
      "69/69 [==============================] - 611s 9s/step - loss: 0.0600 - val_loss: 0.3461\n",
      "Epoch 3/50\n",
      "68/69 [============================>.] - ETA: 7s - loss: 0.0528 \n",
      "Epoch 00003: val_loss did not improve from 0.33341\n",
      "69/69 [==============================] - 609s 9s/step - loss: 0.0527 - val_loss: 0.4433\n",
      "Epoch 4/50\n",
      "68/69 [============================>.] - ETA: 7s - loss: 0.0447 \n",
      "Epoch 00004: val_loss did not improve from 0.33341\n",
      "69/69 [==============================] - 611s 9s/step - loss: 0.0449 - val_loss: 0.3930\n",
      "Epoch 5/50\n",
      "68/69 [============================>.] - ETA: 6s - loss: 0.0429 \n",
      "Epoch 00005: val_loss improved from 0.33341 to 0.28699, saving model to /awlab/users/chsu/WorkSpace/tensorflow/segmentation/models/both_weighted_cce_2019-04-19_11_34_19/weights-0005.ckpt\n",
      "69/69 [==============================] - 601s 9s/step - loss: 0.0428 - val_loss: 0.2870\n",
      "Epoch 6/50\n",
      "68/69 [============================>.] - ETA: 6s - loss: 0.0384 \n",
      "Epoch 00006: val_loss improved from 0.28699 to 0.15151, saving model to /awlab/users/chsu/WorkSpace/tensorflow/segmentation/models/both_weighted_cce_2019-04-19_11_34_19/weights-0006.ckpt\n",
      "69/69 [==============================] - 603s 9s/step - loss: 0.0386 - val_loss: 0.1515\n",
      "Epoch 7/50\n",
      "68/69 [============================>.] - ETA: 6s - loss: 0.0374 \n",
      "Epoch 00007: val_loss improved from 0.15151 to 0.10618, saving model to /awlab/users/chsu/WorkSpace/tensorflow/segmentation/models/both_weighted_cce_2019-04-19_11_34_19/weights-0007.ckpt\n",
      "69/69 [==============================] - 592s 9s/step - loss: 0.0378 - val_loss: 0.1062\n",
      "Epoch 8/50\n",
      "68/69 [============================>.] - ETA: 7s - loss: 0.0364 \n",
      "Epoch 00008: val_loss improved from 0.10618 to 0.05517, saving model to /awlab/users/chsu/WorkSpace/tensorflow/segmentation/models/both_weighted_cce_2019-04-19_11_34_19/weights-0008.ckpt\n",
      "69/69 [==============================] - 606s 9s/step - loss: 0.0365 - val_loss: 0.0552\n",
      "Epoch 9/50\n",
      "68/69 [============================>.] - ETA: 6s - loss: 0.0350 \n",
      "Epoch 00009: val_loss improved from 0.05517 to 0.03677, saving model to /awlab/users/chsu/WorkSpace/tensorflow/segmentation/models/both_weighted_cce_2019-04-19_11_34_19/weights-0009.ckpt\n",
      "69/69 [==============================] - 601s 9s/step - loss: 0.0354 - val_loss: 0.0368\n",
      "Epoch 10/50\n",
      "68/69 [============================>.] - ETA: 6s - loss: 0.0338 \n",
      "Epoch 00010: val_loss improved from 0.03677 to 0.03135, saving model to /awlab/users/chsu/WorkSpace/tensorflow/segmentation/models/both_weighted_cce_2019-04-19_11_34_19/weights-0010.ckpt\n",
      "69/69 [==============================] - 594s 9s/step - loss: 0.0339 - val_loss: 0.0314\n",
      "Epoch 11/50\n",
      "68/69 [============================>.] - ETA: 6s - loss: 0.0324 \n",
      "Epoch 00011: val_loss improved from 0.03135 to 0.03082, saving model to /awlab/users/chsu/WorkSpace/tensorflow/segmentation/models/both_weighted_cce_2019-04-19_11_34_19/weights-0011.ckpt\n",
      "69/69 [==============================] - 594s 9s/step - loss: 0.0323 - val_loss: 0.0308\n",
      "Epoch 12/50\n",
      "68/69 [============================>.] - ETA: 7s - loss: 0.0319 \n",
      "Epoch 00012: val_loss did not improve from 0.03082\n",
      "69/69 [==============================] - 605s 9s/step - loss: 0.0318 - val_loss: 0.0366\n",
      "Epoch 13/50\n",
      "68/69 [============================>.] - ETA: 6s - loss: 0.0318 \n",
      "Epoch 00013: val_loss improved from 0.03082 to 0.02941, saving model to /awlab/users/chsu/WorkSpace/tensorflow/segmentation/models/both_weighted_cce_2019-04-19_11_34_19/weights-0013.ckpt\n",
      "69/69 [==============================] - 586s 8s/step - loss: 0.0316 - val_loss: 0.0294\n",
      "Epoch 14/50\n",
      "68/69 [============================>.] - ETA: 6s - loss: 0.0322 \n",
      "Epoch 00014: val_loss did not improve from 0.02941\n",
      "69/69 [==============================] - 595s 9s/step - loss: 0.0320 - val_loss: 0.0319\n",
      "Epoch 15/50\n",
      "68/69 [============================>.] - ETA: 7s - loss: 0.0332 \n",
      "Epoch 00015: val_loss did not improve from 0.02941\n",
      "69/69 [==============================] - 602s 9s/step - loss: 0.0329 - val_loss: 0.0381\n",
      "Epoch 16/50\n",
      "68/69 [============================>.] - ETA: 7s - loss: 0.0317 \n",
      "Epoch 00016: val_loss did not improve from 0.02941\n",
      "69/69 [==============================] - 613s 9s/step - loss: 0.0317 - val_loss: 0.0303\n",
      "Epoch 17/50\n",
      "68/69 [============================>.] - ETA: 7s - loss: 0.0307 \n",
      "Epoch 00017: val_loss did not improve from 0.02941\n",
      "69/69 [==============================] - 613s 9s/step - loss: 0.0306 - val_loss: 0.0327\n",
      "Epoch 18/50\n",
      "68/69 [============================>.] - ETA: 6s - loss: 0.0295 \n",
      "Epoch 00018: val_loss improved from 0.02941 to 0.02725, saving model to /awlab/users/chsu/WorkSpace/tensorflow/segmentation/models/both_weighted_cce_2019-04-19_11_34_19/weights-0018.ckpt\n",
      "69/69 [==============================] - 599s 9s/step - loss: 0.0298 - val_loss: 0.0272\n",
      "Epoch 19/50\n",
      "68/69 [============================>.] - ETA: 6s - loss: 0.0295 \n",
      "Epoch 00019: val_loss did not improve from 0.02725\n",
      "69/69 [==============================] - 597s 9s/step - loss: 0.0295 - val_loss: 0.0338\n",
      "Epoch 20/50\n",
      "68/69 [============================>.] - ETA: 7s - loss: 0.0289 \n",
      "Epoch 00020: val_loss did not improve from 0.02725\n",
      "69/69 [==============================] - 602s 9s/step - loss: 0.0288 - val_loss: 0.0298\n",
      "Epoch 21/50\n",
      "68/69 [============================>.] - ETA: 6s - loss: 0.0276 \n",
      "Epoch 00021: val_loss did not improve from 0.02725\n",
      "69/69 [==============================] - 592s 9s/step - loss: 0.0277 - val_loss: 0.0323\n",
      "Epoch 22/50\n",
      "68/69 [============================>.] - ETA: 7s - loss: 0.0297 \n",
      "Epoch 00022: val_loss did not improve from 0.02725\n",
      "69/69 [==============================] - 607s 9s/step - loss: 0.0296 - val_loss: 0.0273\n",
      "Epoch 23/50\n",
      "68/69 [============================>.] - ETA: 6s - loss: 0.0277 \n",
      "Epoch 00023: val_loss did not improve from 0.02725\n",
      "69/69 [==============================] - 589s 9s/step - loss: 0.0278 - val_loss: 0.0295\n",
      "Epoch 24/50\n",
      "68/69 [============================>.] - ETA: 6s - loss: 0.0273 \n",
      "Epoch 00024: val_loss did not improve from 0.02725\n",
      "69/69 [==============================] - 598s 9s/step - loss: 0.0274 - val_loss: 0.0357\n",
      "Epoch 25/50\n",
      "68/69 [============================>.] - ETA: 7s - loss: 0.0280 \n",
      "Epoch 00025: val_loss did not improve from 0.02725\n",
      "69/69 [==============================] - 615s 9s/step - loss: 0.0279 - val_loss: 0.0280\n",
      "Epoch 26/50\n",
      "68/69 [============================>.] - ETA: 6s - loss: 0.0272 \n",
      "Epoch 00026: val_loss did not improve from 0.02725\n",
      "69/69 [==============================] - 596s 9s/step - loss: 0.0272 - val_loss: 0.0305\n",
      "Epoch 27/50\n",
      "68/69 [============================>.] - ETA: 7s - loss: 0.0295 \n",
      "Epoch 00027: val_loss did not improve from 0.02725\n",
      "69/69 [==============================] - 613s 9s/step - loss: 0.0293 - val_loss: 0.0291\n",
      "Epoch 28/50\n",
      "68/69 [============================>.] - ETA: 7s - loss: 0.0285 \n",
      "Epoch 00028: val_loss did not improve from 0.02725\n",
      "69/69 [==============================] - 613s 9s/step - loss: 0.0282 - val_loss: 0.0277\n",
      "Epoch 29/50\n",
      "68/69 [============================>.] - ETA: 6s - loss: 0.0266 \n",
      "Epoch 00029: val_loss improved from 0.02725 to 0.02578, saving model to /awlab/users/chsu/WorkSpace/tensorflow/segmentation/models/both_weighted_cce_2019-04-19_11_34_19/weights-0029.ckpt\n",
      "69/69 [==============================] - 598s 9s/step - loss: 0.0265 - val_loss: 0.0258\n",
      "Epoch 30/50\n",
      "68/69 [============================>.] - ETA: 6s - loss: 0.0263 \n",
      "Epoch 00030: val_loss did not improve from 0.02578\n",
      "69/69 [==============================] - 586s 8s/step - loss: 0.0263 - val_loss: 0.0469\n",
      "Epoch 31/50\n",
      "68/69 [============================>.] - ETA: 6s - loss: 0.0260 \n",
      "Epoch 00031: val_loss did not improve from 0.02578\n",
      "69/69 [==============================] - 592s 9s/step - loss: 0.0259 - val_loss: 0.0328\n",
      "Epoch 32/50\n"
     ]
    },
    {
     "name": "stdout",
     "output_type": "stream",
     "text": [
      "68/69 [============================>.] - ETA: 7s - loss: 0.0265 \n",
      "Epoch 00032: val_loss improved from 0.02578 to 0.02450, saving model to /awlab/users/chsu/WorkSpace/tensorflow/segmentation/models/both_weighted_cce_2019-04-19_11_34_19/weights-0032.ckpt\n",
      "69/69 [==============================] - 614s 9s/step - loss: 0.0263 - val_loss: 0.0245\n",
      "Epoch 33/50\n",
      "68/69 [============================>.] - ETA: 6s - loss: 0.0263 \n",
      "Epoch 00033: val_loss did not improve from 0.02450\n",
      "69/69 [==============================] - 595s 9s/step - loss: 0.0264 - val_loss: 0.0255\n",
      "Epoch 34/50\n",
      "68/69 [============================>.] - ETA: 6s - loss: 0.0262 \n",
      "Epoch 00034: val_loss did not improve from 0.02450\n",
      "69/69 [==============================] - 596s 9s/step - loss: 0.0262 - val_loss: 0.0264\n",
      "Epoch 35/50\n",
      "68/69 [============================>.] - ETA: 7s - loss: 0.0266 \n",
      "Epoch 00035: val_loss did not improve from 0.02450\n",
      "69/69 [==============================] - 603s 9s/step - loss: 0.0266 - val_loss: 0.0278\n",
      "Epoch 36/50\n",
      "68/69 [============================>.] - ETA: 6s - loss: 0.0255 \n",
      "Epoch 00036: val_loss improved from 0.02450 to 0.02376, saving model to /awlab/users/chsu/WorkSpace/tensorflow/segmentation/models/both_weighted_cce_2019-04-19_11_34_19/weights-0036.ckpt\n",
      "69/69 [==============================] - 591s 9s/step - loss: 0.0254 - val_loss: 0.0238\n",
      "Epoch 37/50\n",
      "68/69 [============================>.] - ETA: 7s - loss: 0.0252 \n",
      "Epoch 00037: val_loss did not improve from 0.02376\n",
      "69/69 [==============================] - 612s 9s/step - loss: 0.0252 - val_loss: 0.0282\n",
      "Epoch 38/50\n",
      "68/69 [============================>.] - ETA: 6s - loss: 0.0257 \n",
      "Epoch 00038: val_loss did not improve from 0.02376\n",
      "69/69 [==============================] - 589s 9s/step - loss: 0.0256 - val_loss: 0.0291\n",
      "Epoch 39/50\n",
      "68/69 [============================>.] - ETA: 6s - loss: 0.0251 \n",
      "Epoch 00039: val_loss did not improve from 0.02376\n",
      "69/69 [==============================] - 596s 9s/step - loss: 0.0254 - val_loss: 0.0351\n",
      "Epoch 40/50\n",
      "68/69 [============================>.] - ETA: 6s - loss: 0.0260 \n",
      "Epoch 00040: val_loss did not improve from 0.02376\n",
      "69/69 [==============================] - 599s 9s/step - loss: 0.0261 - val_loss: 0.0265\n",
      "Epoch 41/50\n",
      "68/69 [============================>.] - ETA: 6s - loss: 0.0246 \n",
      "Epoch 00041: val_loss did not improve from 0.02376\n",
      "69/69 [==============================] - 591s 9s/step - loss: 0.0246 - val_loss: 0.0246\n",
      "Epoch 42/50\n",
      "68/69 [============================>.] - ETA: 6s - loss: 0.0266 \n",
      "Epoch 00042: val_loss did not improve from 0.02376\n",
      "69/69 [==============================] - 592s 9s/step - loss: 0.0265 - val_loss: 0.0254\n",
      "Epoch 43/50\n",
      "68/69 [============================>.] - ETA: 6s - loss: 0.0243 \n",
      "Epoch 00043: val_loss did not improve from 0.02376\n",
      "69/69 [==============================] - 601s 9s/step - loss: 0.0245 - val_loss: 0.0250\n",
      "Epoch 44/50\n",
      "68/69 [============================>.] - ETA: 6s - loss: 0.0248 \n",
      "Epoch 00044: val_loss did not improve from 0.02376\n",
      "69/69 [==============================] - 594s 9s/step - loss: 0.0247 - val_loss: 0.0329\n",
      "Epoch 45/50\n",
      "68/69 [============================>.] - ETA: 6s - loss: 0.0240 \n",
      "Epoch 00045: val_loss did not improve from 0.02376\n",
      "69/69 [==============================] - 582s 8s/step - loss: 0.0242 - val_loss: 0.0870\n",
      "Epoch 46/50\n",
      "68/69 [============================>.] - ETA: 6s - loss: 0.0249 \n",
      "Epoch 00046: val_loss did not improve from 0.02376\n",
      "69/69 [==============================] - 596s 9s/step - loss: 0.0250 - val_loss: 0.0277\n",
      "Epoch 47/50\n",
      "68/69 [============================>.] - ETA: 7s - loss: 0.0250 \n",
      "Epoch 00047: val_loss improved from 0.02376 to 0.02294, saving model to /awlab/users/chsu/WorkSpace/tensorflow/segmentation/models/both_weighted_cce_2019-04-19_11_34_19/weights-0047.ckpt\n",
      "69/69 [==============================] - 610s 9s/step - loss: 0.0250 - val_loss: 0.0229\n",
      "Epoch 48/50\n",
      "68/69 [============================>.] - ETA: 6s - loss: 0.0249 \n",
      "Epoch 00048: val_loss did not improve from 0.02294\n",
      "69/69 [==============================] - 594s 9s/step - loss: 0.0247 - val_loss: 0.0249\n",
      "Epoch 49/50\n",
      "68/69 [============================>.] - ETA: 7s - loss: 0.0262 \n",
      "Epoch 00049: val_loss did not improve from 0.02294\n",
      "69/69 [==============================] - 602s 9s/step - loss: 0.0260 - val_loss: 0.0278\n",
      "Epoch 50/50\n",
      "68/69 [============================>.] - ETA: 6s - loss: 0.0251 \n",
      "Epoch 00050: val_loss did not improve from 0.02294\n",
      "69/69 [==============================] - 600s 9s/step - loss: 0.0251 - val_loss: 0.0297\n"
     ]
    }
   ],
   "source": [
    "history = model.fit(train_ds, epochs=50, \n",
    "                    steps_per_epoch=int(np.ceil(num_train_data / batch_size)),\n",
    "                    validation_data=val_ds,\n",
    "                    validation_steps=int(np.ceil(num_val_data / batch_size)),\n",
    "                    callbacks=[cp, tb])"
   ]
  },
  {
   "cell_type": "code",
   "execution_count": null,
   "metadata": {},
   "outputs": [],
   "source": [
    "import importlib\n",
    "importlib.reload(u_net)"
   ]
  },
  {
   "cell_type": "code",
   "execution_count": null,
   "metadata": {},
   "outputs": [],
   "source": [
    "for (x,y) in train_ds.take(1):\n",
    "    u_net.bce_dice_loss(y,y)"
   ]
  },
  {
   "cell_type": "code",
   "execution_count": null,
   "metadata": {},
   "outputs": [],
   "source": [
    "print(tf.data.experimental.AUTOTUNE)"
   ]
  },
  {
   "cell_type": "markdown",
   "metadata": {},
   "source": [
    "### Plot training process"
   ]
  },
  {
   "cell_type": "code",
   "execution_count": null,
   "metadata": {},
   "outputs": [],
   "source": [
    "tr_process = pd.DataFrame.from_dict(history.history)\n",
    "tr_process['epoch'] = np.array(range(1, tr_process.shape[0]+1))\n",
    "\n",
    "tr_process.plot(x='epoch', y=['loss', 'val_loss'])\n",
    "tr_process.plot(x='epoch', y=['dice_loss', 'val_dice_loss'])"
   ]
  },
  {
   "cell_type": "markdown",
   "metadata": {},
   "source": [
    "### Or load the trained weights"
   ]
  },
  {
   "cell_type": "code",
   "execution_count": null,
   "metadata": {},
   "outputs": [],
   "source": [
    "model_dir = r'/awlab/users/chsu/WorkSpace/tensorflow/segmentation/models/nucleus_weighted_bce22019-04-16_07_38_00'\n",
    "latest = tf.train.latest_checkpoint(model_dir)\n",
    "print(latest)\n",
    "model.load_weights(latest)"
   ]
  },
  {
   "cell_type": "code",
   "execution_count": null,
   "metadata": {},
   "outputs": [],
   "source": [
    "model.evaluate(val_ds, steps=int(np.ceil(num_val_data / batch_size)))"
   ]
  },
  {
   "cell_type": "markdown",
   "metadata": {},
   "source": [
    "# Visualize performance"
   ]
  },
  {
   "cell_type": "code",
   "execution_count": null,
   "metadata": {},
   "outputs": [],
   "source": [
    "def overlay_mask(img, mask, mask_pred):\n",
    "    \"\"\"green: true, red: predicted\"\"\"\n",
    "    I = np.uint8(img.numpy()*255.)\n",
    "    I = cv2.cvtColor(I,cv2.COLOR_GRAY2RGB)\n",
    "    \n",
    "    M = np.uint8(mask.numpy()*255.)\n",
    "    M_pred = np.uint8((mask_pred.numpy()>0.5) * 255.)\n",
    "    \n",
    "    im, contours, _ = cv2.findContours(M.copy(), cv2.RETR_EXTERNAL, cv2.CHAIN_APPROX_NONE)\n",
    "    im_pred, contours_pred, _ = cv2.findContours(M_pred.copy(), \n",
    "                                                cv2.RETR_EXTERNAL, cv2.CHAIN_APPROX_NONE)\n",
    "    \n",
    "    I1 = cv2.drawContours(I.copy(), contours, -1, (0,255,0), 1)\n",
    "    I2 = cv2.drawContours(I.copy(), contours_pred, -1, (255,0,0), 1)\n",
    "    I[:,:,1] = I1[:,:,1]\n",
    "    I[:,:,0] = I2[:,:,0]\n",
    "    \n",
    "    return I"
   ]
  },
  {
   "cell_type": "code",
   "execution_count": null,
   "metadata": {},
   "outputs": [],
   "source": [
    "def overlay_mask(I, M, M_pred, true_color=(0,255,0), pred_color=(255,0,0)):\n",
    "    \"\"\"I, M, M_pred are uint8 numpy arrays\n",
    "    \"\"\"\n",
    "    if I.shape[-1] == 1:\n",
    "        I = cv2.cvtColor(I,cv2.COLOR_GRAY2RGB)\n",
    "    \n",
    "    im, contours, _ = cv2.findContours(M.copy(), cv2.RETR_EXTERNAL, cv2.CHAIN_APPROX_NONE)\n",
    "    im_pred, contours_pred, _ = cv2.findContours(M_pred.copy(), \n",
    "                                                 cv2.RETR_EXTERNAL, cv2.CHAIN_APPROX_NONE)\n",
    "    Z = np.zeros_like(I)\n",
    "    I1 = cv2.drawContours(Z.copy(), contours, -1, true_color, 1)\n",
    "    I2 = cv2.drawContours(Z.copy(), contours_pred, -1, pred_color, 1)\n",
    "    \n",
    "    I = np.uint8(np.clip(np.float32(I) + np.float32(I1) + np.float32(I2), 0, 255))\n",
    "    \n",
    "    return I"
   ]
  },
  {
   "cell_type": "code",
   "execution_count": null,
   "metadata": {},
   "outputs": [],
   "source": [
    "idx_to_plot = np.random.choice(num_val_data, 3)\n",
    "result_folder = r'/awlab/users/chsu/WorkSpace/tensorflow/segmentation/results'\n",
    "nuc_idx = 1\n",
    "cell_idx = 0\n",
    "\n",
    "if not os.path.isdir(result_folder):\n",
    "    os.makedirs(result_folder)\n",
    "\n",
    "# plt.figure(figsize=(12,16))\n",
    "\n",
    "for i, (img, mask) in enumerate(val_ds):\n",
    "    if i in idx_to_plot:\n",
    "        y_pred = model(img)        \n",
    "        for j in range(4):\n",
    "            if task == 'both_seg':\n",
    "                I = np.uint8(img[j].numpy()*255.)\n",
    "                M = np.uint8(mask[j].numpy()*255.) \n",
    "                M_pred = np.uint8((y_pred[j].numpy() > 0.5) *255.)\n",
    "                \n",
    "                # overlay nucleus segmentation\n",
    "                I = overlay_mask(I, M[:,:,nuc_idx], M_pred[:,:,nuc_idx], \n",
    "                                 true_color=(255,255,0), pred_color=(0,255,255))\n",
    "                # overlay cell segmentation\n",
    "                I = overlay_mask(I, M[:,:,cell_idx], M_pred[:,:,cell_idx], \n",
    "                                 true_color=(0,255,0), pred_color=(255,0,255))\n",
    "                \n",
    "            else:\n",
    "                I = overlay_mask(img[j,:,:,0], mask[j,:,:,0], y_pred[j,:,:,0])\n",
    "            \n",
    "            fname = os.path.join(result_folder, '{}_{}.png'.format(i,j))\n",
    "            cv2.imwrite(fname, cv2.cvtColor(I, cv2.COLOR_RGB2BGR))\n",
    "            \n",
    "#             plt.subplot(2,2,j+1)\n",
    "#             plt.imshow(I)\n",
    "            \n",
    "    if i > max(idx_to_plot):\n",
    "        break"
   ]
  },
  {
   "cell_type": "code",
   "execution_count": null,
   "metadata": {},
   "outputs": [],
   "source": [
    "plt.figure(figsize=(12, 16))\n",
    "for img, mask in val_ds.shuffle(num_val_data).take(1):\n",
    "    idx = 0\n",
    "    y_pred = model(img)\n",
    "    \n",
    "    plt.subplot(1,3,1)\n",
    "    plt.imshow(img[idx])\n",
    "    \n",
    "    plt.subplot(1,3,2)\n",
    "    plt.imshow(mask[idx])\n",
    "    \n",
    "    plt.subplot(1,3,3)\n",
    "    plt.imshow(y_pred[idx])\n",
    "    \n",
    "    print(mask[idx].numpy().sum(axis=(0,1)))\n",
    "    print(mask[idx].numpy().sum())\n",
    "    print(y_pred[idx].numpy().sum(axis=(0,1)))"
   ]
  },
  {
   "cell_type": "code",
   "execution_count": null,
   "metadata": {},
   "outputs": [],
   "source": [
    "for img, mask in val_ds.shuffle(num_val_data).take(1):\n",
    "    idx = 0\n",
    "    y_pred = model(img)\n",
    "    N = tf.reduce_sum(mask, axis=(1,2))\n",
    "    W = tf.expand_dims(1 / N, axis=1)\n",
    "    W = tf.expand_dims(W, axis=2)\n",
    "    weight = mask * W / mask.shape[-1]\n",
    "    print(tf.reduce_sum(weight, axis=(1,2,3)))\n",
    "#     plt.imshow(weight[0] / weight[0].numpy().max())\n",
    "#     print(tf.unique(tf.reshape(weight[0], [-1])))"
   ]
  },
  {
   "cell_type": "code",
   "execution_count": null,
   "metadata": {},
   "outputs": [],
   "source": [
    "\n",
    "\n",
    "\n",
    "\n",
    "\n",
    "\n",
    "\n",
    "\n",
    "\n",
    "\n",
    "\n",
    "\n",
    "\n",
    "\n",
    "\n",
    "\n",
    "\n",
    "\n",
    "\n",
    "\n",
    "\n",
    "\n",
    "\n",
    "\n",
    "\n",
    "\n",
    "\n",
    "\n"
   ]
  }
 ],
 "metadata": {
  "kernelspec": {
   "display_name": "Python 3",
   "language": "python",
   "name": "python3"
  },
  "language_info": {
   "codemirror_mode": {
    "name": "ipython",
    "version": 3
   },
   "file_extension": ".py",
   "mimetype": "text/x-python",
   "name": "python",
   "nbconvert_exporter": "python",
   "pygments_lexer": "ipython3",
   "version": "3.6.8"
  }
 },
 "nbformat": 4,
 "nbformat_minor": 2
}
