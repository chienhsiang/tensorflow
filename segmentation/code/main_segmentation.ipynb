{
 "cells": [
  {
   "cell_type": "code",
   "execution_count": 1,
   "metadata": {},
   "outputs": [],
   "source": [
    "import os\n",
    "import glob\n",
    "import re\n",
    "import functools\n",
    "from sklearn.model_selection import train_test_split\n",
    "import numpy as np\n",
    "import pandas as pd\n",
    "import datetime\n",
    "\n",
    "import matplotlib.pyplot as plt\n",
    "import cv2\n",
    "\n",
    "import data_io\n",
    "import u_net"
   ]
  },
  {
   "cell_type": "code",
   "execution_count": 2,
   "metadata": {},
   "outputs": [
    {
     "data": {
      "text/plain": [
       "'2.0.0-alpha0'"
      ]
     },
     "execution_count": 2,
     "metadata": {},
     "output_type": "execute_result"
    }
   ],
   "source": [
    "import tensorflow as tf\n",
    "from tensorflow.keras import models, layers, losses\n",
    "\n",
    "os.environ['CUDA_VISIBLE_DEVICES'] = '1'\n",
    "\n",
    "tf.__version__"
   ]
  },
  {
   "cell_type": "markdown",
   "metadata": {},
   "source": [
    "# Set up"
   ]
  },
  {
   "cell_type": "code",
   "execution_count": 3,
   "metadata": {},
   "outputs": [],
   "source": [
    "common_root = r'/awlab/users/chsu/WorkSpace/tensorflow/segmentation/data/plate_2017017086_ki67'\n",
    "# common_root = r'/awlab/users/chsu/WorkSpace/tensorflow/segmentation/data/p2017017086_ki67_merge'\n",
    "\n",
    "img_dir = os.path.join(common_root, 'images')\n",
    "mask_dir = os.path.join(common_root, 'masks')\n",
    "\n",
    "batch_size = 5\n",
    "task = 'nuc_seg'"
   ]
  },
  {
   "cell_type": "code",
   "execution_count": 4,
   "metadata": {},
   "outputs": [
    {
     "name": "stdout",
     "output_type": "stream",
     "text": [
      "Number of training samples: 345\n",
      "Number of validation samples: 87\n"
     ]
    }
   ],
   "source": [
    "if task == 'nuc_seg':\n",
    "    x_train_fnames = sorted(glob.glob(os.path.join(img_dir,'*-2.png'))) # nucleus images\n",
    "    y_train_fnames = sorted(glob.glob(os.path.join(mask_dir,'*_nucleus.png'))) # nucleus masks     \n",
    "\n",
    "elif task == 'cell_seg':\n",
    "    x_train_fnames = sorted(glob.glob(os.path.join(img_dir,'*-3.png'))) # cell images\n",
    "    y_train_fnames = sorted(glob.glob(os.path.join(mask_dir,'*_cell.png'))) # cell masks\n",
    "    \n",
    "elif task == 'both_seg':\n",
    "    x_train_fnames = sorted(glob.glob(os.path.join(img_dir,'*.png'))) # merged images\n",
    "    y_train_fnames = sorted(glob.glob(os.path.join(mask_dir,'*.png'))) # merged masks, green: nucleus, red: cell\n",
    "    \n",
    "else:\n",
    "    raise ValueError('Unknown task.')\n",
    "\n",
    "# Remove column 2\n",
    "pattern = re.compile('_[A-Z]2_')\n",
    "x_train_fnames = [f for f in x_train_fnames if not pattern.search(f)]\n",
    "y_train_fnames = [f for f in y_train_fnames if not pattern.search(f)]\n",
    "\n",
    "# idx = np.random.choice(len(x_train_fnames))\n",
    "# print(x_train_fnames[idx])\n",
    "# print(y_train_fnames[idx])\n",
    "\n",
    "# Split into training and validation\n",
    "x_train_fnames, x_val_fnames, y_train_fnames, y_val_fnames = \\\n",
    "    train_test_split(x_train_fnames, y_train_fnames, test_size=0.2, random_state=43)\n",
    "\n",
    "num_train_data = len(x_train_fnames)\n",
    "num_val_data = len(x_val_fnames)\n",
    "\n",
    "print(\"Number of training samples: {}\".format(num_train_data))\n",
    "print(\"Number of validation samples: {}\".format(num_val_data))"
   ]
  },
  {
   "cell_type": "code",
   "execution_count": null,
   "metadata": {},
   "outputs": [],
   "source": [
    "idx = np.random.choice(num_val_data)\n",
    "print(os.path.basename(x_val_fnames[idx]))\n",
    "print(os.path.basename(y_val_fnames[idx]))"
   ]
  },
  {
   "cell_type": "markdown",
   "metadata": {},
   "source": [
    "# Test the input pipeline"
   ]
  },
  {
   "cell_type": "markdown",
   "metadata": {},
   "source": [
    "### Get image and mask from path names"
   ]
  },
  {
   "cell_type": "code",
   "execution_count": null,
   "metadata": {},
   "outputs": [],
   "source": [
    "idx = np.random.choice(num_train_data)\n",
    "img, mask = data_io._get_image_from_path(x_train_fnames[idx], y_train_fnames[idx], \n",
    "                                         max_level=4095., channels=1)\n",
    "\n",
    "print('Image shape: {}'.format(img.shape))\n",
    "print('Mask shape : {}'.format(mask.shape))\n",
    "\n",
    "# single channel\n",
    "plt.figure(figsize=(12,16))\n",
    "plt.subplot(1,2,1)\n",
    "plt.imshow(img[:,:,0], cmap='gray')\n",
    "plt.subplot(1,2,2)\n",
    "plt.imshow(mask[:,:,0])\n",
    "\n",
    "# color\n",
    "# plt.figure(figsize=(12,16))\n",
    "# plt.subplot(1,2,1)\n",
    "# plt.imshow(img, cmap='gray')\n",
    "# plt.subplot(1,2,2)\n",
    "# plt.imshow(mask)"
   ]
  },
  {
   "cell_type": "code",
   "execution_count": null,
   "metadata": {},
   "outputs": [],
   "source": [
    "print(np.unique(mask))\n",
    "\n",
    "print(img.shape)\n",
    "print(img.dtype)\n",
    "print(mask.shape)\n",
    "print(img.numpy().max())"
   ]
  },
  {
   "cell_type": "markdown",
   "metadata": {},
   "source": [
    "### Test the input pipeline"
   ]
  },
  {
   "cell_type": "code",
   "execution_count": null,
   "metadata": {},
   "outputs": [],
   "source": [
    "import importlib\n",
    "importlib.reload(data_io)\n",
    "importlib.reload(u_net)"
   ]
  },
  {
   "cell_type": "code",
   "execution_count": null,
   "metadata": {},
   "outputs": [],
   "source": [
    "read_img_fn = functools.partial(data_io._get_image_from_path, max_level=4095., channels=1)\n",
    "tmp_ds = data_io.get_dataset(x_train_fnames, y_train_fnames, read_img_fn=read_img_fn)"
   ]
  },
  {
   "cell_type": "code",
   "execution_count": null,
   "metadata": {},
   "outputs": [],
   "source": [
    "plt.figure(figsize=(12,16))\n",
    "for i, (img, mask) in enumerate(tmp_ds.shuffle(num_train_data).take(3)):\n",
    "    print(img.numpy().max())\n",
    "    print(mask.numpy().max())\n",
    "    plt.subplot(3,2,2*i+1)\n",
    "    plt.imshow(img[0,:,:,0]/255.)\n",
    "    plt.subplot(3,2,2*i+2)\n",
    "    plt.imshow(mask[0,:,:,0]/255.)\n",
    "plt.show()"
   ]
  },
  {
   "cell_type": "markdown",
   "metadata": {},
   "source": [
    "# Configure training and validation datasets"
   ]
  },
  {
   "cell_type": "code",
   "execution_count": 5,
   "metadata": {},
   "outputs": [],
   "source": [
    "read_img_fn = functools.partial(data_io._get_image_from_path, max_level=4095., channels=1)\n",
    "\n",
    "# training data\n",
    "train_cfg = {\n",
    "    'resize': None, \n",
    "    'scale': 1/255.,\n",
    "    'crop_size': [512, 512],\n",
    "    'to_flip': True\n",
    "}\n",
    "tr_preproc_fn = functools.partial(data_io._augment, **train_cfg)\n",
    "\n",
    "# validation data\n",
    "val_cfg = {\n",
    "    'resize': None, \n",
    "    'scale': 1/255.,\n",
    "    'crop_size': [512, 512]\n",
    "}\n",
    "val_preproc_fn = functools.partial(data_io._augment, **val_cfg)\n",
    "\n",
    "train_ds = data_io.get_dataset(x_train_fnames, y_train_fnames, read_img_fn=read_img_fn,\n",
    "                               preproc_fn=tr_preproc_fn, shuffle=True, batch_size=batch_size)\n",
    "val_ds = data_io.get_dataset(x_val_fnames, y_val_fnames, read_img_fn=read_img_fn, \n",
    "                             preproc_fn=val_preproc_fn, shuffle=False, batch_size=batch_size)"
   ]
  },
  {
   "cell_type": "code",
   "execution_count": null,
   "metadata": {},
   "outputs": [],
   "source": [
    "plt.figure(figsize=(12,16))\n",
    "for i, (img, mask) in enumerate(val_ds.take(3)):\n",
    "\n",
    "    plt.subplot(3,3,3*i+1)\n",
    "    plt.imshow(img[0,:,:,0])\n",
    "    \n",
    "    plt.subplot(3,3,3*i+2)\n",
    "    plt.imshow(mask[0,:,:,0])\n",
    "    \n",
    "#     plt.subplot(3,3,3*i+3)\n",
    "#     plt.imshow(mask[0,:,:,1])"
   ]
  },
  {
   "cell_type": "markdown",
   "metadata": {},
   "source": [
    "# Customized loss"
   ]
  },
  {
   "cell_type": "code",
   "execution_count": null,
   "metadata": {},
   "outputs": [],
   "source": [
    "import importlib\n",
    "importlib.reload(u_net)\n",
    "importlib.reload(data_io)"
   ]
  },
  {
   "cell_type": "code",
   "execution_count": null,
   "metadata": {},
   "outputs": [],
   "source": [
    "val_ds"
   ]
  },
  {
   "cell_type": "code",
   "execution_count": 6,
   "metadata": {},
   "outputs": [
    {
     "name": "stdout",
     "output_type": "stream",
     "text": [
      "<dtype: 'float32'>\n"
     ]
    },
    {
     "name": "stderr",
     "output_type": "stream",
     "text": [
      "WARNING: Logging before flag parsing goes to stderr.\n",
      "W0416 07:37:16.294933 140231450072832 image.py:656] Clipping input data to the valid range for imshow with RGB data ([0..1] for floats or [0..255] for integers).\n"
     ]
    },
    {
     "name": "stdout",
     "output_type": "stream",
     "text": [
      "(1.0, 190.2064)\n",
      "(0.0, 5.8620186)\n"
     ]
    },
    {
     "data": {
      "image/png": "[encoded data removed]",
      "text/plain": [
       "<Figure size 864x1152 with 1 Axes>"
      ]
     },
     "metadata": {
      "needs_background": "light"
     },
     "output_type": "display_data"
    }
   ],
   "source": [
    "for (img, mask) in val_ds.shuffle(30).take(1):\n",
    "    print(mask.dtype)\n",
    "#     L = u_net.weighted_loss(mask, mask)\n",
    "    M = mask[0,:,:,0]\n",
    "    wc = u_net.balancing_weight_tf(M)\n",
    "    dw = u_net.distance_weight(M.numpy(), w0=100, sigma=5.0)\n",
    "    \n",
    "    \n",
    "    plt.figure(figsize=(12,16))\n",
    "    b = np.zeros_like(M)\n",
    "    plt.imshow(np.dstack([dw, M, b]))\n",
    "#     plt.imshow(dw)\n",
    "    \n",
    "#     plt.subplot(1,3,1)\n",
    "#     plt.imshow(img[0,:,:,0])\n",
    "\n",
    "#     plt.subplot(1,3,2)\n",
    "#     plt.imshow(M)\n",
    "\n",
    "#     plt.subplot(1,3,3)\n",
    "#     plt.imshow(dw)\n",
    "    \n",
    "#     print(L.shape)\n",
    "    print((wc.numpy().min(), wc.numpy().max()))\n",
    "    print((dw.min(), dw.max()))\n",
    "    \n",
    "#     plt.figure(figsize=(12,16))\n",
    "    \n",
    "#     for i, w in enumerate(L):\n",
    "#         if i>2:\n",
    "#             break\n",
    "            \n",
    "#         plt.subplot(3,3,3*i+1)\n",
    "#         plt.imshow(img[i,:,:,0])\n",
    "\n",
    "#         plt.subplot(3,3,3*i+2)\n",
    "#         plt.imshow(mask[i,:,:,0])\n",
    "\n",
    "#         plt.subplot(3,3,3*i+3)\n",
    "#         plt.imshow(w)\n",
    "#         print((w.numpy().min(), w.numpy().max()))\n",
    "        \n"
   ]
  },
  {
   "cell_type": "markdown",
   "metadata": {},
   "source": [
    "# Build the model"
   ]
  },
  {
   "cell_type": "code",
   "execution_count": 7,
   "metadata": {},
   "outputs": [],
   "source": [
    "num_filters_list = [32, 64, 128, 256, 512]\n",
    "model = u_net.Unet(num_filters_list, dynamic=True)\n",
    "\n",
    "loss_fn = lambda x, y: u_net.weighted_loss(x, y, w0=100, sigma=5.0)\n",
    "model.compile(optimizer='adam', loss=loss_fn, metrics=[u_net.dice_loss])\n",
    "\n",
    "# plt.figure(figsize=(12,16))\n",
    "# for i, (img, mask) in enumerate(train_ds.take(1)):\n",
    "#     y_pred = model(img)\n",
    "    \n",
    "#     plt.subplot(1,3,1)\n",
    "#     plt.imshow(img[0,:,:,0])\n",
    "#     plt.subplot(1,3,2)\n",
    "#     plt.imshow(mask[0,:,:,0])\n",
    "#     plt.subplot(1,3,3)\n",
    "#     plt.imshow(y_pred[0,:,:,0])\n",
    "# plt.show()"
   ]
  },
  {
   "cell_type": "markdown",
   "metadata": {},
   "source": [
    "## Train the model"
   ]
  },
  {
   "cell_type": "code",
   "execution_count": 8,
   "metadata": {},
   "outputs": [],
   "source": [
    "model_tag = 'nucleus_weighted_bce2'\n",
    "timestamp = '{}'.format(datetime.datetime.now()).split('.')[0].replace(':','_').replace(' ','_')\n",
    "root_path = r'/awlab/users/chsu/WorkSpace/tensorflow/segmentation'\n",
    "foler_name = model_tag + timestamp\n",
    "\n",
    "# model weights\n",
    "weights_path = os.path.join(root_path, 'models', foler_name, 'weights-{epoch:04d}.ckpt')\n",
    "weights_dir = os.path.dirname(weights_path)\n",
    "if not os.path.isdir(weights_dir):\n",
    "    os.makedirs(weights_dir, exist_ok=True)\n",
    "cp = tf.keras.callbacks.ModelCheckpoint(filepath=weights_path, monitor='val_dice_loss', \n",
    "                                        save_best_only=True, save_weights_only=True, verbose=1)\n",
    "# tensorboard\n",
    "log_dir = os.path.join(root_path, 'logs', foler_name)\n",
    "if not os.path.isdir(log_dir):\n",
    "    os.makedirs(log_dir, exist_ok=True)\n",
    "tb = tf.keras.callbacks.TensorBoard(log_dir=log_dir)"
   ]
  },
  {
   "cell_type": "code",
   "execution_count": 9,
   "metadata": {},
   "outputs": [
    {
     "name": "stderr",
     "output_type": "stream",
     "text": [
      "W0416 07:38:04.685550 140231450072832 callbacks.py:1218] TensorBoard Callback will ignore `write_graph=True`when `Model.run_eagerly=True`.`\n"
     ]
    },
    {
     "name": "stdout",
     "output_type": "stream",
     "text": [
      "Epoch 1/50\n",
      "68/69 [============================>.] - ETA: 3s - loss: 0.4848 - dice_loss: 0.7956\n",
      "Epoch 00001: val_dice_loss improved from inf to 0.92304, saving model to /awlab/users/chsu/WorkSpace/tensorflow/segmentation/models/nucleus_weighted_bce22019-04-16_07_38_00/weights-0001.ckpt\n",
      "69/69 [==============================] - 330s 5s/step - loss: 0.4821 - dice_loss: 0.7935 - val_loss: 1.6477 - val_dice_loss: 0.9230\n",
      "Epoch 2/50\n",
      "68/69 [============================>.] - ETA: 3s - loss: 0.2180 - dice_loss: 0.5943\n",
      "Epoch 00002: val_dice_loss improved from 0.92304 to 0.91871, saving model to /awlab/users/chsu/WorkSpace/tensorflow/segmentation/models/nucleus_weighted_bce22019-04-16_07_38_00/weights-0002.ckpt\n",
      "69/69 [==============================] - 315s 5s/step - loss: 0.2175 - dice_loss: 0.5935 - val_loss: 1.9825 - val_dice_loss: 0.9187\n",
      "Epoch 3/50\n",
      "68/69 [============================>.] - ETA: 3s - loss: 0.1556 - dice_loss: 0.4772\n",
      "Epoch 00003: val_dice_loss improved from 0.91871 to 0.83858, saving model to /awlab/users/chsu/WorkSpace/tensorflow/segmentation/models/nucleus_weighted_bce22019-04-16_07_38_00/weights-0003.ckpt\n",
      "69/69 [==============================] - 314s 5s/step - loss: 0.1554 - dice_loss: 0.4766 - val_loss: 1.8819 - val_dice_loss: 0.8386\n",
      "Epoch 4/50\n",
      "68/69 [============================>.] - ETA: 3s - loss: 0.1298 - dice_loss: 0.3814\n",
      "Epoch 00004: val_dice_loss improved from 0.83858 to 0.65503, saving model to /awlab/users/chsu/WorkSpace/tensorflow/segmentation/models/nucleus_weighted_bce22019-04-16_07_38_00/weights-0004.ckpt\n",
      "69/69 [==============================] - 320s 5s/step - loss: 0.1295 - dice_loss: 0.3810 - val_loss: 1.5810 - val_dice_loss: 0.6550\n",
      "Epoch 5/50\n",
      "68/69 [============================>.] - ETA: 3s - loss: 0.1122 - dice_loss: 0.3123\n",
      "Epoch 00005: val_dice_loss improved from 0.65503 to 0.44428, saving model to /awlab/users/chsu/WorkSpace/tensorflow/segmentation/models/nucleus_weighted_bce22019-04-16_07_38_00/weights-0005.ckpt\n",
      "69/69 [==============================] - 321s 5s/step - loss: 0.1122 - dice_loss: 0.3119 - val_loss: 0.6953 - val_dice_loss: 0.4443\n",
      "Epoch 6/50\n",
      "68/69 [============================>.] - ETA: 3s - loss: 0.1087 - dice_loss: 0.2749\n",
      "Epoch 00006: val_dice_loss improved from 0.44428 to 0.36757, saving model to /awlab/users/chsu/WorkSpace/tensorflow/segmentation/models/nucleus_weighted_bce22019-04-16_07_38_00/weights-0006.ckpt\n",
      "69/69 [==============================] - 315s 5s/step - loss: 0.1087 - dice_loss: 0.2742 - val_loss: 0.5116 - val_dice_loss: 0.3676\n",
      "Epoch 7/50\n",
      "68/69 [============================>.] - ETA: 3s - loss: 0.0924 - dice_loss: 0.2087\n",
      "Epoch 00007: val_dice_loss improved from 0.36757 to 0.30146, saving model to /awlab/users/chsu/WorkSpace/tensorflow/segmentation/models/nucleus_weighted_bce22019-04-16_07_38_00/weights-0007.ckpt\n",
      "69/69 [==============================] - 317s 5s/step - loss: 0.0927 - dice_loss: 0.2088 - val_loss: 0.1791 - val_dice_loss: 0.3015\n",
      "Epoch 8/50\n",
      "68/69 [============================>.] - ETA: 3s - loss: 0.0861 - dice_loss: 0.1797\n",
      "Epoch 00008: val_dice_loss improved from 0.30146 to 0.19698, saving model to /awlab/users/chsu/WorkSpace/tensorflow/segmentation/models/nucleus_weighted_bce22019-04-16_07_38_00/weights-0008.ckpt\n",
      "69/69 [==============================] - 314s 5s/step - loss: 0.0861 - dice_loss: 0.1797 - val_loss: 0.1321 - val_dice_loss: 0.1970\n",
      "Epoch 9/50\n",
      "68/69 [============================>.] - ETA: 3s - loss: 0.0875 - dice_loss: 0.1692\n",
      "Epoch 00009: val_dice_loss did not improve from 0.19698\n",
      "69/69 [==============================] - 307s 4s/step - loss: 0.0878 - dice_loss: 0.1693 - val_loss: 0.0982 - val_dice_loss: 0.2057\n",
      "Epoch 10/50\n",
      "68/69 [============================>.] - ETA: 3s - loss: 0.0838 - dice_loss: 0.1641\n",
      "Epoch 00010: val_dice_loss improved from 0.19698 to 0.16685, saving model to /awlab/users/chsu/WorkSpace/tensorflow/segmentation/models/nucleus_weighted_bce22019-04-16_07_38_00/weights-0010.ckpt\n",
      "69/69 [==============================] - 319s 5s/step - loss: 0.0841 - dice_loss: 0.1638 - val_loss: 0.1207 - val_dice_loss: 0.1669\n",
      "Epoch 11/50\n",
      "68/69 [============================>.] - ETA: 3s - loss: 0.0826 - dice_loss: 0.1553\n",
      "Epoch 00011: val_dice_loss improved from 0.16685 to 0.12920, saving model to /awlab/users/chsu/WorkSpace/tensorflow/segmentation/models/nucleus_weighted_bce22019-04-16_07_38_00/weights-0011.ckpt\n",
      "69/69 [==============================] - 309s 4s/step - loss: 0.0829 - dice_loss: 0.1551 - val_loss: 0.1055 - val_dice_loss: 0.1292\n",
      "Epoch 12/50\n",
      "68/69 [============================>.] - ETA: 3s - loss: 0.0818 - dice_loss: 0.1395\n",
      "Epoch 00012: val_dice_loss did not improve from 0.12920\n",
      "69/69 [==============================] - 310s 4s/step - loss: 0.0821 - dice_loss: 0.1394 - val_loss: 0.0895 - val_dice_loss: 0.1365\n",
      "Epoch 13/50\n",
      "68/69 [============================>.] - ETA: 3s - loss: 0.0770 - dice_loss: 0.1252\n",
      "Epoch 00013: val_dice_loss did not improve from 0.12920\n",
      "69/69 [==============================] - 299s 4s/step - loss: 0.0769 - dice_loss: 0.1253 - val_loss: 0.1009 - val_dice_loss: 0.1927\n",
      "Epoch 14/50\n",
      "68/69 [============================>.] - ETA: 3s - loss: 0.0779 - dice_loss: 0.1243\n",
      "Epoch 00014: val_dice_loss did not improve from 0.12920\n",
      "69/69 [==============================] - 315s 5s/step - loss: 0.0782 - dice_loss: 0.1242 - val_loss: 0.1856 - val_dice_loss: 0.4961\n",
      "Epoch 15/50\n",
      "68/69 [============================>.] - ETA: 3s - loss: 0.0766 - dice_loss: 0.1181\n",
      "Epoch 00015: val_dice_loss did not improve from 0.12920\n",
      "69/69 [==============================] - 310s 4s/step - loss: 0.0767 - dice_loss: 0.1182 - val_loss: 0.2327 - val_dice_loss: 0.5257\n",
      "Epoch 16/50\n",
      "68/69 [============================>.] - ETA: 3s - loss: 0.0764 - dice_loss: 0.1174\n",
      "Epoch 00016: val_dice_loss did not improve from 0.12920\n",
      "69/69 [==============================] - 308s 4s/step - loss: 0.0768 - dice_loss: 0.1173 - val_loss: 0.1073 - val_dice_loss: 0.1904\n",
      "Epoch 17/50\n",
      "68/69 [============================>.] - ETA: 3s - loss: 0.0772 - dice_loss: 0.1247\n",
      "Epoch 00017: val_dice_loss improved from 0.12920 to 0.11734, saving model to /awlab/users/chsu/WorkSpace/tensorflow/segmentation/models/nucleus_weighted_bce22019-04-16_07_38_00/weights-0017.ckpt\n",
      "69/69 [==============================] - 313s 5s/step - loss: 0.0770 - dice_loss: 0.1243 - val_loss: 0.0760 - val_dice_loss: 0.1173\n",
      "Epoch 18/50\n",
      "68/69 [============================>.] - ETA: 3s - loss: 0.0747 - dice_loss: 0.1091\n",
      "Epoch 00018: val_dice_loss improved from 0.11734 to 0.08116, saving model to /awlab/users/chsu/WorkSpace/tensorflow/segmentation/models/nucleus_weighted_bce22019-04-16_07_38_00/weights-0018.ckpt\n",
      "69/69 [==============================] - 308s 4s/step - loss: 0.0749 - dice_loss: 0.1092 - val_loss: 0.0934 - val_dice_loss: 0.0812\n",
      "Epoch 19/50\n",
      "68/69 [============================>.] - ETA: 3s - loss: 0.0735 - dice_loss: 0.1049\n",
      "Epoch 00019: val_dice_loss did not improve from 0.08116\n",
      "69/69 [==============================] - 306s 4s/step - loss: 0.0732 - dice_loss: 0.1049 - val_loss: 0.0676 - val_dice_loss: 0.0941\n",
      "Epoch 20/50\n",
      "68/69 [============================>.] - ETA: 3s - loss: 0.0832 - dice_loss: 0.1148\n",
      "Epoch 00020: val_dice_loss did not improve from 0.08116\n",
      "69/69 [==============================] - 309s 4s/step - loss: 0.0830 - dice_loss: 0.1151 - val_loss: 0.1455 - val_dice_loss: 0.1252\n",
      "Epoch 21/50\n",
      "68/69 [============================>.] - ETA: 3s - loss: 0.0789 - dice_loss: 0.1073\n",
      "Epoch 00021: val_dice_loss did not improve from 0.08116\n",
      "69/69 [==============================] - 314s 5s/step - loss: 0.0784 - dice_loss: 0.1074 - val_loss: 0.0924 - val_dice_loss: 0.0907\n",
      "Epoch 22/50\n",
      "68/69 [============================>.] - ETA: 3s - loss: 0.0737 - dice_loss: 0.1119\n",
      "Epoch 00022: val_dice_loss did not improve from 0.08116\n",
      "69/69 [==============================] - 312s 5s/step - loss: 0.0737 - dice_loss: 0.1117 - val_loss: 0.0783 - val_dice_loss: 0.1143\n",
      "Epoch 23/50\n",
      "68/69 [============================>.] - ETA: 3s - loss: 0.0729 - dice_loss: 0.0975\n",
      "Epoch 00023: val_dice_loss did not improve from 0.08116\n",
      "69/69 [==============================] - 314s 5s/step - loss: 0.0727 - dice_loss: 0.0975 - val_loss: 0.1724 - val_dice_loss: 0.4600\n",
      "Epoch 24/50\n"
     ]
    },
    {
     "name": "stdout",
     "output_type": "stream",
     "text": [
      "68/69 [============================>.] - ETA: 3s - loss: 0.0706 - dice_loss: 0.0968\n",
      "Epoch 00024: val_dice_loss did not improve from 0.08116\n",
      "69/69 [==============================] - 312s 5s/step - loss: 0.0706 - dice_loss: 0.0968 - val_loss: 0.2960 - val_dice_loss: 0.7043\n",
      "Epoch 25/50\n",
      "68/69 [============================>.] - ETA: 3s - loss: 0.0729 - dice_loss: 0.0991\n",
      "Epoch 00025: val_dice_loss did not improve from 0.08116\n",
      "69/69 [==============================] - 310s 4s/step - loss: 0.0728 - dice_loss: 0.0991 - val_loss: 0.1284 - val_dice_loss: 0.3816\n",
      "Epoch 26/50\n",
      "68/69 [============================>.] - ETA: 3s - loss: 0.0721 - dice_loss: 0.1021\n",
      "Epoch 00026: val_dice_loss did not improve from 0.08116\n",
      "69/69 [==============================] - 320s 5s/step - loss: 0.0723 - dice_loss: 0.1020 - val_loss: 0.0936 - val_dice_loss: 0.1220\n",
      "Epoch 27/50\n",
      "68/69 [============================>.] - ETA: 3s - loss: 0.0730 - dice_loss: 0.0953\n",
      "Epoch 00027: val_dice_loss did not improve from 0.08116\n",
      "69/69 [==============================] - 319s 5s/step - loss: 0.0731 - dice_loss: 0.0953 - val_loss: 0.0755 - val_dice_loss: 0.1406\n",
      "Epoch 28/50\n",
      "68/69 [============================>.] - ETA: 3s - loss: 0.0711 - dice_loss: 0.0979\n",
      "Epoch 00028: val_dice_loss did not improve from 0.08116\n",
      "69/69 [==============================] - 304s 4s/step - loss: 0.0717 - dice_loss: 0.0978 - val_loss: 0.0757 - val_dice_loss: 0.1147\n",
      "Epoch 29/50\n",
      "68/69 [============================>.] - ETA: 3s - loss: 0.0725 - dice_loss: 0.0989\n",
      "Epoch 00029: val_dice_loss did not improve from 0.08116\n",
      "69/69 [==============================] - 318s 5s/step - loss: 0.0725 - dice_loss: 0.0989 - val_loss: 0.0796 - val_dice_loss: 0.1161\n",
      "Epoch 30/50\n",
      "68/69 [============================>.] - ETA: 3s - loss: 0.0689 - dice_loss: 0.0943\n",
      "Epoch 00030: val_dice_loss did not improve from 0.08116\n",
      "69/69 [==============================] - 315s 5s/step - loss: 0.0689 - dice_loss: 0.0942 - val_loss: 0.1263 - val_dice_loss: 0.1610\n",
      "Epoch 31/50\n",
      "68/69 [============================>.] - ETA: 3s - loss: 0.0741 - dice_loss: 0.0996\n",
      "Epoch 00031: val_dice_loss did not improve from 0.08116\n",
      "69/69 [==============================] - 307s 4s/step - loss: 0.0743 - dice_loss: 0.0996 - val_loss: 0.1427 - val_dice_loss: 0.1074\n",
      "Epoch 32/50\n",
      "68/69 [============================>.] - ETA: 3s - loss: 0.0711 - dice_loss: 0.0938\n",
      "Epoch 00032: val_dice_loss improved from 0.08116 to 0.07685, saving model to /awlab/users/chsu/WorkSpace/tensorflow/segmentation/models/nucleus_weighted_bce22019-04-16_07_38_00/weights-0032.ckpt\n",
      "69/69 [==============================] - 322s 5s/step - loss: 0.0715 - dice_loss: 0.0937 - val_loss: 0.1225 - val_dice_loss: 0.0769\n",
      "Epoch 33/50\n",
      "68/69 [============================>.] - ETA: 3s - loss: 0.0694 - dice_loss: 0.0935\n",
      "Epoch 00033: val_dice_loss did not improve from 0.07685\n",
      "69/69 [==============================] - 307s 4s/step - loss: 0.0690 - dice_loss: 0.0935 - val_loss: 0.0905 - val_dice_loss: 0.1048\n",
      "Epoch 34/50\n",
      "68/69 [============================>.] - ETA: 3s - loss: 0.0716 - dice_loss: 0.0892\n",
      "Epoch 00034: val_dice_loss did not improve from 0.07685\n",
      "69/69 [==============================] - 311s 5s/step - loss: 0.0716 - dice_loss: 0.0893 - val_loss: 0.0756 - val_dice_loss: 0.1268\n",
      "Epoch 35/50\n",
      "68/69 [============================>.] - ETA: 3s - loss: 0.0726 - dice_loss: 0.0935\n",
      "Epoch 00035: val_dice_loss did not improve from 0.07685\n",
      "69/69 [==============================] - 315s 5s/step - loss: 0.0722 - dice_loss: 0.0934 - val_loss: 0.0740 - val_dice_loss: 0.0887\n",
      "Epoch 36/50\n",
      "68/69 [============================>.] - ETA: 3s - loss: 0.0708 - dice_loss: 0.0851\n",
      "Epoch 00036: val_dice_loss did not improve from 0.07685\n",
      "69/69 [==============================] - 314s 5s/step - loss: 0.0709 - dice_loss: 0.0852 - val_loss: 0.0763 - val_dice_loss: 0.1138\n",
      "Epoch 37/50\n",
      "68/69 [============================>.] - ETA: 3s - loss: 0.0692 - dice_loss: 0.0943\n",
      "Epoch 00037: val_dice_loss did not improve from 0.07685\n",
      "69/69 [==============================] - 309s 4s/step - loss: 0.0694 - dice_loss: 0.0942 - val_loss: 0.1109 - val_dice_loss: 0.1284\n",
      "Epoch 38/50\n",
      "68/69 [============================>.] - ETA: 3s - loss: 0.0691 - dice_loss: 0.0957\n",
      "Epoch 00038: val_dice_loss did not improve from 0.07685\n",
      "69/69 [==============================] - 316s 5s/step - loss: 0.0693 - dice_loss: 0.0954 - val_loss: 0.0685 - val_dice_loss: 0.0901\n",
      "Epoch 39/50\n",
      "68/69 [============================>.] - ETA: 3s - loss: 0.0717 - dice_loss: 0.0882\n",
      "Epoch 00039: val_dice_loss did not improve from 0.07685\n",
      "69/69 [==============================] - 313s 5s/step - loss: 0.0717 - dice_loss: 0.0883 - val_loss: 0.0855 - val_dice_loss: 0.1244\n",
      "Epoch 40/50\n",
      "68/69 [============================>.] - ETA: 3s - loss: 0.0755 - dice_loss: 0.0970\n",
      "Epoch 00040: val_dice_loss did not improve from 0.07685\n",
      "69/69 [==============================] - 313s 5s/step - loss: 0.0758 - dice_loss: 0.0970 - val_loss: 0.0926 - val_dice_loss: 0.1411\n",
      "Epoch 41/50\n",
      "68/69 [============================>.] - ETA: 3s - loss: 0.0719 - dice_loss: 0.0924\n",
      "Epoch 00041: val_dice_loss did not improve from 0.07685\n",
      "69/69 [==============================] - 307s 4s/step - loss: 0.0713 - dice_loss: 0.0923 - val_loss: 0.1046 - val_dice_loss: 0.1332\n",
      "Epoch 42/50\n",
      "68/69 [============================>.] - ETA: 3s - loss: 0.0682 - dice_loss: 0.0856\n",
      "Epoch 00042: val_dice_loss did not improve from 0.07685\n",
      "69/69 [==============================] - 312s 5s/step - loss: 0.0680 - dice_loss: 0.0856 - val_loss: 0.0661 - val_dice_loss: 0.0911\n",
      "Epoch 43/50\n",
      "68/69 [============================>.] - ETA: 3s - loss: 0.0676 - dice_loss: 0.0918\n",
      "Epoch 00043: val_dice_loss did not improve from 0.07685\n",
      "69/69 [==============================] - 309s 4s/step - loss: 0.0672 - dice_loss: 0.0917 - val_loss: 0.0626 - val_dice_loss: 0.0915\n",
      "Epoch 44/50\n",
      "68/69 [============================>.] - ETA: 3s - loss: 0.0682 - dice_loss: 0.0840\n",
      "Epoch 00044: val_dice_loss did not improve from 0.07685\n",
      "69/69 [==============================] - 316s 5s/step - loss: 0.0681 - dice_loss: 0.0840 - val_loss: 0.0747 - val_dice_loss: 0.0991\n",
      "Epoch 45/50\n",
      "68/69 [============================>.] - ETA: 3s - loss: 0.0733 - dice_loss: 0.0904\n",
      "Epoch 00045: val_dice_loss did not improve from 0.07685\n",
      "69/69 [==============================] - 312s 5s/step - loss: 0.0732 - dice_loss: 0.0905 - val_loss: 0.1022 - val_dice_loss: 0.1235\n",
      "Epoch 46/50\n",
      "68/69 [============================>.] - ETA: 3s - loss: 0.0738 - dice_loss: 0.0985\n",
      "Epoch 00046: val_dice_loss did not improve from 0.07685\n",
      "69/69 [==============================] - 314s 5s/step - loss: 0.0741 - dice_loss: 0.0984 - val_loss: 0.0790 - val_dice_loss: 0.0864\n",
      "Epoch 47/50\n",
      "68/69 [============================>.] - ETA: 3s - loss: 0.0716 - dice_loss: 0.0870\n",
      "Epoch 00047: val_dice_loss did not improve from 0.07685\n",
      "69/69 [==============================] - 317s 5s/step - loss: 0.0711 - dice_loss: 0.0870 - val_loss: 0.0739 - val_dice_loss: 0.0909\n",
      "Epoch 48/50\n",
      "68/69 [============================>.] - ETA: 3s - loss: 0.0688 - dice_loss: 0.0898\n",
      "Epoch 00048: val_dice_loss did not improve from 0.07685\n",
      "69/69 [==============================] - 308s 4s/step - loss: 0.0682 - dice_loss: 0.0897 - val_loss: 0.1197 - val_dice_loss: 0.1258\n",
      "Epoch 49/50\n",
      "68/69 [============================>.] - ETA: 3s - loss: 0.0700 - dice_loss: 0.0790\n",
      "Epoch 00049: val_dice_loss did not improve from 0.07685\n",
      "69/69 [==============================] - 310s 4s/step - loss: 0.0693 - dice_loss: 0.0792 - val_loss: 0.0744 - val_dice_loss: 0.0992\n",
      "Epoch 50/50\n",
      "68/69 [============================>.] - ETA: 3s - loss: 0.0689 - dice_loss: 0.0874\n",
      "Epoch 00050: val_dice_loss did not improve from 0.07685\n",
      "69/69 [==============================] - 310s 4s/step - loss: 0.0687 - dice_loss: 0.0873 - val_loss: 0.0753 - val_dice_loss: 0.0830\n"
     ]
    }
   ],
   "source": [
    "history = model.fit(train_ds, epochs=50, \n",
    "                    steps_per_epoch=int(np.ceil(num_train_data / batch_size)),\n",
    "                    validation_data=val_ds,\n",
    "                    validation_steps=int(np.ceil(num_val_data / batch_size)),\n",
    "                    callbacks=[cp, tb])"
   ]
  },
  {
   "cell_type": "code",
   "execution_count": null,
   "metadata": {},
   "outputs": [],
   "source": [
    "import importlib\n",
    "importlib.reload(u_net)"
   ]
  },
  {
   "cell_type": "code",
   "execution_count": null,
   "metadata": {},
   "outputs": [],
   "source": [
    "for (x,y) in train_ds.take(1):\n",
    "    u_net.bce_dice_loss(y,y)"
   ]
  },
  {
   "cell_type": "markdown",
   "metadata": {},
   "source": [
    "### Plot training process"
   ]
  },
  {
   "cell_type": "code",
   "execution_count": 10,
   "metadata": {},
   "outputs": [
    {
     "data": {
      "text/plain": [
       "<matplotlib.axes._subplots.AxesSubplot at 0x7f891c1edf28>"
      ]
     },
     "execution_count": 10,
     "metadata": {},
     "output_type": "execute_result"
    },
    {
     "data": {
      "image/png": "[encoded data removed]",
      "text/plain": [
       "<Figure size 432x288 with 1 Axes>"
      ]
     },
     "metadata": {
      "needs_background": "light"
     },
     "output_type": "display_data"
    },
    {
     "data": {
      "image/png": "[encoded data removed]",
      "text/plain": [
       "<Figure size 432x288 with 1 Axes>"
      ]
     },
     "metadata": {
      "needs_background": "light"
     },
     "output_type": "display_data"
    }
   ],
   "source": [
    "tr_process = pd.DataFrame.from_dict(history.history)\n",
    "tr_process['epoch'] = np.array(range(1, tr_process.shape[0]+1))\n",
    "\n",
    "tr_process.plot(x='epoch', y=['loss', 'val_loss'])\n",
    "tr_process.plot(x='epoch', y=['dice_loss', 'val_dice_loss'])"
   ]
  },
  {
   "cell_type": "markdown",
   "metadata": {},
   "source": [
    "### Or load the trained weights"
   ]
  },
  {
   "cell_type": "code",
   "execution_count": null,
   "metadata": {},
   "outputs": [],
   "source": [
    "model_dir = r'/awlab/users/chsu/WorkSpace/tensorflow/segmentation/models/2019-04-13_15_07_25'\n",
    "latest = tf.train.latest_checkpoint(model_dir)\n",
    "print(latest)\n",
    "model.load_weights(latest)"
   ]
  },
  {
   "cell_type": "code",
   "execution_count": null,
   "metadata": {},
   "outputs": [],
   "source": [
    "model.evaluate(val_ds, steps=int(np.ceil(num_val_data / batch_size)))"
   ]
  },
  {
   "cell_type": "markdown",
   "metadata": {},
   "source": [
    "# Visualize performance"
   ]
  },
  {
   "cell_type": "code",
   "execution_count": 11,
   "metadata": {},
   "outputs": [],
   "source": [
    "def overlay_mask(img, mask, mask_pred):\n",
    "    \"\"\"green: true, red: predicted\"\"\"\n",
    "    I = np.uint8(img.numpy()*255.)\n",
    "    I = cv2.cvtColor(I,cv2.COLOR_GRAY2RGB)\n",
    "    \n",
    "    M = np.uint8(mask.numpy()*255.)\n",
    "    M_pred = np.uint8((mask_pred.numpy()>0.5) * 255.)\n",
    "    \n",
    "    im, contours, _ = cv2.findContours(M.copy(), cv2.RETR_EXTERNAL, cv2.CHAIN_APPROX_NONE)\n",
    "    im_pred, contours_pred, _ = cv2.findContours(M_pred.copy(), \n",
    "                                                cv2.RETR_EXTERNAL, cv2.CHAIN_APPROX_NONE)\n",
    "    \n",
    "    I1 = cv2.drawContours(I.copy(), contours, -1, (0,255,0), 1)\n",
    "    I2 = cv2.drawContours(I.copy(), contours_pred, -1, (255,0,0), 1)\n",
    "    I[:,:,1] = I1[:,:,1]\n",
    "    I[:,:,0] = I2[:,:,0]\n",
    "    \n",
    "    return I"
   ]
  },
  {
   "cell_type": "code",
   "execution_count": 13,
   "metadata": {},
   "outputs": [],
   "source": [
    "idx_to_plot = np.random.choice(num_val_data, 3)\n",
    "result_folder = r'/awlab/users/chsu/WorkSpace/tensorflow/segmentation/results'\n",
    "\n",
    "if not os.path.isdir(result_folder):\n",
    "    os.makedirs(result_folder)\n",
    "\n",
    "# plt.figure(figsize=(12,16))\n",
    "\n",
    "for i, (img, mask) in enumerate(val_ds):\n",
    "    if i in idx_to_plot:\n",
    "        y_pred = model(img)        \n",
    "        for j in range(4):\n",
    "            I = overlay_mask(img[j,:,:,0], mask[j,:,:,0], y_pred[j,:,:,0])\n",
    "            fname = os.path.join(result_folder, '{}_{}.png'.format(i,j))\n",
    "            cv2.imwrite(fname, cv2.cvtColor(I, cv2.COLOR_RGB2BGR))\n",
    "            \n",
    "#             plt.subplot(2,2,j+1)\n",
    "#             plt.imshow(I)\n",
    "            \n",
    "    if i > max(idx_to_plot):\n",
    "        break"
   ]
  },
  {
   "cell_type": "code",
   "execution_count": null,
   "metadata": {},
   "outputs": [],
   "source": [
    "\n",
    "\n",
    "\n",
    "\n",
    "\n",
    "\n",
    "\n",
    "\n",
    "\n",
    "\n",
    "\n",
    "\n",
    "\n",
    "\n",
    "\n",
    "\n",
    "\n",
    "\n",
    "\n",
    "\n",
    "\n",
    "\n",
    "\n",
    "\n",
    "\n",
    "\n",
    "\n",
    "\n"
   ]
  }
 ],
 "metadata": {
  "kernelspec": {
   "display_name": "Python 3",
   "language": "python",
   "name": "python3"
  },
  "language_info": {
   "codemirror_mode": {
    "name": "ipython",
    "version": 3
   },
   "file_extension": ".py",
   "mimetype": "text/x-python",
   "name": "python",
   "nbconvert_exporter": "python",
   "pygments_lexer": "ipython3",
   "version": "3.6.8"
  }
 },
 "nbformat": 4,
 "nbformat_minor": 2
}
