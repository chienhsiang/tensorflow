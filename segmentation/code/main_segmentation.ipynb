{
 "cells": [
  {
   "cell_type": "code",
   "execution_count": 1,
   "metadata": {},
   "outputs": [],
   "source": [
    "import os\n",
    "import glob\n",
    "import re\n",
    "import functools\n",
    "from sklearn.model_selection import train_test_split\n",
    "import numpy as np\n",
    "import pandas as pd\n",
    "import datetime\n",
    "\n",
    "import matplotlib.pyplot as plt\n",
    "import cv2\n",
    "\n",
    "import data_io\n",
    "import u_net"
   ]
  },
  {
   "cell_type": "code",
   "execution_count": 2,
   "metadata": {},
   "outputs": [
    {
     "data": {
      "text/plain": [
       "'2.0.0-alpha0'"
      ]
     },
     "execution_count": 2,
     "metadata": {},
     "output_type": "execute_result"
    }
   ],
   "source": [
    "import tensorflow as tf\n",
    "from tensorflow.keras import models, layers, losses\n",
    "\n",
    "os.environ['CUDA_VISIBLE_DEVICES'] = '1'\n",
    "\n",
    "tf.__version__"
   ]
  },
  {
   "cell_type": "markdown",
   "metadata": {},
   "source": [
    "# Set up"
   ]
  },
  {
   "cell_type": "code",
   "execution_count": 3,
   "metadata": {},
   "outputs": [],
   "source": [
    "common_root = r'/awlab/users/chsu/WorkSpace/tensorflow/segmentation/data/plate_2017017086_ki67'\n",
    "# common_root = r'/awlab/users/chsu/WorkSpace/tensorflow/segmentation/data/p2017017086_ki67_merge'\n",
    "\n",
    "img_dir = os.path.join(common_root, 'images')\n",
    "mask_dir = os.path.join(common_root, 'masks')\n",
    "\n",
    "batch_size = 5\n",
    "task = 'cell_seg'\n",
    "\n",
    "MAX_LEVEL = 4095.\n",
    "n_channels = 1"
   ]
  },
  {
   "cell_type": "code",
   "execution_count": 4,
   "metadata": {},
   "outputs": [
    {
     "name": "stdout",
     "output_type": "stream",
     "text": [
      "Number of training samples: 345\n",
      "Number of validation samples: 87\n"
     ]
    }
   ],
   "source": [
    "if task == 'nuc_seg':\n",
    "    x_train_fnames = sorted(glob.glob(os.path.join(img_dir,'*-2.png'))) # nucleus images\n",
    "    y_train_fnames = sorted(glob.glob(os.path.join(mask_dir,'*_nucleus.png'))) # nucleus masks     \n",
    "\n",
    "elif task == 'cell_seg':\n",
    "    x_train_fnames = sorted(glob.glob(os.path.join(img_dir,'*-3.png'))) # cell images\n",
    "    y_train_fnames = sorted(glob.glob(os.path.join(mask_dir,'*_cell.png'))) # cell masks\n",
    "    \n",
    "elif task == 'both_seg':\n",
    "    x_train_fnames = sorted(glob.glob(os.path.join(img_dir,'*.png'))) # merged images\n",
    "    y_train_fnames = sorted(glob.glob(os.path.join(mask_dir,'*.png'))) # merged masks, green: nucleus, red: cell\n",
    "    \n",
    "else:\n",
    "    raise ValueError('Unknown task.')\n",
    "\n",
    "# Remove column 2\n",
    "pattern = re.compile('_[A-Z]2_')\n",
    "x_train_fnames = [f for f in x_train_fnames if not pattern.search(f)]\n",
    "y_train_fnames = [f for f in y_train_fnames if not pattern.search(f)]\n",
    "\n",
    "# idx = np.random.choice(len(x_train_fnames))\n",
    "# print(x_train_fnames[idx])\n",
    "# print(y_train_fnames[idx])\n",
    "\n",
    "# Split into training and validation\n",
    "x_train_fnames, x_val_fnames, y_train_fnames, y_val_fnames = \\\n",
    "    train_test_split(x_train_fnames, y_train_fnames, test_size=0.2, random_state=43)\n",
    "\n",
    "num_train_data = len(x_train_fnames)\n",
    "num_val_data = len(x_val_fnames)\n",
    "\n",
    "print(\"Number of training samples: {}\".format(num_train_data))\n",
    "print(\"Number of validation samples: {}\".format(num_val_data))"
   ]
  },
  {
   "cell_type": "code",
   "execution_count": null,
   "metadata": {},
   "outputs": [],
   "source": [
    "idx = np.random.choice(num_val_data)\n",
    "print(os.path.basename(x_val_fnames[idx]))\n",
    "print(os.path.basename(y_val_fnames[idx]))"
   ]
  },
  {
   "cell_type": "markdown",
   "metadata": {},
   "source": [
    "# Test the input pipeline"
   ]
  },
  {
   "cell_type": "markdown",
   "metadata": {},
   "source": [
    "### Get image and mask from path names"
   ]
  },
  {
   "cell_type": "code",
   "execution_count": null,
   "metadata": {},
   "outputs": [],
   "source": [
    "idx = np.random.choice(num_train_data)\n",
    "img, mask = data_io._get_image_from_path(x_train_fnames[idx], y_train_fnames[idx], \n",
    "                                         max_level=MAX_LEVEL, channels=n_channels)\n",
    "\n",
    "print('Image shape: {}'.format(img.shape))\n",
    "print('Mask shape : {}'.format(mask.shape))\n",
    "\n",
    "# single channel\n",
    "plt.figure(figsize=(12,16))\n",
    "plt.subplot(1,2,1)\n",
    "plt.imshow(img[:,:,0], cmap='gray')\n",
    "plt.subplot(1,2,2)\n",
    "plt.imshow(mask[:,:,0])\n",
    "\n",
    "# color\n",
    "# plt.figure(figsize=(12,16))\n",
    "# plt.subplot(1,2,1)\n",
    "# plt.imshow(img, cmap='gray')\n",
    "# plt.subplot(1,2,2)\n",
    "# plt.imshow(mask)"
   ]
  },
  {
   "cell_type": "code",
   "execution_count": null,
   "metadata": {},
   "outputs": [],
   "source": [
    "print(np.unique(mask))\n",
    "\n",
    "print(img.shape)\n",
    "print(img.dtype)\n",
    "print(mask.shape)\n",
    "print(img.numpy().max())"
   ]
  },
  {
   "cell_type": "markdown",
   "metadata": {},
   "source": [
    "### Test the input pipeline"
   ]
  },
  {
   "cell_type": "code",
   "execution_count": null,
   "metadata": {},
   "outputs": [],
   "source": [
    "import importlib\n",
    "importlib.reload(data_io)\n",
    "importlib.reload(u_net)"
   ]
  },
  {
   "cell_type": "code",
   "execution_count": null,
   "metadata": {},
   "outputs": [],
   "source": [
    "read_img_fn = functools.partial(data_io._get_image_from_path, max_level=MAX_LEVEL, channels=n_channels)\n",
    "tmp_ds = data_io.get_dataset(x_train_fnames, y_train_fnames, read_img_fn=read_img_fn)"
   ]
  },
  {
   "cell_type": "code",
   "execution_count": null,
   "metadata": {},
   "outputs": [],
   "source": [
    "plt.figure(figsize=(12,16))\n",
    "for i, (img, mask) in enumerate(tmp_ds.shuffle(num_train_data).take(3)):\n",
    "    print(img.numpy().max())\n",
    "    print(mask.numpy().max())\n",
    "    plt.subplot(3,2,2*i+1)\n",
    "    plt.imshow(img[0,:,:,0]/255.)\n",
    "    plt.subplot(3,2,2*i+2)\n",
    "    plt.imshow(mask[0,:,:,0]/255.)\n",
    "plt.show()"
   ]
  },
  {
   "cell_type": "markdown",
   "metadata": {},
   "source": [
    "# Configure training and validation datasets"
   ]
  },
  {
   "cell_type": "code",
   "execution_count": 5,
   "metadata": {},
   "outputs": [],
   "source": [
    "read_img_fn = functools.partial(data_io._get_image_from_path, max_level=MAX_LEVEL, channels=n_channels)\n",
    "\n",
    "# training data\n",
    "train_cfg = {\n",
    "    'resize': None, \n",
    "    'scale': 1/255.,\n",
    "    'crop_size': [512, 512],\n",
    "    'to_flip': True\n",
    "}\n",
    "tr_preproc_fn = functools.partial(data_io._augment, **train_cfg)\n",
    "\n",
    "# validation data\n",
    "val_cfg = {\n",
    "    'resize': None, \n",
    "    'scale': 1/255.,\n",
    "    'crop_size': [512, 512]\n",
    "}\n",
    "val_preproc_fn = functools.partial(data_io._augment, **val_cfg)\n",
    "\n",
    "train_ds = data_io.get_dataset(x_train_fnames, y_train_fnames, read_img_fn=read_img_fn,\n",
    "                               preproc_fn=tr_preproc_fn, shuffle=True, batch_size=batch_size)\n",
    "val_ds = data_io.get_dataset(x_val_fnames, y_val_fnames, read_img_fn=read_img_fn, \n",
    "                             preproc_fn=val_preproc_fn, shuffle=False, batch_size=batch_size)"
   ]
  },
  {
   "cell_type": "code",
   "execution_count": null,
   "metadata": {},
   "outputs": [],
   "source": [
    "plt.figure(figsize=(12,16))\n",
    "for i, (img, mask) in enumerate(val_ds.take(3)):\n",
    "\n",
    "    plt.subplot(3,3,3*i+1)\n",
    "    plt.imshow(img[0,:,:,0])\n",
    "    \n",
    "    plt.subplot(3,3,3*i+2)\n",
    "    plt.imshow(mask[0,:,:,0])\n",
    "    \n",
    "#     plt.subplot(3,3,3*i+3)\n",
    "#     plt.imshow(mask[0,:,:,1])"
   ]
  },
  {
   "cell_type": "markdown",
   "metadata": {},
   "source": [
    "# Customized loss"
   ]
  },
  {
   "cell_type": "code",
   "execution_count": null,
   "metadata": {},
   "outputs": [],
   "source": [
    "import importlib\n",
    "importlib.reload(u_net)\n",
    "importlib.reload(data_io)"
   ]
  },
  {
   "cell_type": "code",
   "execution_count": null,
   "metadata": {},
   "outputs": [],
   "source": [
    "val_ds"
   ]
  },
  {
   "cell_type": "code",
   "execution_count": 20,
   "metadata": {},
   "outputs": [
    {
     "name": "stdout",
     "output_type": "stream",
     "text": [
      "<dtype: 'float32'>\n"
     ]
    },
    {
     "name": "stderr",
     "output_type": "stream",
     "text": [
      "W0417 06:36:11.637863 140524233619200 image.py:656] Clipping input data to the valid range for imshow with RGB data ([0..1] for floats or [0..255] for integers).\n"
     ]
    },
    {
     "name": "stdout",
     "output_type": "stream",
     "text": [
      "(1.0, 3.4259398)\n",
      "(0.0, 9.296362)\n"
     ]
    },
    {
     "data": {
      "image/png": "[encoded data removed]",
      "text/plain": [
       "<Figure size 864x1152 with 1 Axes>"
      ]
     },
     "metadata": {
      "needs_background": "light"
     },
     "output_type": "display_data"
    }
   ],
   "source": [
    "for (img, mask) in val_ds.shuffle(30).take(1):\n",
    "    print(mask.dtype)\n",
    "#     L = u_net.weighted_loss(mask, mask)\n",
    "    M = mask[0,:,:,0]\n",
    "    wc = u_net.balancing_weight_tf(M)\n",
    "    dw = u_net.distance_weight(M.numpy(), w0=10, sigma=5.0)\n",
    "    \n",
    "    \n",
    "    plt.figure(figsize=(12,16))\n",
    "    b = np.zeros_like(M)\n",
    "    plt.imshow(np.dstack([dw, M, b]))\n",
    "#     plt.imshow(dw)\n",
    "    \n",
    "#     plt.subplot(1,3,1)\n",
    "#     plt.imshow(img[0,:,:,0])\n",
    "\n",
    "#     plt.subplot(1,3,2)\n",
    "#     plt.imshow(M)\n",
    "\n",
    "#     plt.subplot(1,3,3)\n",
    "#     plt.imshow(dw)\n",
    "    \n",
    "#     print(L.shape)\n",
    "    print((wc.numpy().min(), wc.numpy().max()))\n",
    "    print((dw.min(), dw.max()))\n",
    "    \n",
    "#     plt.figure(figsize=(12,16))\n",
    "    \n",
    "#     for i, w in enumerate(L):\n",
    "#         if i>2:\n",
    "#             break\n",
    "            \n",
    "#         plt.subplot(3,3,3*i+1)\n",
    "#         plt.imshow(img[i,:,:,0])\n",
    "\n",
    "#         plt.subplot(3,3,3*i+2)\n",
    "#         plt.imshow(mask[i,:,:,0])\n",
    "\n",
    "#         plt.subplot(3,3,3*i+3)\n",
    "#         plt.imshow(w)\n",
    "#         print((w.numpy().min(), w.numpy().max()))\n",
    "        \n"
   ]
  },
  {
   "cell_type": "markdown",
   "metadata": {},
   "source": [
    "# Build the model"
   ]
  },
  {
   "cell_type": "code",
   "execution_count": 22,
   "metadata": {},
   "outputs": [],
   "source": [
    "num_filters_list = [32, 64, 128, 256, 512]\n",
    "w0 = 10.\n",
    "sigma = 5.\n",
    "\n",
    "model = u_net.Unet(num_filters_list, dynamic=True)\n",
    "loss_fn = functools.partial(u_net.weighted_loss, w0=w0, sigma=sigma)\n",
    "model.compile(optimizer='adam', loss=loss_fn, metrics=[u_net.dice_loss])\n",
    "\n",
    "# plt.figure(figsize=(12,16))\n",
    "# for i, (img, mask) in enumerate(train_ds.take(1)):\n",
    "#     y_pred = model(img)\n",
    "    \n",
    "#     plt.subplot(1,3,1)\n",
    "#     plt.imshow(img[0,:,:,0])\n",
    "#     plt.subplot(1,3,2)\n",
    "#     plt.imshow(mask[0,:,:,0])\n",
    "#     plt.subplot(1,3,3)\n",
    "#     plt.imshow(y_pred[0,:,:,0])\n",
    "# plt.show()"
   ]
  },
  {
   "cell_type": "markdown",
   "metadata": {},
   "source": [
    "## Train the model"
   ]
  },
  {
   "cell_type": "code",
   "execution_count": 23,
   "metadata": {},
   "outputs": [],
   "source": [
    "root_path = r'/awlab/users/chsu/WorkSpace/tensorflow/segmentation'\n",
    "model_tag = 'cell_weighted_bce2_'\n",
    "\n",
    "timestamp = '{}'.format(datetime.datetime.now()).split('.')[0].replace(':','_').replace(' ','_')\n",
    "foler_name = model_tag + timestamp\n",
    "\n",
    "# model weights\n",
    "weights_path = os.path.join(root_path, 'models', foler_name, 'weights-{epoch:04d}.ckpt')\n",
    "weights_dir = os.path.dirname(weights_path)\n",
    "if not os.path.isdir(weights_dir):\n",
    "    os.makedirs(weights_dir, exist_ok=True)\n",
    "cp = tf.keras.callbacks.ModelCheckpoint(filepath=weights_path, monitor='val_dice_loss', \n",
    "                                        save_best_only=True, save_weights_only=True, verbose=1)\n",
    "# tensorboard\n",
    "log_dir = os.path.join(root_path, 'logs', foler_name)\n",
    "if not os.path.isdir(log_dir):\n",
    "    os.makedirs(log_dir, exist_ok=True)\n",
    "tb = tf.keras.callbacks.TensorBoard(log_dir=log_dir)"
   ]
  },
  {
   "cell_type": "code",
   "execution_count": null,
   "metadata": {},
   "outputs": [
    {
     "name": "stderr",
     "output_type": "stream",
     "text": [
      "W0417 06:36:32.581470 140524233619200 callbacks.py:1218] TensorBoard Callback will ignore `write_graph=True`when `Model.run_eagerly=True`.`\n"
     ]
    },
    {
     "name": "stdout",
     "output_type": "stream",
     "text": [
      "Epoch 1/50\n",
      "68/69 [============================>.] - ETA: 4s - loss: 0.2978 - dice_loss: 0.2630\n",
      "Epoch 00001: val_dice_loss improved from inf to 0.67297, saving model to /awlab/users/chsu/WorkSpace/tensorflow/segmentation/models/cell_weighted_bce2_2019-04-17_06_36_30/weights-0001.ckpt\n",
      "69/69 [==============================] - 351s 5s/step - loss: 0.2974 - dice_loss: 0.2608 - val_loss: 1.0720 - val_dice_loss: 0.6730\n",
      "Epoch 2/50\n",
      "68/69 [============================>.] - ETA: 3s - loss: 0.1836 - dice_loss: 0.1124\n",
      "Epoch 00002: val_dice_loss improved from 0.67297 to 0.54311, saving model to /awlab/users/chsu/WorkSpace/tensorflow/segmentation/models/cell_weighted_bce2_2019-04-17_06_36_30/weights-0002.ckpt\n",
      "69/69 [==============================] - 343s 5s/step - loss: 0.1836 - dice_loss: 0.1122 - val_loss: 1.7629 - val_dice_loss: 0.5431\n",
      "Epoch 3/50\n",
      "68/69 [============================>.] - ETA: 3s - loss: 0.1707 - dice_loss: 0.1019\n",
      "Epoch 00003: val_dice_loss did not improve from 0.54311\n",
      "69/69 [==============================] - 339s 5s/step - loss: 0.1705 - dice_loss: 0.1018 - val_loss: 0.9069 - val_dice_loss: 0.5625\n",
      "Epoch 4/50\n",
      "68/69 [============================>.] - ETA: 4s - loss: 0.1578 - dice_loss: 0.0875\n",
      "Epoch 00004: val_dice_loss did not improve from 0.54311\n",
      "69/69 [==============================] - 343s 5s/step - loss: 0.1575 - dice_loss: 0.0874 - val_loss: 1.1942 - val_dice_loss: 0.7004\n",
      "Epoch 5/50\n",
      "68/69 [============================>.] - ETA: 4s - loss: 0.1338 - dice_loss: 0.0688\n",
      "Epoch 00005: val_dice_loss improved from 0.54311 to 0.53992, saving model to /awlab/users/chsu/WorkSpace/tensorflow/segmentation/models/cell_weighted_bce2_2019-04-17_06_36_30/weights-0005.ckpt\n",
      "69/69 [==============================] - 346s 5s/step - loss: 0.1333 - dice_loss: 0.0688 - val_loss: 3.7030 - val_dice_loss: 0.5399\n",
      "Epoch 6/50\n",
      "68/69 [============================>.] - ETA: 3s - loss: 0.1282 - dice_loss: 0.0641\n",
      "Epoch 00006: val_dice_loss improved from 0.53992 to 0.40614, saving model to /awlab/users/chsu/WorkSpace/tensorflow/segmentation/models/cell_weighted_bce2_2019-04-17_06_36_30/weights-0006.ckpt\n",
      "69/69 [==============================] - 346s 5s/step - loss: 0.1288 - dice_loss: 0.0641 - val_loss: 1.1295 - val_dice_loss: 0.4061\n",
      "Epoch 7/50\n",
      "68/69 [============================>.] - ETA: 3s - loss: 0.1285 - dice_loss: 0.0647\n",
      "Epoch 00007: val_dice_loss improved from 0.40614 to 0.35635, saving model to /awlab/users/chsu/WorkSpace/tensorflow/segmentation/models/cell_weighted_bce2_2019-04-17_06_36_30/weights-0007.ckpt\n",
      "69/69 [==============================] - 342s 5s/step - loss: 0.1282 - dice_loss: 0.0647 - val_loss: 0.5194 - val_dice_loss: 0.3563\n",
      "Epoch 8/50\n",
      "68/69 [============================>.] - ETA: 3s - loss: 0.1176 - dice_loss: 0.0566\n",
      "Epoch 00008: val_dice_loss improved from 0.35635 to 0.20588, saving model to /awlab/users/chsu/WorkSpace/tensorflow/segmentation/models/cell_weighted_bce2_2019-04-17_06_36_30/weights-0008.ckpt\n",
      "69/69 [==============================] - 342s 5s/step - loss: 0.1176 - dice_loss: 0.0566 - val_loss: 0.3822 - val_dice_loss: 0.2059\n",
      "Epoch 9/50\n",
      "68/69 [============================>.] - ETA: 4s - loss: 0.1101 - dice_loss: 0.0540\n",
      "Epoch 00009: val_dice_loss did not improve from 0.20588\n",
      "69/69 [==============================] - 341s 5s/step - loss: 0.1099 - dice_loss: 0.0540 - val_loss: 0.3237 - val_dice_loss: 0.2307\n",
      "Epoch 10/50\n",
      "68/69 [============================>.] - ETA: 4s - loss: 0.1132 - dice_loss: 0.0532\n",
      "Epoch 00010: val_dice_loss improved from 0.20588 to 0.10673, saving model to /awlab/users/chsu/WorkSpace/tensorflow/segmentation/models/cell_weighted_bce2_2019-04-17_06_36_30/weights-0010.ckpt\n",
      "69/69 [==============================] - 345s 5s/step - loss: 0.1129 - dice_loss: 0.0532 - val_loss: 0.1651 - val_dice_loss: 0.1067\n",
      "Epoch 11/50\n",
      "68/69 [============================>.] - ETA: 4s - loss: 0.1119 - dice_loss: 0.0538\n",
      "Epoch 00011: val_dice_loss improved from 0.10673 to 0.06850, saving model to /awlab/users/chsu/WorkSpace/tensorflow/segmentation/models/cell_weighted_bce2_2019-04-17_06_36_30/weights-0011.ckpt\n",
      "69/69 [==============================] - 352s 5s/step - loss: 0.1118 - dice_loss: 0.0537 - val_loss: 0.1433 - val_dice_loss: 0.0685\n",
      "Epoch 12/50\n",
      "68/69 [============================>.] - ETA: 4s - loss: 0.1084 - dice_loss: 0.0497\n",
      "Epoch 00012: val_dice_loss did not improve from 0.06850\n",
      "69/69 [==============================] - 340s 5s/step - loss: 0.1079 - dice_loss: 0.0497 - val_loss: 1.0168 - val_dice_loss: 0.4654\n",
      "Epoch 13/50\n",
      "68/69 [============================>.] - ETA: 3s - loss: 0.1159 - dice_loss: 0.0507\n",
      "Epoch 00013: val_dice_loss did not improve from 0.06850\n",
      "69/69 [==============================] - 338s 5s/step - loss: 0.1157 - dice_loss: 0.0508 - val_loss: 1.6125 - val_dice_loss: 0.5341\n",
      "Epoch 14/50\n",
      "68/69 [============================>.] - ETA: 4s - loss: 0.1158 - dice_loss: 0.0545\n",
      "Epoch 00014: val_dice_loss did not improve from 0.06850\n",
      "69/69 [==============================] - 340s 5s/step - loss: 0.1153 - dice_loss: 0.0544 - val_loss: 0.5042 - val_dice_loss: 0.3163\n",
      "Epoch 15/50\n",
      "68/69 [============================>.] - ETA: 3s - loss: 0.1032 - dice_loss: 0.0493\n",
      "Epoch 00015: val_dice_loss did not improve from 0.06850\n",
      "69/69 [==============================] - 336s 5s/step - loss: 0.1033 - dice_loss: 0.0492 - val_loss: 1.4677 - val_dice_loss: 0.5513\n",
      "Epoch 16/50\n",
      "68/69 [============================>.] - ETA: 4s - loss: 0.1119 - dice_loss: 0.0518\n",
      "Epoch 00016: val_dice_loss did not improve from 0.06850\n",
      "69/69 [==============================] - 345s 5s/step - loss: 0.1120 - dice_loss: 0.0519 - val_loss: 0.3341 - val_dice_loss: 0.2256\n",
      "Epoch 17/50\n",
      "68/69 [============================>.] - ETA: 4s - loss: 0.1063 - dice_loss: 0.0480\n",
      "Epoch 00017: val_dice_loss did not improve from 0.06850\n",
      "69/69 [==============================] - 340s 5s/step - loss: 0.1060 - dice_loss: 0.0480 - val_loss: 0.4485 - val_dice_loss: 0.2791\n",
      "Epoch 18/50\n",
      "68/69 [============================>.] - ETA: 4s - loss: 0.1036 - dice_loss: 0.0489\n",
      "Epoch 00018: val_dice_loss improved from 0.06850 to 0.06500, saving model to /awlab/users/chsu/WorkSpace/tensorflow/segmentation/models/cell_weighted_bce2_2019-04-17_06_36_30/weights-0018.ckpt\n",
      "69/69 [==============================] - 349s 5s/step - loss: 0.1030 - dice_loss: 0.0488 - val_loss: 0.1191 - val_dice_loss: 0.0650\n",
      "Epoch 19/50\n",
      "68/69 [============================>.] - ETA: 4s - loss: 0.1003 - dice_loss: 0.0450\n",
      "Epoch 00019: val_dice_loss did not improve from 0.06500\n",
      "69/69 [==============================] - 344s 5s/step - loss: 0.1004 - dice_loss: 0.0450 - val_loss: 0.1945 - val_dice_loss: 0.1295\n",
      "Epoch 20/50\n",
      "68/69 [============================>.] - ETA: 4s - loss: 0.0967 - dice_loss: 0.0445\n",
      "Epoch 00020: val_dice_loss did not improve from 0.06500\n",
      "69/69 [==============================] - 344s 5s/step - loss: 0.0962 - dice_loss: 0.0445 - val_loss: 0.2517 - val_dice_loss: 0.1059\n",
      "Epoch 21/50\n",
      "68/69 [============================>.] - ETA: 4s - loss: 0.0920 - dice_loss: 0.0416\n",
      "Epoch 00021: val_dice_loss did not improve from 0.06500\n",
      "69/69 [==============================] - 338s 5s/step - loss: 0.0922 - dice_loss: 0.0415 - val_loss: 0.8980 - val_dice_loss: 0.2521\n",
      "Epoch 22/50\n",
      "68/69 [============================>.] - ETA: 4s - loss: 0.0940 - dice_loss: 0.0408\n",
      "Epoch 00022: val_dice_loss did not improve from 0.06500\n",
      "69/69 [==============================] - 347s 5s/step - loss: 0.0939 - dice_loss: 0.0409 - val_loss: 0.2097 - val_dice_loss: 0.0829\n",
      "Epoch 23/50\n",
      "68/69 [============================>.] - ETA: 4s - loss: 0.0947 - dice_loss: 0.0426\n",
      "Epoch 00023: val_dice_loss did not improve from 0.06500\n",
      "69/69 [==============================] - 345s 5s/step - loss: 0.0946 - dice_loss: 0.0426 - val_loss: 0.5348 - val_dice_loss: 0.3632\n",
      "Epoch 24/50\n",
      "68/69 [============================>.] - ETA: 4s - loss: 0.0932 - dice_loss: 0.0431\n",
      "Epoch 00024: val_dice_loss did not improve from 0.06500\n",
      "69/69 [==============================] - 342s 5s/step - loss: 0.0931 - dice_loss: 0.0431 - val_loss: 0.7594 - val_dice_loss: 0.4124\n",
      "Epoch 25/50\n",
      "68/69 [============================>.] - ETA: 4s - loss: 0.0931 - dice_loss: 0.0427\n",
      "Epoch 00025: val_dice_loss did not improve from 0.06500\n",
      "69/69 [==============================] - 347s 5s/step - loss: 0.0929 - dice_loss: 0.0427 - val_loss: 0.2845 - val_dice_loss: 0.1805\n"
     ]
    },
    {
     "name": "stdout",
     "output_type": "stream",
     "text": [
      "Epoch 26/50\n",
      "68/69 [============================>.] - ETA: 3s - loss: 0.0911 - dice_loss: 0.0415\n",
      "Epoch 00026: val_dice_loss did not improve from 0.06500\n",
      "69/69 [==============================] - 340s 5s/step - loss: 0.0910 - dice_loss: 0.0415 - val_loss: 0.2650 - val_dice_loss: 0.1897\n",
      "Epoch 27/50\n",
      "68/69 [============================>.] - ETA: 4s - loss: 0.0864 - dice_loss: 0.0384\n",
      "Epoch 00027: val_dice_loss did not improve from 0.06500\n",
      "69/69 [==============================] - 342s 5s/step - loss: 0.0874 - dice_loss: 0.0384 - val_loss: 0.1749 - val_dice_loss: 0.0942\n",
      "Epoch 28/50\n",
      "68/69 [============================>.] - ETA: 4s - loss: 0.0884 - dice_loss: 0.0402\n",
      "Epoch 00028: val_dice_loss did not improve from 0.06500\n",
      "69/69 [==============================] - 342s 5s/step - loss: 0.0887 - dice_loss: 0.0402 - val_loss: 0.2121 - val_dice_loss: 0.1181\n",
      "Epoch 29/50\n",
      "68/69 [============================>.] - ETA: 4s - loss: 0.0889 - dice_loss: 0.0402\n",
      "Epoch 00029: val_dice_loss did not improve from 0.06500\n",
      "69/69 [==============================] - 343s 5s/step - loss: 0.0892 - dice_loss: 0.0402 - val_loss: 0.1748 - val_dice_loss: 0.0731\n",
      "Epoch 30/50\n",
      "68/69 [============================>.] - ETA: 4s - loss: 0.0864 - dice_loss: 0.0412\n",
      "Epoch 00030: val_dice_loss improved from 0.06500 to 0.05648, saving model to /awlab/users/chsu/WorkSpace/tensorflow/segmentation/models/cell_weighted_bce2_2019-04-17_06_36_30/weights-0030.ckpt\n",
      "69/69 [==============================] - 351s 5s/step - loss: 0.0865 - dice_loss: 0.0412 - val_loss: 0.1244 - val_dice_loss: 0.0565\n",
      "Epoch 31/50\n",
      "68/69 [============================>.] - ETA: 3s - loss: 0.0874 - dice_loss: 0.0414\n",
      "Epoch 00031: val_dice_loss did not improve from 0.05648\n",
      "69/69 [==============================] - 341s 5s/step - loss: 0.0872 - dice_loss: 0.0413 - val_loss: 0.1363 - val_dice_loss: 0.0650\n",
      "Epoch 32/50\n",
      "68/69 [============================>.] - ETA: 3s - loss: 0.0877 - dice_loss: 0.0413\n",
      "Epoch 00032: val_dice_loss did not improve from 0.05648\n",
      "69/69 [==============================] - 339s 5s/step - loss: 0.0873 - dice_loss: 0.0413 - val_loss: 0.1586 - val_dice_loss: 0.0945\n",
      "Epoch 33/50\n",
      "68/69 [============================>.] - ETA: 3s - loss: 0.0860 - dice_loss: 0.0376\n",
      "Epoch 00033: val_dice_loss did not improve from 0.05648\n",
      "69/69 [==============================] - 339s 5s/step - loss: 0.0856 - dice_loss: 0.0376 - val_loss: 0.2660 - val_dice_loss: 0.1257\n",
      "Epoch 34/50\n",
      "68/69 [============================>.] - ETA: 3s - loss: 0.0887 - dice_loss: 0.0434\n",
      "Epoch 00034: val_dice_loss did not improve from 0.05648\n",
      "69/69 [==============================] - 337s 5s/step - loss: 0.0885 - dice_loss: 0.0434 - val_loss: 0.4831 - val_dice_loss: 0.3376\n",
      "Epoch 35/50\n",
      "68/69 [============================>.] - ETA: 4s - loss: 0.0868 - dice_loss: 0.0384\n",
      "Epoch 00035: val_dice_loss did not improve from 0.05648\n",
      "69/69 [==============================] - 347s 5s/step - loss: 0.0873 - dice_loss: 0.0385 - val_loss: 0.2456 - val_dice_loss: 0.0834\n",
      "Epoch 36/50\n",
      "68/69 [============================>.] - ETA: 3s - loss: 0.0945 - dice_loss: 0.0451\n",
      "Epoch 00036: val_dice_loss did not improve from 0.05648\n",
      "69/69 [==============================] - 338s 5s/step - loss: 0.0950 - dice_loss: 0.0450 - val_loss: 0.5047 - val_dice_loss: 0.3309\n",
      "Epoch 37/50\n",
      "68/69 [============================>.] - ETA: 4s - loss: 0.0885 - dice_loss: 0.0404\n",
      "Epoch 00037: val_dice_loss did not improve from 0.05648\n",
      "69/69 [==============================] - 342s 5s/step - loss: 0.0886 - dice_loss: 0.0404 - val_loss: 0.1254 - val_dice_loss: 0.0752\n",
      "Epoch 38/50\n",
      "68/69 [============================>.] - ETA: 4s - loss: 0.0860 - dice_loss: 0.0408\n",
      "Epoch 00038: val_dice_loss did not improve from 0.05648\n",
      "69/69 [==============================] - 343s 5s/step - loss: 0.0860 - dice_loss: 0.0408 - val_loss: 0.8761 - val_dice_loss: 0.4080\n",
      "Epoch 39/50\n",
      "68/69 [============================>.] - ETA: 3s - loss: 0.0843 - dice_loss: 0.0392\n",
      "Epoch 00039: val_dice_loss did not improve from 0.05648\n",
      "69/69 [==============================] - 339s 5s/step - loss: 0.0841 - dice_loss: 0.0392 - val_loss: 0.1989 - val_dice_loss: 0.0803\n",
      "Epoch 40/50\n",
      "68/69 [============================>.] - ETA: 4s - loss: 0.0813 - dice_loss: 0.0383\n",
      "Epoch 00040: val_dice_loss did not improve from 0.05648\n",
      "69/69 [==============================] - 341s 5s/step - loss: 0.0812 - dice_loss: 0.0383 - val_loss: 0.8134 - val_dice_loss: 0.4262\n",
      "Epoch 41/50\n",
      "68/69 [============================>.] - ETA: 4s - loss: 0.0845 - dice_loss: 0.0385\n",
      "Epoch 00041: val_dice_loss did not improve from 0.05648\n",
      "69/69 [==============================] - 343s 5s/step - loss: 0.0847 - dice_loss: 0.0385 - val_loss: 0.8252 - val_dice_loss: 0.4299\n",
      "Epoch 42/50\n",
      "68/69 [============================>.] - ETA: 4s - loss: 0.0857 - dice_loss: 0.0395\n",
      "Epoch 00042: val_dice_loss did not improve from 0.05648\n",
      "69/69 [==============================] - 344s 5s/step - loss: 0.0857 - dice_loss: 0.0395 - val_loss: 0.7603 - val_dice_loss: 0.4234\n",
      "Epoch 43/50\n",
      "68/69 [============================>.] - ETA: 3s - loss: 0.0813 - dice_loss: 0.0382\n",
      "Epoch 00043: val_dice_loss did not improve from 0.05648\n",
      "69/69 [==============================] - 337s 5s/step - loss: 0.0813 - dice_loss: 0.0382 - val_loss: 0.2464 - val_dice_loss: 0.1676\n",
      "Epoch 44/50\n",
      "68/69 [============================>.] - ETA: 4s - loss: 0.0833 - dice_loss: 0.0403\n",
      "Epoch 00044: val_dice_loss did not improve from 0.05648\n",
      "69/69 [==============================] - 342s 5s/step - loss: 0.0833 - dice_loss: 0.0402 - val_loss: 0.3521 - val_dice_loss: 0.1944\n",
      "Epoch 45/50\n",
      "68/69 [============================>.] - ETA: 4s - loss: 0.0814 - dice_loss: 0.0373\n",
      "Epoch 00045: val_dice_loss did not improve from 0.05648\n",
      "69/69 [==============================] - 347s 5s/step - loss: 0.0816 - dice_loss: 0.0373 - val_loss: 0.4089 - val_dice_loss: 0.2359\n",
      "Epoch 46/50\n",
      "68/69 [============================>.] - ETA: 4s - loss: 0.0797 - dice_loss: 0.0361\n",
      "Epoch 00046: val_dice_loss did not improve from 0.05648\n",
      "69/69 [==============================] - 347s 5s/step - loss: 0.0795 - dice_loss: 0.0362 - val_loss: 0.6607 - val_dice_loss: 0.3581\n",
      "Epoch 47/50\n",
      "68/69 [============================>.] - ETA: 4s - loss: 0.0799 - dice_loss: 0.0374\n",
      "Epoch 00047: val_dice_loss did not improve from 0.05648\n",
      "69/69 [==============================] - 343s 5s/step - loss: 0.0796 - dice_loss: 0.0373 - val_loss: 0.5151 - val_dice_loss: 0.2901\n",
      "Epoch 48/50\n",
      " 7/69 [==>...........................] - ETA: 4:24 - loss: 0.0829 - dice_loss: 0.0352"
     ]
    }
   ],
   "source": [
    "history = model.fit(train_ds, epochs=50, \n",
    "                    steps_per_epoch=int(np.ceil(num_train_data / batch_size)),\n",
    "                    validation_data=val_ds,\n",
    "                    validation_steps=int(np.ceil(num_val_data / batch_size)),\n",
    "                    callbacks=[cp, tb])"
   ]
  },
  {
   "cell_type": "code",
   "execution_count": null,
   "metadata": {},
   "outputs": [],
   "source": [
    "import importlib\n",
    "importlib.reload(u_net)"
   ]
  },
  {
   "cell_type": "code",
   "execution_count": null,
   "metadata": {},
   "outputs": [],
   "source": [
    "for (x,y) in train_ds.take(1):\n",
    "    u_net.bce_dice_loss(y,y)"
   ]
  },
  {
   "cell_type": "code",
   "execution_count": null,
   "metadata": {},
   "outputs": [],
   "source": [
    "print(tf.data.experimental.AUTOTUNE)"
   ]
  },
  {
   "cell_type": "markdown",
   "metadata": {},
   "source": [
    "### Plot training process"
   ]
  },
  {
   "cell_type": "code",
   "execution_count": 10,
   "metadata": {},
   "outputs": [
    {
     "data": {
      "text/plain": [
       "<matplotlib.axes._subplots.AxesSubplot at 0x7fcd4c221400>"
      ]
     },
     "execution_count": 10,
     "metadata": {},
     "output_type": "execute_result"
    },
    {
     "data": {
      "image/png": "[encoded data removed]",
      "text/plain": [
       "<Figure size 432x288 with 1 Axes>"
      ]
     },
     "metadata": {
      "needs_background": "light"
     },
     "output_type": "display_data"
    },
    {
     "data": {
      "image/png": "[encoded data removed]",
      "text/plain": [
       "<Figure size 432x288 with 1 Axes>"
      ]
     },
     "metadata": {
      "needs_background": "light"
     },
     "output_type": "display_data"
    }
   ],
   "source": [
    "tr_process = pd.DataFrame.from_dict(history.history)\n",
    "tr_process['epoch'] = np.array(range(1, tr_process.shape[0]+1))\n",
    "\n",
    "tr_process.plot(x='epoch', y=['loss', 'val_loss'])\n",
    "tr_process.plot(x='epoch', y=['dice_loss', 'val_dice_loss'])"
   ]
  },
  {
   "cell_type": "markdown",
   "metadata": {},
   "source": [
    "### Or load the trained weights"
   ]
  },
  {
   "cell_type": "code",
   "execution_count": null,
   "metadata": {},
   "outputs": [],
   "source": [
    "model_dir = r'/awlab/users/chsu/WorkSpace/tensorflow/segmentation/models/nucleus_weighted_bce22019-04-16_07_38_00'\n",
    "latest = tf.train.latest_checkpoint(model_dir)\n",
    "print(latest)\n",
    "model.load_weights(latest)"
   ]
  },
  {
   "cell_type": "code",
   "execution_count": null,
   "metadata": {},
   "outputs": [],
   "source": [
    "model.evaluate(val_ds, steps=int(np.ceil(num_val_data / batch_size)))"
   ]
  },
  {
   "cell_type": "markdown",
   "metadata": {},
   "source": [
    "# Visualize performance"
   ]
  },
  {
   "cell_type": "code",
   "execution_count": 11,
   "metadata": {},
   "outputs": [],
   "source": [
    "def overlay_mask(img, mask, mask_pred):\n",
    "    \"\"\"green: true, red: predicted\"\"\"\n",
    "    I = np.uint8(img.numpy()*255.)\n",
    "    I = cv2.cvtColor(I,cv2.COLOR_GRAY2RGB)\n",
    "    \n",
    "    M = np.uint8(mask.numpy()*255.)\n",
    "    M_pred = np.uint8((mask_pred.numpy()>0.5) * 255.)\n",
    "    \n",
    "    im, contours, _ = cv2.findContours(M.copy(), cv2.RETR_EXTERNAL, cv2.CHAIN_APPROX_NONE)\n",
    "    im_pred, contours_pred, _ = cv2.findContours(M_pred.copy(), \n",
    "                                                cv2.RETR_EXTERNAL, cv2.CHAIN_APPROX_NONE)\n",
    "    \n",
    "    I1 = cv2.drawContours(I.copy(), contours, -1, (0,255,0), 1)\n",
    "    I2 = cv2.drawContours(I.copy(), contours_pred, -1, (255,0,0), 1)\n",
    "    I[:,:,1] = I1[:,:,1]\n",
    "    I[:,:,0] = I2[:,:,0]\n",
    "    \n",
    "    return I"
   ]
  },
  {
   "cell_type": "code",
   "execution_count": 12,
   "metadata": {},
   "outputs": [],
   "source": [
    "idx_to_plot = np.random.choice(num_val_data, 3)\n",
    "result_folder = r'/awlab/users/chsu/WorkSpace/tensorflow/segmentation/results'\n",
    "\n",
    "if not os.path.isdir(result_folder):\n",
    "    os.makedirs(result_folder)\n",
    "\n",
    "# plt.figure(figsize=(12,16))\n",
    "\n",
    "for i, (img, mask) in enumerate(val_ds):\n",
    "    if i in idx_to_plot:\n",
    "        y_pred = model(img)        \n",
    "        for j in range(4):\n",
    "            I = overlay_mask(img[j,:,:,0], mask[j,:,:,0], y_pred[j,:,:,0])\n",
    "            fname = os.path.join(result_folder, '{}_{}.png'.format(i,j))\n",
    "            cv2.imwrite(fname, cv2.cvtColor(I, cv2.COLOR_RGB2BGR))\n",
    "            \n",
    "#             plt.subplot(2,2,j+1)\n",
    "#             plt.imshow(I)\n",
    "            \n",
    "    if i > max(idx_to_plot):\n",
    "        break"
   ]
  },
  {
   "cell_type": "code",
   "execution_count": null,
   "metadata": {},
   "outputs": [],
   "source": [
    "\n",
    "\n",
    "\n",
    "\n",
    "\n",
    "\n",
    "\n",
    "\n",
    "\n",
    "\n",
    "\n",
    "\n",
    "\n",
    "\n",
    "\n",
    "\n",
    "\n",
    "\n",
    "\n",
    "\n",
    "\n",
    "\n",
    "\n",
    "\n",
    "\n",
    "\n",
    "\n",
    "\n"
   ]
  }
 ],
 "metadata": {
  "kernelspec": {
   "display_name": "Python 3",
   "language": "python",
   "name": "python3"
  },
  "language_info": {
   "codemirror_mode": {
    "name": "ipython",
    "version": 3
   },
   "file_extension": ".py",
   "mimetype": "text/x-python",
   "name": "python",
   "nbconvert_exporter": "python",
   "pygments_lexer": "ipython3",
   "version": "3.6.8"
  }
 },
 "nbformat": 4,
 "nbformat_minor": 2
}
