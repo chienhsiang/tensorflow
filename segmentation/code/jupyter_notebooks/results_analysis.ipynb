{
 "cells": [
  {
   "cell_type": "code",
   "execution_count": 1,
   "metadata": {},
   "outputs": [],
   "source": [
    "import sys, os, re\n",
    "sys.path.append(\"/awlab/users/chsu/WorkSpace/tensorflow/segmentation/code\")\n",
    "\n",
    "import numpy as np\n",
    "import pandas as pd\n",
    "\n",
    "import cv2\n",
    "import matplotlib.pyplot as plt\n",
    "\n",
    "import data_io"
   ]
  },
  {
   "cell_type": "code",
   "execution_count": 2,
   "metadata": {},
   "outputs": [],
   "source": [
    "data_root = r'/awlab/users/chsu/WorkSpace/tensorflow/segmentation/data'\n",
    "result_root = r'/awlab/users/chsu/WorkSpace/tensorflow/segmentation/results'\n",
    "\n",
    "exp_name = '2019028023_PC9_A549_with_nuclear_marker'\n",
    "model_name = 'incucyte_nuc_weighted_bce'\n",
    "\n",
    "img_dir = os.path.join(data_root, exp_name, 'images')\n",
    "y_true_dir = os.path.join(data_root, exp_name, 'masks')\n",
    "y_pred_dir = os.path.join(result_root, model_name, exp_name, 'predictions')\n",
    "\n",
    "file_type = '*.png'\n",
    "filter_pattern = None"
   ]
  },
  {
   "cell_type": "markdown",
   "metadata": {},
   "source": [
    "# Check mean intensity of each image"
   ]
  },
  {
   "cell_type": "code",
   "execution_count": 3,
   "metadata": {},
   "outputs": [],
   "source": [
    "img_paths = data_io.get_filenames(img_dir, file_type, filter_pattern)"
   ]
  },
  {
   "cell_type": "code",
   "execution_count": 5,
   "metadata": {},
   "outputs": [
    {
     "name": "stdout",
     "output_type": "stream",
     "text": [
      "Processing 4160/4160...\r"
     ]
    }
   ],
   "source": [
    "int_avg = np.zeros((len(img_paths)))\n",
    "\n",
    "for i, f in enumerate(img_paths):\n",
    "    print(\"Processing {}/{}...\".format(i+1, len(img_paths)), end='\\r')\n",
    "    img = cv2.imread(f)\n",
    "    int_avg[i] = img[...,0].mean()\n",
    "    "
   ]
  },
  {
   "cell_type": "code",
   "execution_count": 6,
   "metadata": {},
   "outputs": [
    {
     "data": {
      "text/plain": [
       "(array([3115.,  749.,   95.,   64.,   46.,   36.,   28.,   15.,    7.,\n",
       "           5.]), array([127.89594761, 128.04013856, 128.18432952, 128.32852047,\n",
       "        128.47271143, 128.61690238, 128.76109334, 128.9052843 ,\n",
       "        129.04947525, 129.19366621, 129.33785716]), <a list of 10 Patch objects>)"
      ]
     },
     "execution_count": 6,
     "metadata": {},
     "output_type": "execute_result"
    },
    {
     "data": {
      "image/png": "[encoded data removed]",
      "text/plain": [
       "<Figure size 432x288 with 1 Axes>"
      ]
     },
     "metadata": {
      "needs_background": "light"
     },
     "output_type": "display_data"
    }
   ],
   "source": [
    "plt.hist(int_avg)"
   ]
  },
  {
   "cell_type": "code",
   "execution_count": 7,
   "metadata": {},
   "outputs": [
    {
     "data": {
      "text/plain": [
       "count    4160.000000\n",
       "mean      128.058583\n",
       "std         0.145278\n",
       "min       127.895948\n",
       "25%       128.008049\n",
       "50%       128.022805\n",
       "75%       128.040226\n",
       "max       129.337857\n",
       "dtype: float64"
      ]
     },
     "execution_count": 7,
     "metadata": {},
     "output_type": "execute_result"
    }
   ],
   "source": [
    "data = pd.Series(int_avg)\n",
    "data.describe()"
   ]
  },
  {
   "cell_type": "markdown",
   "metadata": {},
   "source": [
    "## => Conclusion: No obvious difference in average intensity"
   ]
  },
  {
   "cell_type": "markdown",
   "metadata": {},
   "source": [
    "# Find error source"
   ]
  },
  {
   "cell_type": "code",
   "execution_count": 8,
   "metadata": {},
   "outputs": [],
   "source": [
    "y_true_paths = data_io.get_filenames(y_true_dir, file_type, filter_pattern)\n",
    "y_pred_paths = data_io.get_filenames(y_pred_dir, file_type, filter_pattern)"
   ]
  },
  {
   "cell_type": "code",
   "execution_count": 9,
   "metadata": {},
   "outputs": [],
   "source": [
    "def dice_coeff(y_true, y_pred):\n",
    "    intersect = np.sum((y_true > 0) & (y_pred > 0))\n",
    "    d = 2. * intersect / (y_true.sum() + y_pred.sum())\n",
    "    return d\n",
    "\n",
    "def dice_loss(y_true, y_pred):\n",
    "    return 1- dice_coeff(y_true, y_pred)"
   ]
  },
  {
   "cell_type": "code",
   "execution_count": 23,
   "metadata": {},
   "outputs": [
    {
     "name": "stdout",
     "output_type": "stream",
     "text": [
      "/awlab/users/chsu/WorkSpace/tensorflow/segmentation/results/incucyte_nuc_weighted_bce/2019028023_PC9_A549_with_nuclear_marker/predictions/phase_A10_1_00d00h00m.png\n",
      "0.8648724384157727\n"
     ]
    },
    {
     "data": {
      "image/png": "[encoded data removed]",
      "text/plain": [
       "<Figure size 864x864 with 1 Axes>"
      ]
     },
     "metadata": {
      "needs_background": "light"
     },
     "output_type": "display_data"
    }
   ],
   "source": [
    "i = 0\n",
    "y_true = cv2.imread(y_true_paths[i])[...,0] / 255.\n",
    "y_true = cv2.resize(y_true, (1408, 1024))\n",
    "y_pred = cv2.imread(y_pred_paths[i])[...,0] / 255.\n",
    "y_pred = np.float64(y_pred > 0.5)\n",
    "\n",
    "# print(y_pred_paths[i])\n",
    "\n",
    "# b = np.zeros_like(y_true)\n",
    "# I = np.dstack([y_pred, y_true, b])\n",
    "\n",
    "# plt.figure(figsize=(12,12))\n",
    "# plt.imshow(I)\n",
    "\n",
    "# print(dice_loss(y_true, y_pred))"
   ]
  },
  {
   "cell_type": "code",
   "execution_count": 15,
   "metadata": {},
   "outputs": [
    {
     "data": {
      "text/plain": [
       "0.0002"
      ]
     },
     "execution_count": 15,
     "metadata": {},
     "output_type": "execute_result"
    }
   ],
   "source": [
    "2e-4"
   ]
  },
  {
   "cell_type": "code",
   "execution_count": null,
   "metadata": {},
   "outputs": [],
   "source": [
    "N = len(file_paths)\n",
    "diff = np.zeros(N)\n",
    "for i, f in enumerate(file_paths):\n",
    "    print(\"{}/{}\".format(i+1, N), end='\\r')\n",
    "    img = cv2.imread(f)\n",
    "    b,g,r = cv2.split(img)\n",
    "    \n",
    "    d = np.abs(g-r) > 0\n",
    "    diff[i] = (d.sum())"
   ]
  },
  {
   "cell_type": "code",
   "execution_count": null,
   "metadata": {},
   "outputs": [],
   "source": [
    "# Get well, column, row, frame, time from file name\n",
    "file_names = [os.path.basename(f) for f in file_paths]\n",
    "pattern = re.compile('_(?P<row>[A-Z])(?P<col>\\d+)_(?P<frame>\\d)_(?P<time>.*)\\.png$')\n",
    "metadata = [pattern.search(f).groupdict() for f in file_names]"
   ]
  },
  {
   "cell_type": "code",
   "execution_count": null,
   "metadata": {},
   "outputs": [],
   "source": [
    "df = pd.DataFrame(metadata)\n",
    "df['diff'] = diff\n",
    "df['file'] = file_paths\n",
    "df = df[['time', 'row', 'col', 'frame', 'diff', 'file']]\n",
    "df.head()"
   ]
  },
  {
   "cell_type": "code",
   "execution_count": null,
   "metadata": {},
   "outputs": [],
   "source": [
    "df = df.sort_values(by=['diff'], ascending=False)\n",
    "df.head()"
   ]
  },
  {
   "cell_type": "code",
   "execution_count": null,
   "metadata": {},
   "outputs": [],
   "source": [
    "%matplotlib inline\n",
    "img = cv2.imread(df.loc[1,'file'])\n",
    "img = cv2.cvtColor(img, cv2.COLOR_BGR2RGB)\n",
    "\n",
    "plt.figure(figsize=(12,16))\n",
    "plt.imshow(img)"
   ]
  },
  {
   "cell_type": "code",
   "execution_count": null,
   "metadata": {},
   "outputs": [],
   "source": [
    "img = np.random.rand(1000,1000)*255.\n",
    "print(img.shape)\n",
    "cv2.imwrite('test.png', np.uint8(img))"
   ]
  },
  {
   "cell_type": "code",
   "execution_count": null,
   "metadata": {},
   "outputs": [],
   "source": [
    "\n",
    "\n",
    "\n",
    "\n",
    "\n",
    "\n",
    "\n",
    "\n",
    "\n",
    "\n",
    "\n",
    "\n",
    "\n",
    "\n",
    "\n",
    "\n",
    "\n",
    "\n",
    "\n",
    "\n",
    "\n",
    "\n",
    "\n",
    "\n",
    "\n",
    "\n",
    "\n",
    "\n",
    "\n",
    "\n",
    "\n",
    "\n",
    "\n",
    "\n",
    "\n",
    "\n",
    "\n",
    "\n",
    "\n",
    "\n",
    "\n",
    "\n",
    "\n",
    "\n",
    "\n",
    "\n"
   ]
  }
 ],
 "metadata": {
  "kernelspec": {
   "display_name": "Python 3",
   "language": "python",
   "name": "python3"
  },
  "language_info": {
   "codemirror_mode": {
    "name": "ipython",
    "version": 3
   },
   "file_extension": ".py",
   "mimetype": "text/x-python",
   "name": "python",
   "nbconvert_exporter": "python",
   "pygments_lexer": "ipython3",
   "version": "3.6.8"
  }
 },
 "nbformat": 4,
 "nbformat_minor": 2
}
