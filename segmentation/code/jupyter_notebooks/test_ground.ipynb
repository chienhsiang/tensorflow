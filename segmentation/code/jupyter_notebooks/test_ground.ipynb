{
 "cells": [
  {
   "cell_type": "code",
   "execution_count": null,
   "metadata": {},
   "outputs": [],
   "source": [
    "import tensorflow as tf\n",
    "from tensorflow.keras import layers, losses\n",
    "\n",
    "import numpy as np\n",
    "import cv2\n",
    "import os\n",
    "\n",
    "os.environ['CUDA_VISIBLE_DEVICES'] = '2'\n"
   ]
  },
  {
   "cell_type": "code",
   "execution_count": 3,
   "metadata": {},
   "outputs": [],
   "source": [
    "import os, glob, re, u_net, dataset_configs, data_io"
   ]
  },
  {
   "cell_type": "code",
   "execution_count": 2,
   "metadata": {},
   "outputs": [],
   "source": [
    "import sys, yaml\n",
    "sys.path.append(\"/awlab/users/chsu/WorkSpace/tensorflow/segmentation/code\")"
   ]
  },
  {
   "cell_type": "code",
   "execution_count": 5,
   "metadata": {},
   "outputs": [
    {
     "data": {
      "text/plain": [
       "{'crop_size': None}"
      ]
     },
     "execution_count": 5,
     "metadata": {},
     "output_type": "execute_result"
    }
   ],
   "source": [
    "file = \"/awlab/users/chsu/WorkSpace/tensorflow/segmentation/code/configs/ic_nuc_paper.yaml\"\n",
    "with open(file) as f:\n",
    "    cfg = yaml.safe_load(f)\n",
    "\n",
    "cfg['val_cfg']\n"
   ]
  },
  {
   "cell_type": "code",
   "execution_count": null,
   "metadata": {},
   "outputs": [],
   "source": [
    "task = 'incucyte_nucleus'\n",
    "test_size = 0.2\n",
    "random_state = 423\n",
    "\n",
    "data_cfg = dataset_configs.get_dataset_config(task)\n",
    "data_cfg['match_pattern'] = '_[A-Z]4_4_00d00h'\n",
    "\n",
    "x_train_fnames, x_val_fnames, y_train_fnames, y_val_fnames = \\\n",
    "    data_io.get_data_filenames(**data_cfg, test_size=test_size, random_state=random_state)\n",
    "\n",
    "num_train_data = len(x_train_fnames)\n",
    "num_val_data = len(x_val_fnames)\n",
    "\n",
    "for k in data_cfg:\n",
    "    print(k, ':', data_cfg[k])\n",
    "print()\n",
    "print(\"Number of training samples: {}\".format(num_train_data))\n",
    "print(\"Number of validation samples: {}\".format(num_val_data))"
   ]
  },
  {
   "cell_type": "code",
   "execution_count": null,
   "metadata": {},
   "outputs": [],
   "source": [
    "for f in x_train_fnames + x_val_fnames:\n",
    "    print(os.path.basename(f))"
   ]
  },
  {
   "cell_type": "code",
   "execution_count": null,
   "metadata": {},
   "outputs": [],
   "source": [
    "1048/16"
   ]
  },
  {
   "cell_type": "code",
   "execution_count": null,
   "metadata": {},
   "outputs": [],
   "source": [
    "file_dir = r'/awlab/users/chsu/WorkSpace/tensorflow/segmentation/data/2019028023_PC9_A549_with_nuclear_marker/images'\n",
    "\n",
    "filter_pattern = '_A(?!2)\\d+_1_00d00h'\n",
    "fnames = get_filenames(file_dir, '*.png', filter_pattern)\n",
    "print(len(fnames))\n",
    "\n",
    "for f in fnames:\n",
    "    print(os.path.basename(f))\n"
   ]
  },
  {
   "cell_type": "code",
   "execution_count": null,
   "metadata": {},
   "outputs": [],
   "source": [
    "img = cv2.imread(r'/awlab/users/chsu/WorkSpace/tensorflow/segmentation/data/p2017017086_ki67_merge/images/CH_171219_Vh31_Goldilocks_plate_2017017086_ki67_G9_0000.png')\n",
    "img.max()"
   ]
  },
  {
   "cell_type": "code",
   "execution_count": null,
   "metadata": {},
   "outputs": [],
   "source": [
    "conv_1x1 = layers.Conv2D(3, (1, 1), activation='softmax')\n",
    "\n",
    "x = tf.random.normal([1, 3, 3, 10])\n",
    "y_pred = conv_1x1(x)\n",
    "y_true = tf.random.uniform([1, 3, 3], 0, 3, dtype=tf.int32)\n",
    "y_true = tf.one_hot(y_true, 3)\n",
    "\n",
    "print(y_pred)\n",
    "print(y_true)"
   ]
  },
  {
   "cell_type": "code",
   "execution_count": null,
   "metadata": {},
   "outputs": [],
   "source": [
    "# loss = losses.sparse_categorical_crossentropy(y_true, y_pred)\n",
    "loss = losses.categorical_crossentropy(y_true, y_pred)\n",
    "print(loss)"
   ]
  },
  {
   "cell_type": "code",
   "execution_count": null,
   "metadata": {},
   "outputs": [],
   "source": [
    "L = np.zeros_like(loss)\n",
    "\n",
    "for i in range(L.shape[1]):\n",
    "    for j in range(L.shape[2]):\n",
    "#         c = tf.squeeze(y_true[0,i,j])\n",
    "        c = y_true[0,i,j,:].numpy() == 1.\n",
    "#         print(c)\n",
    "        L[0,i,j] = -tf.math.log(y_pred.numpy()[0,i,j,c])\n",
    "print(L)"
   ]
  },
  {
   "cell_type": "code",
   "execution_count": null,
   "metadata": {},
   "outputs": [],
   "source": [
    "L[:,:,1:]"
   ]
  }
 ],
 "metadata": {
  "kernelspec": {
   "display_name": "Python 3",
   "language": "python",
   "name": "python3"
  },
  "language_info": {
   "codemirror_mode": {
    "name": "ipython",
    "version": 3
   },
   "file_extension": ".py",
   "mimetype": "text/x-python",
   "name": "python",
   "nbconvert_exporter": "python",
   "pygments_lexer": "ipython3",
   "version": "3.6.8"
  }
 },
 "nbformat": 4,
 "nbformat_minor": 2
}
